{
 "cells": [
  {
   "cell_type": "code",
   "execution_count": 4,
   "metadata": {},
   "outputs": [
    {
     "data": {
      "text/html": [
       "<div>\n",
       "<style scoped>\n",
       "    .dataframe tbody tr th:only-of-type {\n",
       "        vertical-align: middle;\n",
       "    }\n",
       "\n",
       "    .dataframe tbody tr th {\n",
       "        vertical-align: top;\n",
       "    }\n",
       "\n",
       "    .dataframe thead th {\n",
       "        text-align: right;\n",
       "    }\n",
       "</style>\n",
       "<table border=\"1\" class=\"dataframe\">\n",
       "  <thead>\n",
       "    <tr style=\"text-align: right;\">\n",
       "      <th></th>\n",
       "      <th>0_pre-RR</th>\n",
       "      <th>0_pPeak</th>\n",
       "      <th>0_rPeak</th>\n",
       "      <th>0_sPeak</th>\n",
       "      <th>0_qt_interval</th>\n",
       "      <th>1_pre-RR</th>\n",
       "      <th>1_qPeak</th>\n",
       "      <th>1_qt_interval</th>\n",
       "      <th>1_qrs_morph0</th>\n",
       "      <th>1_qrs_morph1</th>\n",
       "    </tr>\n",
       "  </thead>\n",
       "  <tbody>\n",
       "    <tr>\n",
       "      <th>0</th>\n",
       "      <td>0.236521</td>\n",
       "      <td>0.250434</td>\n",
       "      <td>0.250434</td>\n",
       "      <td>0.243478</td>\n",
       "      <td>0.236521</td>\n",
       "      <td>0.229564</td>\n",
       "      <td>0.222609</td>\n",
       "      <td>0.222609</td>\n",
       "      <td>0.208695</td>\n",
       "      <td>0.194782</td>\n",
       "    </tr>\n",
       "  </tbody>\n",
       "</table>\n",
       "</div>"
      ],
      "text/plain": [
       "   0_pre-RR   0_pPeak   0_rPeak   0_sPeak  0_qt_interval  1_pre-RR   1_qPeak  \\\n",
       "0  0.236521  0.250434  0.250434  0.243478       0.236521  0.229564  0.222609   \n",
       "\n",
       "   1_qt_interval  1_qrs_morph0  1_qrs_morph1  \n",
       "0       0.222609      0.208695      0.194782  "
      ]
     },
     "metadata": {},
     "output_type": "display_data"
    }
   ],
   "source": [
    "import subprocess\n",
    "import os\n",
    "import pandas as pd\n",
    "from sklearn.preprocessing import RobustScaler\n",
    "ecg_classifier = load_model('ecg_classifier.keras')\n",
    "def run_plotdigitizer(image_path):\n",
    "    command = f'plotdigitizer \"{image_path}\" -p 0,0 -p 2,0 -p 0,1 -l 2,29 -l 4,5 -l 22,5'\n",
    "\n",
    "    output = subprocess.run(command, shell=True, stdout=subprocess.PIPE, stderr=subprocess.PIPE, text=True)\n",
    "\n",
    "    image_path2 = os.path.splitext(image_path)[0] + \".png.traj.csv\"\n",
    "\n",
    "    df = pd.read_csv(image_path2, sep=' ', header=None)\n",
    "    scaler = RobustScaler()\n",
    "    df = pd.DataFrame(scaler.fit_transform(df), columns=df.columns)\n",
    "    # Select only the second column\n",
    "    df = df.iloc[:, 1:2]\n",
    "\n",
    "    # Take the first 10 rows and transpose\n",
    "    df = df.head(10).T.reset_index(drop=True)\n",
    "\n",
    "    # Name each column\n",
    "    df.columns = ['0_pre-RR', '0_pPeak', '0_rPeak', '0_sPeak', '0_qt_interval',\n",
    "                  '1_pre-RR', '1_qPeak', '1_qt_interval', '1_qrs_morph0', '1_qrs_morph1']\n",
    "\n",
    "    # Convert to numerical format\n",
    "    df = df.apply(pd.to_numeric, errors='coerce')\n",
    "    display(df)\n",
    "    predictions = ecg_classifier.predict(df)\n",
    "    # Display the predictions\n",
    "    print(\"Predictions:\")\n",
    "    print(predictions)\n",
    "\n",
    "    # Display the resulting DataFrame with scaled values\n",
    "\n",
    "# Example usage\n",
    "image_path = r\"C:\\Users\\USER\\Desktop\\New folder\\ST-elevation-1024x387.png\"\n",
    "run_plotdigitizer(image_path)\n"
   ]
  }
 ],
 "metadata": {
  "kernelspec": {
   "display_name": "base",
   "language": "python",
   "name": "python3"
  },
  "language_info": {
   "codemirror_mode": {
    "name": "ipython",
    "version": 3
   },
   "file_extension": ".py",
   "mimetype": "text/x-python",
   "name": "python",
   "nbconvert_exporter": "python",
   "pygments_lexer": "ipython3",
   "version": "3.11.5"
  }
 },
 "nbformat": 4,
 "nbformat_minor": 2
}
