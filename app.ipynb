{
 "cells": [
  {
   "cell_type": "code",
   "execution_count": 4,
   "metadata": {},
   "outputs": [
    {
     "name": "stdout",
     "output_type": "stream",
     "text": [
      "WARNING:tensorflow:From c:\\Users\\USER\\AppData\\Local\\Programs\\Python\\Python310\\lib\\site-packages\\keras\\src\\losses.py:2976: The name tf.losses.sparse_softmax_cross_entropy is deprecated. Please use tf.compat.v1.losses.sparse_softmax_cross_entropy instead.\n",
      "\n"
     ]
    }
   ],
   "source": [
    "import os\n",
    "import json\n",
    "import pandas as pd\n",
    "from sklearn.preprocessing import RobustScaler\n",
    "from io import BytesIO\n",
    "import subprocess\n",
    "import numpy as np\n",
    "# Now 'ecg_classifier' contains your loaded model\n",
    "import os\n",
    "\n",
    "from tensorflow.keras.models import load_model"
   ]
  },
  {
   "cell_type": "code",
   "execution_count": 11,
   "metadata": {},
   "outputs": [],
   "source": [
    "model_path = r\"C:\\Users\\USER\\Desktop\\h5\\ecggrad (1).h5\" # Raw string notation for Windows paths\n",
    "model = load_model(model_path)\n",
    "def predict(image_path):\n",
    "    command = f'plotdigitizer \"{image_path}\" -p 0,0 -p 2,0 -p 0,1 -l 2,29 -l 4,5 -l 22,5'\n",
    "    output = subprocess.run(command, shell=True, stdout=subprocess.PIPE, stderr=subprocess.PIPE, text=True)\n",
    "\n",
    "    print(\"STDOUT:\", output.stdout)\n",
    "    print(\"STDERR:\", output.stderr)\n",
    "\n",
    "    if output.returncode != 0:\n",
    "        raise RuntimeError(\"plotdigitizer failed to run correctly\")\n",
    "\n",
    "    image_path2 = os.path.splitext(image_path)[0] + \".jpg.traj.csv\"\n",
    "    if not os.path.exists(image_path2):\n",
    "        raise FileNotFoundError(f\"Expected file not found: {image_path2}\")\n",
    "\n",
    "    df = pd.read_csv(image_path2, sep=' ', header=None)\n",
    "    scaler = RobustScaler()\n",
    "    df = pd.DataFrame(scaler.fit_transform(df), columns=df.columns)\n",
    "    df = df.iloc[:, 1:2]\n",
    "\n",
    "    df = df.head(10).T.reset_index(drop=True)\n",
    "\n",
    "    df.columns = ['0_pre-RR', '0_pPeak', '0_rPeak', '0_sPeak', '0_qt_interval',\n",
    "                  '1_pre-RR', '1_qPeak', '1_qt_interval', '1_qrs_morph0', '1_qrs_morph1']\n",
    "\n",
    "    df = df.apply(pd.to_numeric, errors='coerce')\n",
    "\n",
    "    # Make predictions using the loaded model\n",
    "    predictions = model.predict(df.values) \n",
    "\n",
    "    # Parse predictions\n",
    "    predicted_label_index = np.argmax(predictions)\n",
    "    class_labels = [\"N\", \"VEB\", \"SVEB\", \"Fusion\"]\n",
    "    predicted_label = class_labels[predicted_label_index]\n",
    "    print(f\"The predicted label is: {predicted_label}\")\n"
   ]
  },
  {
   "cell_type": "code",
   "execution_count": 12,
   "metadata": {},
   "outputs": [
    {
     "name": "stdout",
     "output_type": "stream",
     "text": [
      "STDOUT: \n",
      "STDERR: INFO:root:Extracting trajectories from C:\\Users\\USER\\Desktop\\veb\\veb.jpg\n",
      "INFO:root:[(2, 29), (4, 5), (22, 5)] â†’ origin 2, 5\n",
      "INFO:root: 236.6016922361692  36.560834167149366\n",
      "INFO:root:Extracting trajectory for color 0\n",
      "INFO:root:Wrote trajectory to C:\\Users\\USER\\Desktop\\veb\\veb.jpg.traj.csv\n",
      "\n",
      "1/1 [==============================] - 1s 578ms/step\n",
      "The predicted label is: VEB\n"
     ]
    }
   ],
   "source": [
    "predict(r\"C:\\Users\\USER\\Desktop\\veb\\veb.jpg\")"
   ]
  }
 ],
 "metadata": {
  "kernelspec": {
   "display_name": "Python 3",
   "language": "python",
   "name": "python3"
  },
  "language_info": {
   "codemirror_mode": {
    "name": "ipython",
    "version": 3
   },
   "file_extension": ".py",
   "mimetype": "text/x-python",
   "name": "python",
   "nbconvert_exporter": "python",
   "pygments_lexer": "ipython3",
   "version": "3.10.11"
  }
 },
 "nbformat": 4,
 "nbformat_minor": 2
}
