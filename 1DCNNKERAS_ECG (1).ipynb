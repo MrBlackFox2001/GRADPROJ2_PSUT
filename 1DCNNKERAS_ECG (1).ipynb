{
  "cells": [
    {
      "cell_type": "markdown",
      "metadata": {},
      "source": [
        "                        'N': 'Normal',\n",
        "                        'VEB': 'Premature ventricular contraction',\n",
        "                        'SVEB': 'Supraventricular premature beat',\n",
        "                        'F': 'Fusion of ventricular and normal beat'\n"
      ]
    },
    {
      "cell_type": "code",
      "execution_count": 2,
      "metadata": {
        "_cell_guid": "b1076dfc-b9ad-4769-8c92-a6c4dae69d19",
        "_uuid": "8f2839f25d086af736a60e9eeb907d3b93b6e0e5",
        "execution": {
          "iopub.execute_input": "2023-05-16T06:29:59.023134Z",
          "iopub.status.busy": "2023-05-16T06:29:59.022760Z",
          "iopub.status.idle": "2023-05-16T06:29:59.028877Z",
          "shell.execute_reply": "2023-05-16T06:29:59.027813Z",
          "shell.execute_reply.started": "2023-05-16T06:29:59.023099Z"
        },
        "id": "I2uGaS-rvRPx",
        "trusted": true
      },
      "outputs": [],
      "source": [
        "import os\n",
        "import numpy as np\n",
        "import pandas as pd\n",
        "import matplotlib.pyplot as plt\n",
        "from sklearn.model_selection import train_test_split\n",
        "from keras.utils import to_categorical\n",
        "from sklearn.utils import class_weight, resample\n",
        "import seaborn as sns\n",
        "from sklearn import preprocessing\n",
        "from scipy import stats\n",
        "import statsmodels.api as sm\n",
        "from sklearn.metrics import confusion_matrix, accuracy_score\n",
        "from sklearn import metrics\n",
        "from tensorflow.keras import Sequential\n",
        "from tensorflow.keras.layers import Flatten, Dense, Conv1D, MaxPool1D, Dropout\n",
        "from sklearn.preprocessing import LabelEncoder\n",
        "from sklearn.feature_selection import SelectKBest, f_classif\n",
        "from imblearn.over_sampling import SMOTE\n",
        "from keras.models import Sequential\n",
        "from keras.layers import Conv1D, MaxPooling1D, Flatten, Dense, Dropout, GRU\n",
        "from tensorflow.keras.callbacks import EarlyStopping"
      ]
    },
    {
      "cell_type": "code",
      "execution_count": 3,
      "metadata": {},
      "outputs": [],
      "source": [
        "ecg_df=pd.read_csv(\"C:\\\\Users\\\\USER\\\\Desktop\\\\shi\\\\MIT-BIH Arrhythmia Database.csv\")"
      ]
    },
    {
      "cell_type": "markdown",
      "metadata": {},
      "source": [
        "Checking for missing values."
      ]
    },
    {
      "cell_type": "code",
      "execution_count": null,
      "metadata": {},
      "outputs": [],
      "source": [
        "for index, row in ecg_df.iterrows():\n",
        "    for col in ecg_df.columns:\n",
        "        if pd.isnull(row[col]):\n",
        "            print(f\"Missing value in row {index}, column {col}\")"
      ]
    },
    {
      "cell_type": "code",
      "execution_count": null,
      "metadata": {},
      "outputs": [],
      "source": [
        "#ecg_df=ecg_df.dropna()"
      ]
    },
    {
      "cell_type": "markdown",
      "metadata": {},
      "source": [
        "Checking for outliers using boxplot."
      ]
    },
    {
      "cell_type": "code",
      "execution_count": 4,
      "metadata": {},
      "outputs": [
        {
          "name": "stdout",
          "output_type": "stream",
          "text": [
            "              record       0_pre-RR      0_post-RR        0_pPeak  \\\n",
            "count  100689.000000  100689.000000  100689.000000  100689.000000   \n",
            "mean      173.730984     279.400947     278.588207       0.049772   \n",
            "std        51.673158      81.915453      81.124963       0.168789   \n",
            "min       100.000000      11.000000       6.000000      -3.094391   \n",
            "25%       115.000000     230.000000     230.000000      -0.054749   \n",
            "50%       203.000000     267.000000     266.000000       0.015865   \n",
            "75%       219.000000     324.000000     322.000000       0.125809   \n",
            "max       234.000000    2114.000000    2114.000000       3.821118   \n",
            "\n",
            "             0_tPeak        0_rPeak        0_sPeak        0_qPeak  \\\n",
            "count  100689.000000  100689.000000  100689.000000  100689.000000   \n",
            "mean        0.372262       1.054485      -0.134376      -0.090466   \n",
            "std         0.739879       0.617508       1.027590       0.189436   \n",
            "min        -2.006422      -2.372835      -3.622550      -3.871359   \n",
            "25%        -0.249060       0.754047      -0.781784      -0.133274   \n",
            "50%         0.240303       1.105142      -0.516340      -0.069539   \n",
            "75%         0.928176       1.424135       0.857247      -0.014636   \n",
            "max         4.118327       4.018918       4.018918       3.080710   \n",
            "\n",
            "       0_qrs_interval  0_pq_interval  ...        1_qPeak  1_qrs_interval  \\\n",
            "count   100689.000000  100689.000000  ...  100689.000000   100689.000000   \n",
            "mean        28.326858      10.972817  ...      -0.321359       11.212347   \n",
            "std         15.027789       9.468930  ...       0.447444       12.043096   \n",
            "min          0.000000       1.000000  ...      -5.481982        0.000000   \n",
            "25%         18.000000       5.000000  ...      -0.529435        3.000000   \n",
            "50%         27.000000       7.000000  ...      -0.111843        7.000000   \n",
            "75%         38.000000      16.000000  ...      -0.028438       18.000000   \n",
            "max        170.000000     150.000000  ...       4.033554      260.000000   \n",
            "\n",
            "       1_pq_interval  1_qt_interval  1_st_interval   1_qrs_morph0  \\\n",
            "count  100689.000000  100689.000000  100689.000000  100689.000000   \n",
            "mean       10.487163      36.112922      14.413412      -0.321359   \n",
            "std         8.799687      17.419760       9.118872       0.447444   \n",
            "min         1.000000       5.000000       1.000000      -5.481982   \n",
            "25%         5.000000      25.000000      10.000000      -0.529435   \n",
            "50%         8.000000      33.000000      12.000000      -0.111843   \n",
            "75%        13.000000      45.000000      17.000000      -0.028438   \n",
            "max       185.000000     412.000000     215.000000       4.033554   \n",
            "\n",
            "        1_qrs_morph1   1_qrs_morph2   1_qrs_morph3   1_qrs_morph4  \n",
            "count  100689.000000  100689.000000  100689.000000  100689.000000  \n",
            "mean       -0.317836      -0.308809      -0.294919      -0.366798  \n",
            "std         0.456949       0.518043       0.593426       0.584913  \n",
            "min        -4.493784      -4.398122      -4.069726      -4.520327  \n",
            "25%        -0.537288      -0.603469      -0.622269      -0.673902  \n",
            "50%        -0.115650      -0.151890      -0.196801      -0.262222  \n",
            "75%        -0.016348       0.016088       0.040575      -0.052769  \n",
            "max         3.585718       2.691557       3.755566       2.869186  \n",
            "\n",
            "[8 rows x 33 columns]\n"
          ]
        },
        {
          "data": {
            "image/png": "[encoded data removed]",
            "text/plain": [
              "<Figure size 1000x600 with 1 Axes>"
            ]
          },
          "metadata": {},
          "output_type": "display_data"
        },
        {
          "name": "stdout",
          "output_type": "stream",
          "text": [
            "Rows with outliers:\n",
            "        record type  0_pre-RR  0_post-RR   0_pPeak   0_tPeak   0_rPeak  \\\n",
            "0          101    N        76      313.0  0.074347 -0.160548  1.036401   \n",
            "1          101    N       313      315.0 -0.052079 -0.264784  0.886597   \n",
            "8          101    N       313      310.0 -0.061510 -0.257011  1.107787   \n",
            "19         101    N       325      305.0 -0.085598 -0.305134  0.967730   \n",
            "29         101    N       295      307.0 -0.085300 -0.315396  0.971516   \n",
            "...        ...  ...       ...        ...       ...       ...       ...   \n",
            "100446     234    N       234      248.0 -0.106716 -0.399483  1.268158   \n",
            "100463     234    N       241      236.0 -0.125662 -0.420807  1.326422   \n",
            "100535     234    N       232      234.0 -0.102365 -0.424920  1.375149   \n",
            "100544     234    N       237      238.0 -0.114798 -0.406279  1.353587   \n",
            "100547     234  VEB       167      313.0  0.084583  0.305422  0.804059   \n",
            "\n",
            "         0_sPeak   0_qPeak  0_qrs_interval  ...   1_qPeak  1_qrs_interval  \\\n",
            "0      -0.285662 -0.026824              41  ...  0.025930               2   \n",
            "1      -0.366298 -0.059710              21  ... -0.042009              26   \n",
            "8      -0.385508 -0.065044              25  ... -0.029834              21   \n",
            "19     -0.342126 -0.110113              22  ... -0.032161              24   \n",
            "29     -0.353491 -0.098521              22  ... -0.031515              32   \n",
            "...          ...       ...             ...  ...       ...             ...   \n",
            "100446 -0.635054 -0.108784              26  ... -0.093444               0   \n",
            "100463 -0.685494 -0.129774              27  ... -0.083800               1   \n",
            "100535 -0.701108 -0.106101              26  ... -0.085775               3   \n",
            "100544 -0.694220 -0.116592              26  ... -0.068878               2   \n",
            "100547 -0.739412  0.084536              65  ... -0.913394               1   \n",
            "\n",
            "        1_pq_interval  1_qt_interval  1_st_interval  1_qrs_morph0  \\\n",
            "0                  18             22              2      0.025930   \n",
            "1                  27             62              9     -0.042009   \n",
            "8                  31             61              9     -0.029834   \n",
            "19                 28             60              8     -0.032161   \n",
            "29                 26             66              8     -0.031515   \n",
            "...               ...            ...            ...           ...   \n",
            "100446             26             36             10     -0.093444   \n",
            "100463             50             61             10     -0.083800   \n",
            "100535             29             41              9     -0.085775   \n",
            "100544             43             54              9     -0.068878   \n",
            "100547             21             53             31     -0.913394   \n",
            "\n",
            "        1_qrs_morph1  1_qrs_morph2  1_qrs_morph3  1_qrs_morph4  \n",
            "0           0.025930      0.025930      0.025436      0.025436  \n",
            "1          -0.029498      0.005012      0.030892      0.002986  \n",
            "8          -0.020603      0.004411      0.025997      0.015942  \n",
            "19         -0.026734     -0.004073      0.031708      0.011492  \n",
            "29         -0.018355      0.009746      0.022352      0.010254  \n",
            "...              ...           ...           ...           ...  \n",
            "100446     -0.093444     -0.093444     -0.093444     -0.093444  \n",
            "100463     -0.083800     -0.083800     -0.083800     -0.083800  \n",
            "100535     -0.085775     -0.084494     -0.084494     -0.077826  \n",
            "100544     -0.068878     -0.068878     -0.065919     -0.065919  \n",
            "100547     -0.913394     -0.913394     -0.913394     -0.913394  \n",
            "\n",
            "[46243 rows x 34 columns]\n"
          ]
        }
      ],
      "source": [
        "import pandas as pd\n",
        "import seaborn as sns\n",
        "import matplotlib.pyplot as plt\n",
        "\n",
        "# Assuming 'ecg_df' is your DataFrame\n",
        "\n",
        "# Select numerical columns for summary statistics\n",
        "numerical_cols = ecg_df.select_dtypes(include=['number']).columns\n",
        "summary_stats = ecg_df[numerical_cols].describe()\n",
        "print(summary_stats)\n",
        "\n",
        "# Box plot to visualize outliers\n",
        "plt.figure(figsize=(10, 6))\n",
        "sns.boxplot(data=ecg_df[numerical_cols])\n",
        "plt.title(\"Boxplot of ECG DataFrame\")\n",
        "plt.show()\n",
        "\n",
        "# Identify and print rows with outliers using the IQR method\n",
        "Q1 = ecg_df[numerical_cols].quantile(0.25)\n",
        "Q3 = ecg_df[numerical_cols].quantile(0.75)\n",
        "IQR = Q3 - Q1\n",
        "\n",
        "outliers = ((ecg_df[numerical_cols] < (Q1 - 1.5 * IQR)) | (ecg_df[numerical_cols] > (Q3 + 1.5 * IQR))).any(axis=1)\n",
        "outlier_rows = ecg_df[outliers]\n",
        "print(\"Rows with outliers:\")\n",
        "print(outlier_rows)\n"
      ]
    },
    {
      "cell_type": "markdown",
      "metadata": {},
      "source": [
        "Robust Scaling to minimize outliers effect without the overhead of removing the part of the data or replacing it."
      ]
    },
    {
      "cell_type": "code",
      "execution_count": 5,
      "metadata": {},
      "outputs": [
        {
          "name": "stdout",
          "output_type": "stream",
          "text": [
            "<class 'pandas.core.frame.DataFrame'>\n",
            "RangeIndex: 100689 entries, 0 to 100688\n",
            "Data columns (total 34 columns):\n",
            " #   Column          Non-Null Count   Dtype  \n",
            "---  ------          --------------   -----  \n",
            " 0   record          100689 non-null  int64  \n",
            " 1   type            100689 non-null  object \n",
            " 2   0_pre-RR        100689 non-null  int64  \n",
            " 3   0_post-RR       100689 non-null  float64\n",
            " 4   0_pPeak         100689 non-null  float64\n",
            " 5   0_tPeak         100689 non-null  float64\n",
            " 6   0_rPeak         100689 non-null  float64\n",
            " 7   0_sPeak         100689 non-null  float64\n",
            " 8   0_qPeak         100689 non-null  float64\n",
            " 9   0_qrs_interval  100689 non-null  int64  \n",
            " 10  0_pq_interval   100689 non-null  int64  \n",
            " 11  0_qt_interval   100689 non-null  int64  \n",
            " 12  0_st_interval   100689 non-null  int64  \n",
            " 13  0_qrs_morph0    100689 non-null  float64\n",
            " 14  0_qrs_morph1    100689 non-null  float64\n",
            " 15  0_qrs_morph2    100689 non-null  float64\n",
            " 16  0_qrs_morph3    100689 non-null  float64\n",
            " 17  0_qrs_morph4    100689 non-null  float64\n",
            " 18  1_pre-RR        100689 non-null  int64  \n",
            " 19  1_post-RR       100689 non-null  float64\n",
            " 20  1_pPeak         100689 non-null  float64\n",
            " 21  1_tPeak         100689 non-null  float64\n",
            " 22  1_rPeak         100689 non-null  float64\n",
            " 23  1_sPeak         100689 non-null  float64\n",
            " 24  1_qPeak         100689 non-null  float64\n",
            " 25  1_qrs_interval  100689 non-null  int64  \n",
            " 26  1_pq_interval   100689 non-null  int64  \n",
            " 27  1_qt_interval   100689 non-null  int64  \n",
            " 28  1_st_interval   100689 non-null  int64  \n",
            " 29  1_qrs_morph0    100689 non-null  float64\n",
            " 30  1_qrs_morph1    100689 non-null  float64\n",
            " 31  1_qrs_morph2    100689 non-null  float64\n",
            " 32  1_qrs_morph3    100689 non-null  float64\n",
            " 33  1_qrs_morph4    100689 non-null  float64\n",
            "dtypes: float64(22), int64(11), object(1)\n",
            "memory usage: 26.1+ MB\n",
            "None\n"
          ]
        }
      ],
      "source": [
        "print(ecg_df.info())\n",
        "\n",
        "numerical_columns = ecg_df.select_dtypes(include=np.number).columns\n",
        "\n",
        "ecg_df.dropna(subset=numerical_columns, inplace=True)\n",
        "\n",
        "robust_scaler = RobustScaler()\n",
        "\n",
        "ecg_df[numerical_columns] = robust_scaler.fit_transform(ecg_df[numerical_columns])\n"
      ]
    },
    {
      "cell_type": "code",
      "execution_count": 6,
      "metadata": {},
      "outputs": [
        {
          "data": {
            "text/plain": [
              "type\n",
              "N       90083\n",
              "VEB      7009\n",
              "SVEB     2779\n",
              "F         803\n",
              "Q          15\n",
              "Name: count, dtype: int64"
            ]
          },
          "execution_count": 6,
          "metadata": {},
          "output_type": "execute_result"
        }
      ],
      "source": [
        "ecg_df['type'].value_counts()"
      ]
    },
    {
      "cell_type": "markdown",
      "metadata": {},
      "source": [
        "Dropping the Q column due to low quantity."
      ]
    },
    {
      "cell_type": "code",
      "execution_count": 7,
      "metadata": {},
      "outputs": [],
      "source": [
        "mask = ecg_df['type'] =='Q'\n",
        "ecg_df=ecg_df[~mask]"
      ]
    },
    {
      "cell_type": "code",
      "execution_count": 8,
      "metadata": {
        "colab": {
          "base_uri": "https://localhost:8080/",
          "height": 466
        },
        "id": "aTwISbWJvRPz",
        "outputId": "5f36b250-fa48-4f8a-c1cf-ce386449378a"
      },
      "outputs": [
        {
          "data": {
            "text/plain": [
              "<Axes: xlabel='type', ylabel='count'>"
            ]
          },
          "execution_count": 8,
          "metadata": {},
          "output_type": "execute_result"
        },
        {
          "data": {
            "image/png": "[encoded data removed]",
            "text/plain": [
              "<Figure size 640x480 with 1 Axes>"
            ]
          },
          "metadata": {},
          "output_type": "display_data"
        }
      ],
      "source": [
        "sns.countplot(x='type', data = ecg_df)"
      ]
    },
    {
      "cell_type": "markdown",
      "metadata": {},
      "source": [
        "Downsampling"
      ]
    },
    {
      "cell_type": "code",
      "execution_count": 9,
      "metadata": {},
      "outputs": [],
      "source": [
        "import pandas as pd\n",
        "n_rows = ecg_df[ecg_df['type'] == 'N']\n",
        "\n",
        "rows_to_keep = int(len(n_rows) * 0.10)\n",
        "\n",
        "n_rows = n_rows.sample(n=rows_to_keep, random_state=42)\n",
        "\n",
        "ecg_df = ecg_df[ecg_df['type'] != 'N']\n",
        "\n",
        "ecg_df = pd.concat([ecg_df, n_rows])\n"
      ]
    },
    {
      "cell_type": "code",
      "execution_count": 10,
      "metadata": {},
      "outputs": [
        {
          "data": {
            "text/plain": [
              "type\n",
              "N       9008\n",
              "VEB     7009\n",
              "SVEB    2779\n",
              "F        803\n",
              "Name: count, dtype: int64"
            ]
          },
          "execution_count": 10,
          "metadata": {},
          "output_type": "execute_result"
        }
      ],
      "source": [
        "ecg_df['type'].value_counts()"
      ]
    },
    {
      "cell_type": "code",
      "execution_count": 12,
      "metadata": {
        "colab": {
          "base_uri": "https://localhost:8080/"
        },
        "id": "nja-8UtYvRPz",
        "outputId": "0135dfc6-a6f7-496c-e389-b2bc56fe5301"
      },
      "outputs": [
        {
          "name": "stdout",
          "output_type": "stream",
          "text": [
            "Index(['record', 'type', '0_pre-RR', '0_post-RR', '0_pPeak', '0_tPeak',\n",
            "       '0_rPeak', '0_sPeak', '0_qPeak', '0_qrs_interval', '0_pq_interval',\n",
            "       '0_qt_interval', '0_st_interval', '0_qrs_morph0', '0_qrs_morph1',\n",
            "       '0_qrs_morph2', '0_qrs_morph3', '0_qrs_morph4', '1_pre-RR', '1_post-RR',\n",
            "       '1_pPeak', '1_tPeak', '1_rPeak', '1_sPeak', '1_qPeak', '1_qrs_interval',\n",
            "       '1_pq_interval', '1_qt_interval', '1_st_interval', '1_qrs_morph0',\n",
            "       '1_qrs_morph1', '1_qrs_morph2', '1_qrs_morph3', '1_qrs_morph4'],\n",
            "      dtype='object')\n"
          ]
        }
      ],
      "source": [
        "print(ecg_df.columns)"
      ]
    },
    {
      "cell_type": "markdown",
      "metadata": {},
      "source": [
        "Label Encoding for the target variable."
      ]
    },
    {
      "cell_type": "code",
      "execution_count": 13,
      "metadata": {
        "colab": {
          "base_uri": "https://localhost:8080/"
        },
        "id": "jvzu11Q6bvRx",
        "outputId": "fceca359-456c-4205-fc06-850262a83ef6"
      },
      "outputs": [],
      "source": [
        "X = ecg_df.drop('type', axis=1)\n",
        "y = ecg_df['type']\n",
        "lb= LabelEncoder()\n",
        "y=lb.fit_transform(y)"
      ]
    },
    {
      "cell_type": "code",
      "execution_count": 29,
      "metadata": {},
      "outputs": [
        {
          "data": {
            "text/html": [
              "<div>\n",
              "<style scoped>\n",
              "    .dataframe tbody tr th:only-of-type {\n",
              "        vertical-align: middle;\n",
              "    }\n",
              "\n",
              "    .dataframe tbody tr th {\n",
              "        vertical-align: top;\n",
              "    }\n",
              "\n",
              "    .dataframe thead th {\n",
              "        text-align: right;\n",
              "    }\n",
              "</style>\n",
              "<table border=\"1\" class=\"dataframe\">\n",
              "  <thead>\n",
              "    <tr style=\"text-align: right;\">\n",
              "      <th></th>\n",
              "      <th>record</th>\n",
              "      <th>0_pre-RR</th>\n",
              "      <th>0_post-RR</th>\n",
              "      <th>0_pPeak</th>\n",
              "      <th>0_tPeak</th>\n",
              "      <th>0_rPeak</th>\n",
              "      <th>0_sPeak</th>\n",
              "      <th>0_qPeak</th>\n",
              "      <th>0_qrs_interval</th>\n",
              "      <th>0_pq_interval</th>\n",
              "      <th>...</th>\n",
              "      <th>1_qPeak</th>\n",
              "      <th>1_qrs_interval</th>\n",
              "      <th>1_pq_interval</th>\n",
              "      <th>1_qt_interval</th>\n",
              "      <th>1_st_interval</th>\n",
              "      <th>1_qrs_morph0</th>\n",
              "      <th>1_qrs_morph1</th>\n",
              "      <th>1_qrs_morph2</th>\n",
              "      <th>1_qrs_morph3</th>\n",
              "      <th>1_qrs_morph4</th>\n",
              "    </tr>\n",
              "  </thead>\n",
              "  <tbody>\n",
              "    <tr>\n",
              "      <th>420</th>\n",
              "      <td>-0.980769</td>\n",
              "      <td>-0.776596</td>\n",
              "      <td>1.739130</td>\n",
              "      <td>-0.441555</td>\n",
              "      <td>-0.469011</td>\n",
              "      <td>0.266343</td>\n",
              "      <td>0.119755</td>\n",
              "      <td>-0.243794</td>\n",
              "      <td>-0.20</td>\n",
              "      <td>-0.181818</td>\n",
              "      <td>...</td>\n",
              "      <td>0.228382</td>\n",
              "      <td>-0.266667</td>\n",
              "      <td>-0.500</td>\n",
              "      <td>-1.15</td>\n",
              "      <td>-1.285714</td>\n",
              "      <td>0.228382</td>\n",
              "      <td>0.226947</td>\n",
              "      <td>0.246259</td>\n",
              "      <td>0.297931</td>\n",
              "      <td>0.421107</td>\n",
              "    </tr>\n",
              "    <tr>\n",
              "      <th>644</th>\n",
              "      <td>-0.980769</td>\n",
              "      <td>0.702128</td>\n",
              "      <td>1.608696</td>\n",
              "      <td>0.110813</td>\n",
              "      <td>-0.502416</td>\n",
              "      <td>0.284297</td>\n",
              "      <td>0.070290</td>\n",
              "      <td>0.609247</td>\n",
              "      <td>-0.20</td>\n",
              "      <td>-0.181818</td>\n",
              "      <td>...</td>\n",
              "      <td>0.270895</td>\n",
              "      <td>0.600000</td>\n",
              "      <td>-0.625</td>\n",
              "      <td>-0.30</td>\n",
              "      <td>-0.571429</td>\n",
              "      <td>0.270895</td>\n",
              "      <td>0.270943</td>\n",
              "      <td>0.292204</td>\n",
              "      <td>0.331376</td>\n",
              "      <td>0.409789</td>\n",
              "    </tr>\n",
              "    <tr>\n",
              "      <th>1537</th>\n",
              "      <td>-0.980769</td>\n",
              "      <td>-0.319149</td>\n",
              "      <td>2.097826</td>\n",
              "      <td>-0.117868</td>\n",
              "      <td>-0.461914</td>\n",
              "      <td>0.373583</td>\n",
              "      <td>0.117490</td>\n",
              "      <td>-0.301272</td>\n",
              "      <td>-0.25</td>\n",
              "      <td>0.090909</td>\n",
              "      <td>...</td>\n",
              "      <td>0.212115</td>\n",
              "      <td>1.733333</td>\n",
              "      <td>-0.375</td>\n",
              "      <td>0.55</td>\n",
              "      <td>-0.857143</td>\n",
              "      <td>0.212115</td>\n",
              "      <td>0.212151</td>\n",
              "      <td>0.263904</td>\n",
              "      <td>0.335933</td>\n",
              "      <td>0.451676</td>\n",
              "    </tr>\n",
              "    <tr>\n",
              "      <th>1966</th>\n",
              "      <td>-0.932692</td>\n",
              "      <td>-0.712766</td>\n",
              "      <td>-0.956522</td>\n",
              "      <td>-2.296417</td>\n",
              "      <td>0.099841</td>\n",
              "      <td>-0.064934</td>\n",
              "      <td>-0.547229</td>\n",
              "      <td>-2.806294</td>\n",
              "      <td>2.10</td>\n",
              "      <td>-0.272727</td>\n",
              "      <td>...</td>\n",
              "      <td>0.183384</td>\n",
              "      <td>1.133333</td>\n",
              "      <td>0.375</td>\n",
              "      <td>0.75</td>\n",
              "      <td>0.142857</td>\n",
              "      <td>0.183384</td>\n",
              "      <td>0.204919</td>\n",
              "      <td>0.339528</td>\n",
              "      <td>0.319802</td>\n",
              "      <td>-0.505003</td>\n",
              "    </tr>\n",
              "    <tr>\n",
              "      <th>1967</th>\n",
              "      <td>-0.932692</td>\n",
              "      <td>-0.946809</td>\n",
              "      <td>1.793478</td>\n",
              "      <td>4.175346</td>\n",
              "      <td>0.458494</td>\n",
              "      <td>-0.242240</td>\n",
              "      <td>-0.526348</td>\n",
              "      <td>-4.129635</td>\n",
              "      <td>1.55</td>\n",
              "      <td>3.090909</td>\n",
              "      <td>...</td>\n",
              "      <td>-0.717862</td>\n",
              "      <td>-0.133333</td>\n",
              "      <td>1.000</td>\n",
              "      <td>-0.30</td>\n",
              "      <td>-0.857143</td>\n",
              "      <td>-0.717862</td>\n",
              "      <td>-0.677092</td>\n",
              "      <td>-0.489053</td>\n",
              "      <td>-0.353317</td>\n",
              "      <td>-0.217302</td>\n",
              "    </tr>\n",
              "    <tr>\n",
              "      <th>...</th>\n",
              "      <td>...</td>\n",
              "      <td>...</td>\n",
              "      <td>...</td>\n",
              "      <td>...</td>\n",
              "      <td>...</td>\n",
              "      <td>...</td>\n",
              "      <td>...</td>\n",
              "      <td>...</td>\n",
              "      <td>...</td>\n",
              "      <td>...</td>\n",
              "      <td>...</td>\n",
              "      <td>...</td>\n",
              "      <td>...</td>\n",
              "      <td>...</td>\n",
              "      <td>...</td>\n",
              "      <td>...</td>\n",
              "      <td>...</td>\n",
              "      <td>...</td>\n",
              "      <td>...</td>\n",
              "      <td>...</td>\n",
              "      <td>...</td>\n",
              "    </tr>\n",
              "    <tr>\n",
              "      <th>55215</th>\n",
              "      <td>-0.961538</td>\n",
              "      <td>0.563830</td>\n",
              "      <td>0.347826</td>\n",
              "      <td>-0.163105</td>\n",
              "      <td>1.119572</td>\n",
              "      <td>0.624236</td>\n",
              "      <td>1.244500</td>\n",
              "      <td>-0.062728</td>\n",
              "      <td>-0.85</td>\n",
              "      <td>0.000000</td>\n",
              "      <td>...</td>\n",
              "      <td>0.307413</td>\n",
              "      <td>0.733333</td>\n",
              "      <td>-0.625</td>\n",
              "      <td>-0.55</td>\n",
              "      <td>-1.571429</td>\n",
              "      <td>0.307413</td>\n",
              "      <td>0.308275</td>\n",
              "      <td>0.325779</td>\n",
              "      <td>0.417098</td>\n",
              "      <td>0.904152</td>\n",
              "    </tr>\n",
              "    <tr>\n",
              "      <th>26118</th>\n",
              "      <td>-0.019231</td>\n",
              "      <td>3.021277</td>\n",
              "      <td>1.739130</td>\n",
              "      <td>0.122653</td>\n",
              "      <td>0.453789</td>\n",
              "      <td>-0.511402</td>\n",
              "      <td>0.780216</td>\n",
              "      <td>-0.303540</td>\n",
              "      <td>0.65</td>\n",
              "      <td>1.636364</td>\n",
              "      <td>...</td>\n",
              "      <td>-1.138702</td>\n",
              "      <td>-0.266667</td>\n",
              "      <td>0.250</td>\n",
              "      <td>-0.45</td>\n",
              "      <td>-0.142857</td>\n",
              "      <td>-1.138702</td>\n",
              "      <td>-1.087800</td>\n",
              "      <td>-0.978771</td>\n",
              "      <td>-0.847098</td>\n",
              "      <td>-0.867677</td>\n",
              "    </tr>\n",
              "    <tr>\n",
              "      <th>62449</th>\n",
              "      <td>-0.826923</td>\n",
              "      <td>0.936170</td>\n",
              "      <td>0.826087</td>\n",
              "      <td>0.245216</td>\n",
              "      <td>-0.161605</td>\n",
              "      <td>-0.832628</td>\n",
              "      <td>0.010137</td>\n",
              "      <td>-0.030235</td>\n",
              "      <td>-0.25</td>\n",
              "      <td>0.000000</td>\n",
              "      <td>...</td>\n",
              "      <td>0.133812</td>\n",
              "      <td>1.400000</td>\n",
              "      <td>0.000</td>\n",
              "      <td>0.65</td>\n",
              "      <td>-0.285714</td>\n",
              "      <td>0.133812</td>\n",
              "      <td>0.159645</td>\n",
              "      <td>0.382412</td>\n",
              "      <td>1.183900</td>\n",
              "      <td>0.908088</td>\n",
              "    </tr>\n",
              "    <tr>\n",
              "      <th>14107</th>\n",
              "      <td>-0.846154</td>\n",
              "      <td>0.414894</td>\n",
              "      <td>0.282609</td>\n",
              "      <td>-0.250405</td>\n",
              "      <td>1.220082</td>\n",
              "      <td>0.804478</td>\n",
              "      <td>1.318189</td>\n",
              "      <td>0.316427</td>\n",
              "      <td>0.30</td>\n",
              "      <td>-0.272727</td>\n",
              "      <td>...</td>\n",
              "      <td>-0.487500</td>\n",
              "      <td>-0.466667</td>\n",
              "      <td>0.375</td>\n",
              "      <td>-0.60</td>\n",
              "      <td>-0.285714</td>\n",
              "      <td>-0.487500</td>\n",
              "      <td>-0.461529</td>\n",
              "      <td>-0.329571</td>\n",
              "      <td>-0.240295</td>\n",
              "      <td>-0.151105</td>\n",
              "    </tr>\n",
              "    <tr>\n",
              "      <th>80667</th>\n",
              "      <td>0.105769</td>\n",
              "      <td>0.244681</td>\n",
              "      <td>0.456522</td>\n",
              "      <td>0.247900</td>\n",
              "      <td>-0.667784</td>\n",
              "      <td>0.665608</td>\n",
              "      <td>-0.073675</td>\n",
              "      <td>-0.239405</td>\n",
              "      <td>1.40</td>\n",
              "      <td>1.727273</td>\n",
              "      <td>...</td>\n",
              "      <td>-1.212306</td>\n",
              "      <td>-0.400000</td>\n",
              "      <td>0.875</td>\n",
              "      <td>1.00</td>\n",
              "      <td>3.571429</td>\n",
              "      <td>-1.212306</td>\n",
              "      <td>-1.158587</td>\n",
              "      <td>-0.915676</td>\n",
              "      <td>-0.788124</td>\n",
              "      <td>-0.735723</td>\n",
              "    </tr>\n",
              "  </tbody>\n",
              "</table>\n",
              "<p>19599 rows × 33 columns</p>\n",
              "</div>"
            ],
            "text/plain": [
              "         record  0_pre-RR  0_post-RR   0_pPeak   0_tPeak   0_rPeak   0_sPeak  \\\n",
              "420   -0.980769 -0.776596   1.739130 -0.441555 -0.469011  0.266343  0.119755   \n",
              "644   -0.980769  0.702128   1.608696  0.110813 -0.502416  0.284297  0.070290   \n",
              "1537  -0.980769 -0.319149   2.097826 -0.117868 -0.461914  0.373583  0.117490   \n",
              "1966  -0.932692 -0.712766  -0.956522 -2.296417  0.099841 -0.064934 -0.547229   \n",
              "1967  -0.932692 -0.946809   1.793478  4.175346  0.458494 -0.242240 -0.526348   \n",
              "...         ...       ...        ...       ...       ...       ...       ...   \n",
              "55215 -0.961538  0.563830   0.347826 -0.163105  1.119572  0.624236  1.244500   \n",
              "26118 -0.019231  3.021277   1.739130  0.122653  0.453789 -0.511402  0.780216   \n",
              "62449 -0.826923  0.936170   0.826087  0.245216 -0.161605 -0.832628  0.010137   \n",
              "14107 -0.846154  0.414894   0.282609 -0.250405  1.220082  0.804478  1.318189   \n",
              "80667  0.105769  0.244681   0.456522  0.247900 -0.667784  0.665608 -0.073675   \n",
              "\n",
              "        0_qPeak  0_qrs_interval  0_pq_interval  ...   1_qPeak  1_qrs_interval  \\\n",
              "420   -0.243794           -0.20      -0.181818  ...  0.228382       -0.266667   \n",
              "644    0.609247           -0.20      -0.181818  ...  0.270895        0.600000   \n",
              "1537  -0.301272           -0.25       0.090909  ...  0.212115        1.733333   \n",
              "1966  -2.806294            2.10      -0.272727  ...  0.183384        1.133333   \n",
              "1967  -4.129635            1.55       3.090909  ... -0.717862       -0.133333   \n",
              "...         ...             ...            ...  ...       ...             ...   \n",
              "55215 -0.062728           -0.85       0.000000  ...  0.307413        0.733333   \n",
              "26118 -0.303540            0.65       1.636364  ... -1.138702       -0.266667   \n",
              "62449 -0.030235           -0.25       0.000000  ...  0.133812        1.400000   \n",
              "14107  0.316427            0.30      -0.272727  ... -0.487500       -0.466667   \n",
              "80667 -0.239405            1.40       1.727273  ... -1.212306       -0.400000   \n",
              "\n",
              "       1_pq_interval  1_qt_interval  1_st_interval  1_qrs_morph0  \\\n",
              "420           -0.500          -1.15      -1.285714      0.228382   \n",
              "644           -0.625          -0.30      -0.571429      0.270895   \n",
              "1537          -0.375           0.55      -0.857143      0.212115   \n",
              "1966           0.375           0.75       0.142857      0.183384   \n",
              "1967           1.000          -0.30      -0.857143     -0.717862   \n",
              "...              ...            ...            ...           ...   \n",
              "55215         -0.625          -0.55      -1.571429      0.307413   \n",
              "26118          0.250          -0.45      -0.142857     -1.138702   \n",
              "62449          0.000           0.65      -0.285714      0.133812   \n",
              "14107          0.375          -0.60      -0.285714     -0.487500   \n",
              "80667          0.875           1.00       3.571429     -1.212306   \n",
              "\n",
              "       1_qrs_morph1  1_qrs_morph2  1_qrs_morph3  1_qrs_morph4  \n",
              "420        0.226947      0.246259      0.297931      0.421107  \n",
              "644        0.270943      0.292204      0.331376      0.409789  \n",
              "1537       0.212151      0.263904      0.335933      0.451676  \n",
              "1966       0.204919      0.339528      0.319802     -0.505003  \n",
              "1967      -0.677092     -0.489053     -0.353317     -0.217302  \n",
              "...             ...           ...           ...           ...  \n",
              "55215      0.308275      0.325779      0.417098      0.904152  \n",
              "26118     -1.087800     -0.978771     -0.847098     -0.867677  \n",
              "62449      0.159645      0.382412      1.183900      0.908088  \n",
              "14107     -0.461529     -0.329571     -0.240295     -0.151105  \n",
              "80667     -1.158587     -0.915676     -0.788124     -0.735723  \n",
              "\n",
              "[19599 rows x 33 columns]"
            ]
          },
          "execution_count": 29,
          "metadata": {},
          "output_type": "execute_result"
        }
      ],
      "source": [
        "X"
      ]
    },
    {
      "cell_type": "code",
      "execution_count": 30,
      "metadata": {},
      "outputs": [
        {
          "data": {
            "text/plain": [
              "array([2, 2, 2, ..., 1, 1, 1])"
            ]
          },
          "execution_count": 30,
          "metadata": {},
          "output_type": "execute_result"
        }
      ],
      "source": [
        "y"
      ]
    },
    {
      "cell_type": "markdown",
      "metadata": {},
      "source": [
        "Upsampling using SMOTE."
      ]
    },
    {
      "cell_type": "code",
      "execution_count": 14,
      "metadata": {
        "colab": {
          "base_uri": "https://localhost:8080/"
        },
        "id": "wD687kv4hNvz",
        "outputId": "c6156c69-9f62-4aeb-bd49-a2a6278a1392"
      },
      "outputs": [
        {
          "name": "stdout",
          "output_type": "stream",
          "text": [
            "Before SMOTE:\n",
            "1    9008\n",
            "3    7009\n",
            "2    2779\n",
            "0     803\n",
            "Name: count, dtype: int64\n",
            "After SMOTE:\n",
            "2    9008\n",
            "3    9008\n",
            "0    9008\n",
            "1    9008\n",
            "Name: count, dtype: int64\n"
          ]
        }
      ],
      "source": [
        "from imblearn.over_sampling import SMOTE\n",
        "import numpy as np\n",
        "import pandas as pd\n",
        "smote = SMOTE()\n",
        "X_resampled, y_resampled = smote.fit_resample(X, y)\n",
        "print(\"Before SMOTE:\")\n",
        "print(pd.Series(y).value_counts())\n",
        "print(\"After SMOTE:\")\n",
        "print(pd.Series(y_resampled).value_counts())"
      ]
    },
    {
      "cell_type": "markdown",
      "metadata": {},
      "source": [
        "Training the model."
      ]
    },
    {
      "cell_type": "code",
      "execution_count": 15,
      "metadata": {
        "id": "zI4uZDIBvRP0"
      },
      "outputs": [],
      "source": [
        "x_train, x_test, y_train, y_test = train_test_split(X_resampled, y_resampled, test_size=0.3, random_state=42)"
      ]
    },
    {
      "cell_type": "code",
      "execution_count": 17,
      "metadata": {},
      "outputs": [],
      "source": [
        "x_train, x_val, y_train, y_val = train_test_split(x_train, y_train, test_size=0.3, random_state=42)"
      ]
    },
    {
      "cell_type": "markdown",
      "metadata": {},
      "source": [
        "Model Architecture"
      ]
    },
    {
      "cell_type": "code",
      "execution_count": 18,
      "metadata": {
        "id": "Pyd6DJD2vRP0"
      },
      "outputs": [],
      "source": [
        "model = Sequential()\n",
        "\n",
        "model.add(Conv1D(filters=32, kernel_size=3, padding='same', activation='relu', input_shape=(x_train.shape[1], 1)))\n",
        "model.add(Conv1D(filters=64, kernel_size=3, padding='same', activation='relu'))\n",
        "model.add(Conv1D(filters=128, kernel_size=5, padding='same', activation='relu'))\n",
        "\n",
        "model.add(MaxPooling1D(pool_size=3, strides=2, padding='same'))\n",
        "model.add(Dropout(0.2))\n",
        "\n",
        "model.add(Conv1D(filters=256, kernel_size=3, padding='same', activation='relu'))\n",
        "model.add(Conv1D(filters=512, kernel_size=3, padding='same', activation='relu'))\n",
        "model.add(MaxPooling1D(pool_size=3, strides=2, padding='same'))\n",
        "model.add(Dropout(0.2))\n",
        "\n",
        "gru_units = 128 \n",
        "model.add(GRU(gru_units))\n",
        "\n",
        "model.add(Dense(units=512, activation='relu'))\n",
        "model.add(Dropout(0.2))\n",
        "model.add(Dense(units=1024, activation='relu'))\n",
        "model.add(Dropout(0.2))\n",
        "\n",
        "model.add(Flatten())\n",
        "\n",
        "model.add(Dense(units=4, activation='softmax'))\n"
      ]
    },
    {
      "cell_type": "code",
      "execution_count": 19,
      "metadata": {
        "id": "fsnFbHnavRP0"
      },
      "outputs": [],
      "source": [
        "model.compile(optimizer='adam', loss = 'sparse_categorical_crossentropy', metrics=['accuracy'])"
      ]
    },
    {
      "cell_type": "markdown",
      "metadata": {},
      "source": [
        "Fitting with early stopping method to prevent overfitting."
      ]
    },
    {
      "cell_type": "code",
      "execution_count": 21,
      "metadata": {
        "colab": {
          "base_uri": "https://localhost:8080/",
          "height": 355
        },
        "id": "9vwltu-hvRP0",
        "outputId": "abd76d8f-615b-4b96-c516-67a3b0da0cad"
      },
      "outputs": [
        {
          "name": "stdout",
          "output_type": "stream",
          "text": [
            "Epoch 1/50\n",
            "442/442 [==============================] - 15s 34ms/step - loss: 0.5597 - accuracy: 0.7881 - val_loss: 0.2885 - val_accuracy: 0.9058\n",
            "Epoch 2/50\n",
            "442/442 [==============================] - 14s 32ms/step - loss: 0.2468 - accuracy: 0.9187 - val_loss: 0.1706 - val_accuracy: 0.9448\n",
            "Epoch 3/50\n",
            "442/442 [==============================] - 15s 35ms/step - loss: 0.1904 - accuracy: 0.9380 - val_loss: 0.1720 - val_accuracy: 0.9435\n",
            "Epoch 4/50\n",
            "442/442 [==============================] - 15s 34ms/step - loss: 0.1529 - accuracy: 0.9497 - val_loss: 0.1429 - val_accuracy: 0.9562\n",
            "Epoch 5/50\n",
            "442/442 [==============================] - 15s 34ms/step - loss: 0.1294 - accuracy: 0.9584 - val_loss: 0.1290 - val_accuracy: 0.9609\n",
            "Epoch 6/50\n",
            "442/442 [==============================] - 15s 34ms/step - loss: 0.1137 - accuracy: 0.9640 - val_loss: 0.1228 - val_accuracy: 0.9637\n",
            "Epoch 7/50\n",
            "442/442 [==============================] - 15s 34ms/step - loss: 0.0977 - accuracy: 0.9677 - val_loss: 0.1160 - val_accuracy: 0.9666\n",
            "Epoch 8/50\n",
            "442/442 [==============================] - 15s 34ms/step - loss: 0.0865 - accuracy: 0.9710 - val_loss: 0.1132 - val_accuracy: 0.9689\n",
            "Epoch 9/50\n",
            "442/442 [==============================] - 15s 34ms/step - loss: 0.0778 - accuracy: 0.9751 - val_loss: 0.1230 - val_accuracy: 0.9660\n",
            "Epoch 10/50\n",
            "442/442 [==============================] - 15s 34ms/step - loss: 0.0784 - accuracy: 0.9754 - val_loss: 0.1198 - val_accuracy: 0.9673\n",
            "Epoch 11/50\n",
            "442/442 [==============================] - 15s 34ms/step - loss: 0.0650 - accuracy: 0.9790 - val_loss: 0.1071 - val_accuracy: 0.9727\n",
            "Epoch 12/50\n",
            "442/442 [==============================] - 15s 35ms/step - loss: 0.0630 - accuracy: 0.9794 - val_loss: 0.1246 - val_accuracy: 0.9739\n",
            "Epoch 13/50\n",
            "442/442 [==============================] - 15s 34ms/step - loss: 0.0567 - accuracy: 0.9825 - val_loss: 0.1388 - val_accuracy: 0.9653\n",
            "Epoch 14/50\n",
            "442/442 [==============================] - 15s 34ms/step - loss: 0.0534 - accuracy: 0.9831 - val_loss: 0.1282 - val_accuracy: 0.9732\n",
            "Epoch 15/50\n",
            "442/442 [==============================] - 16s 36ms/step - loss: 0.0582 - accuracy: 0.9814 - val_loss: 0.1079 - val_accuracy: 0.9716\n",
            "Epoch 16/50\n",
            "442/442 [==============================] - 16s 36ms/step - loss: 0.0524 - accuracy: 0.9834 - val_loss: 0.1025 - val_accuracy: 0.9741\n",
            "Epoch 17/50\n",
            "442/442 [==============================] - 16s 35ms/step - loss: 0.0487 - accuracy: 0.9837 - val_loss: 0.1353 - val_accuracy: 0.9709\n",
            "Epoch 18/50\n",
            "442/442 [==============================] - 16s 35ms/step - loss: 0.0443 - accuracy: 0.9870 - val_loss: 0.1470 - val_accuracy: 0.9651\n",
            "Epoch 19/50\n",
            "442/442 [==============================] - 16s 36ms/step - loss: 0.0493 - accuracy: 0.9849 - val_loss: 0.1147 - val_accuracy: 0.9737\n",
            "Epoch 20/50\n",
            "442/442 [==============================] - 16s 36ms/step - loss: 0.0448 - accuracy: 0.9848 - val_loss: 0.1222 - val_accuracy: 0.9751\n",
            "Epoch 21/50\n",
            "442/442 [==============================] - 16s 35ms/step - loss: 0.0332 - accuracy: 0.9903 - val_loss: 0.1383 - val_accuracy: 0.9746\n",
            "Epoch 22/50\n",
            "442/442 [==============================] - 16s 35ms/step - loss: 0.0482 - accuracy: 0.9844 - val_loss: 0.1397 - val_accuracy: 0.9711\n",
            "Epoch 23/50\n",
            "442/442 [==============================] - 16s 36ms/step - loss: 0.0377 - accuracy: 0.9887 - val_loss: 0.1329 - val_accuracy: 0.9754\n",
            "Epoch 24/50\n",
            "442/442 [==============================] - 16s 36ms/step - loss: 0.0461 - accuracy: 0.9861 - val_loss: 0.1214 - val_accuracy: 0.9732\n",
            "Epoch 25/50\n",
            "442/442 [==============================] - 16s 35ms/step - loss: 0.0361 - accuracy: 0.9890 - val_loss: 0.1139 - val_accuracy: 0.9749\n",
            "Epoch 26/50\n",
            "442/442 [==============================] - 16s 36ms/step - loss: 0.0292 - accuracy: 0.9910 - val_loss: 0.1724 - val_accuracy: 0.9727\n",
            "Epoch 27/50\n",
            "442/442 [==============================] - 16s 36ms/step - loss: 0.0450 - accuracy: 0.9875 - val_loss: 0.1407 - val_accuracy: 0.9739\n",
            "Epoch 28/50\n",
            "442/442 [==============================] - 16s 36ms/step - loss: 0.0361 - accuracy: 0.9885 - val_loss: 0.1299 - val_accuracy: 0.9756\n",
            "Epoch 29/50\n",
            "442/442 [==============================] - 16s 36ms/step - loss: 0.0355 - accuracy: 0.9880 - val_loss: 0.1375 - val_accuracy: 0.9729\n",
            "Epoch 30/50\n",
            "442/442 [==============================] - 16s 36ms/step - loss: 0.0326 - accuracy: 0.9907 - val_loss: 0.1167 - val_accuracy: 0.9709\n",
            "Epoch 31/50\n",
            "442/442 [==============================] - 16s 36ms/step - loss: 0.0286 - accuracy: 0.9908 - val_loss: 0.1465 - val_accuracy: 0.9732\n",
            "Epoch 32/50\n",
            "442/442 [==============================] - 16s 36ms/step - loss: 0.0350 - accuracy: 0.9889 - val_loss: 0.1645 - val_accuracy: 0.9698\n",
            "Epoch 33/50\n",
            "442/442 [==============================] - 16s 36ms/step - loss: 0.0352 - accuracy: 0.9892 - val_loss: 0.1236 - val_accuracy: 0.9744\n",
            "Epoch 34/50\n",
            "442/442 [==============================] - 16s 36ms/step - loss: 0.0391 - accuracy: 0.9892 - val_loss: 0.1428 - val_accuracy: 0.9756\n",
            "Epoch 35/50\n",
            "442/442 [==============================] - 16s 36ms/step - loss: 0.0251 - accuracy: 0.9927 - val_loss: 0.1641 - val_accuracy: 0.9685\n",
            "Epoch 36/50\n",
            "442/442 [==============================] - 16s 36ms/step - loss: 0.0299 - accuracy: 0.9908 - val_loss: 0.1221 - val_accuracy: 0.9754\n",
            "Epoch 37/50\n",
            "442/442 [==============================] - 16s 36ms/step - loss: 0.0331 - accuracy: 0.9906 - val_loss: 0.1291 - val_accuracy: 0.9742\n",
            "Epoch 38/50\n",
            "442/442 [==============================] - 16s 36ms/step - loss: 0.0314 - accuracy: 0.9914 - val_loss: 0.1511 - val_accuracy: 0.9754\n",
            "Epoch 39/50\n",
            "442/442 [==============================] - 16s 36ms/step - loss: 0.0250 - accuracy: 0.9928 - val_loss: 0.1421 - val_accuracy: 0.9718\n",
            "Epoch 40/50\n",
            "442/442 [==============================] - 16s 35ms/step - loss: 0.0328 - accuracy: 0.9904 - val_loss: 0.1555 - val_accuracy: 0.9737\n",
            "Epoch 41/50\n",
            "442/442 [==============================] - 16s 36ms/step - loss: 0.0281 - accuracy: 0.9919 - val_loss: 0.1439 - val_accuracy: 0.9739\n",
            "Epoch 42/50\n",
            "442/442 [==============================] - 16s 36ms/step - loss: 0.0329 - accuracy: 0.9896 - val_loss: 0.1350 - val_accuracy: 0.9698\n",
            "Epoch 43/50\n",
            "442/442 [==============================] - 16s 36ms/step - loss: 0.0270 - accuracy: 0.9910 - val_loss: 0.1365 - val_accuracy: 0.9772\n",
            "Epoch 44/50\n",
            "442/442 [==============================] - 16s 36ms/step - loss: 0.0287 - accuracy: 0.9922 - val_loss: 0.1295 - val_accuracy: 0.9775\n",
            "Epoch 45/50\n",
            "442/442 [==============================] - 16s 36ms/step - loss: 0.0321 - accuracy: 0.9902 - val_loss: 0.1288 - val_accuracy: 0.9765\n",
            "Epoch 46/50\n",
            "442/442 [==============================] - 16s 36ms/step - loss: 0.0219 - accuracy: 0.9934 - val_loss: 0.1464 - val_accuracy: 0.9800\n",
            "Epoch 47/50\n",
            "442/442 [==============================] - 16s 36ms/step - loss: 0.0237 - accuracy: 0.9931 - val_loss: 0.1623 - val_accuracy: 0.9764\n",
            "Epoch 48/50\n",
            "442/442 [==============================] - 16s 36ms/step - loss: 0.0306 - accuracy: 0.9916 - val_loss: 0.1506 - val_accuracy: 0.9769\n",
            "Epoch 49/50\n",
            "442/442 [==============================] - 16s 36ms/step - loss: 0.0234 - accuracy: 0.9924 - val_loss: 0.1347 - val_accuracy: 0.9789\n",
            "Epoch 50/50\n",
            "442/442 [==============================] - 16s 36ms/step - loss: 0.0301 - accuracy: 0.9902 - val_loss: 0.1598 - val_accuracy: 0.9722\n"
          ]
        }
      ],
      "source": [
        "early_stopping = EarlyStopping(monitor='val_loss', patience=5, restore_best_weights=True)\n",
        "history = model.fit(x_train, y_train, validation_data=(x_val, y_val), epochs=50)"
      ]
    },
    {
      "cell_type": "code",
      "execution_count": 23,
      "metadata": {},
      "outputs": [
        {
          "name": "stderr",
          "output_type": "stream",
          "text": [
            "c:\\Users\\USER\\anaconda3\\Lib\\site-packages\\keras\\src\\engine\\training.py:3079: UserWarning: You are saving your model as an HDF5 file via `model.save()`. This file format is considered legacy. We recommend using instead the native Keras format, e.g. `model.save('my_model.keras')`.\n",
            "  saving_api.save_model(\n"
          ]
        }
      ],
      "source": [
        "model.save('ecg_classifier.h5')"
      ]
    },
    {
      "cell_type": "code",
      "execution_count": 24,
      "metadata": {},
      "outputs": [],
      "source": [
        "from tensorflow import keras\n",
        "model = keras.models.load_model('ecg_classifier.h5')"
      ]
    },
    {
      "cell_type": "markdown",
      "metadata": {},
      "source": [
        "Testing the model on unseen data."
      ]
    },
    {
      "cell_type": "code",
      "execution_count": 25,
      "metadata": {},
      "outputs": [
        {
          "name": "stdout",
          "output_type": "stream",
          "text": [
            "338/338 [==============================] - 3s 8ms/step - loss: 0.1692 - accuracy: 0.9715\n",
            "Test Loss: 0.16917426884174347\n",
            "Test Metrics: [0.9715078473091125]\n"
          ]
        }
      ],
      "source": [
        "results = model.evaluate(x_test, y_test)\n",
        "print(\"Test Loss:\", results[0])\n",
        "print(\"Test Metrics:\", results[1:])"
      ]
    },
    {
      "cell_type": "code",
      "execution_count": 26,
      "metadata": {},
      "outputs": [
        {
          "data": {
            "image/png": "[encoded data removed]",
            "text/plain": [
              "<Figure size 640x480 with 1 Axes>"
            ]
          },
          "metadata": {},
          "output_type": "display_data"
        }
      ],
      "source": [
        "import matplotlib.pyplot as plt\n",
        "\n",
        "plt.plot(history.history['loss'])\n",
        "plt.plot(history.history['val_loss']) \n",
        "plt.legend(['Training', 'Validation'])\n",
        "plt.title(\"Training and validation losses\")\n",
        "plt.xlabel('Epoch')\n",
        "plt.ylabel('Loss')\n",
        "plt.show()\n"
      ]
    },
    {
      "cell_type": "code",
      "execution_count": 27,
      "metadata": {},
      "outputs": [
        {
          "data": {
            "text/plain": [
              "Text(0.5, 0, 'epoch')"
            ]
          },
          "execution_count": 27,
          "metadata": {},
          "output_type": "execute_result"
        },
        {
          "data": {
            "image/png": "[encoded data removed]",
            "text/plain": [
              "<Figure size 640x480 with 1 Axes>"
            ]
          },
          "metadata": {},
          "output_type": "display_data"
        }
      ],
      "source": [
        "plt.plot(history.history['accuracy'])\n",
        "plt.plot(history.history['val_accuracy'])\n",
        "plt.legend(['Training', 'Validation'])\n",
        "plt.title(\"Training and validation accuracy\")\n",
        "plt.xlabel('epoch')"
      ]
    }
  ],
  "metadata": {
    "accelerator": "GPU",
    "colab": {
      "gpuType": "V100",
      "provenance": []
    },
    "kernelspec": {
      "display_name": "Python 3",
      "name": "python3"
    },
    "language_info": {
      "codemirror_mode": {
        "name": "ipython",
        "version": 3
      },
      "file_extension": ".py",
      "mimetype": "text/x-python",
      "name": "python",
      "nbconvert_exporter": "python",
      "pygments_lexer": "ipython3",
      "version": "3.11.5"
    }
  },
  "nbformat": 4,
  "nbformat_minor": 0
}
