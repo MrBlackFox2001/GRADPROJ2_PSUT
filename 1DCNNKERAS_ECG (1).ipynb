{
  "cells": [
    {
      "cell_type": "markdown",
      "metadata": {},
      "source": [
        "                        'N': 'Normal',\n",
        "                        'VEB': 'Premature ventricular contraction',\n",
        "                        'SVEB': 'Supraventricular premature beat',\n",
        "                        'F': 'Fusion of ventricular and normal beat'\n"
      ]
    },
    {
      "cell_type": "code",
      "execution_count": 5,
      "metadata": {
        "_cell_guid": "b1076dfc-b9ad-4769-8c92-a6c4dae69d19",
        "_uuid": "8f2839f25d086af736a60e9eeb907d3b93b6e0e5",
        "execution": {
          "iopub.execute_input": "2023-05-16T06:29:59.023134Z",
          "iopub.status.busy": "2023-05-16T06:29:59.022760Z",
          "iopub.status.idle": "2023-05-16T06:29:59.028877Z",
          "shell.execute_reply": "2023-05-16T06:29:59.027813Z",
          "shell.execute_reply.started": "2023-05-16T06:29:59.023099Z"
        },
        "id": "I2uGaS-rvRPx",
        "trusted": true
      },
      "outputs": [],
      "source": [
        "import os\n",
        "import numpy as np\n",
        "import pandas as pd\n",
        "import matplotlib.pyplot as plt\n",
        "from sklearn.model_selection import train_test_split\n",
        "from keras.utils import to_categorical\n",
        "from sklearn.utils import class_weight, resample\n",
        "import seaborn as sns\n",
        "from sklearn import preprocessing\n",
        "from scipy import stats\n",
        "import statsmodels.api as sm\n",
        "from sklearn.metrics import confusion_matrix, accuracy_score\n",
        "from sklearn import metrics\n",
        "from tensorflow.keras import Sequential\n",
        "from tensorflow.keras.layers import Flatten, Dense, Conv1D, MaxPool1D, Dropout\n",
        "from sklearn.preprocessing import LabelEncoder\n",
        "from sklearn.feature_selection import SelectKBest, f_classif\n",
        "from imblearn.over_sampling import SMOTE\n",
        "from keras.models import Sequential\n",
        "from keras.layers import Conv1D, MaxPooling1D, Flatten, Dense, Dropout, GRU\n",
        "from tensorflow.keras.callbacks import EarlyStopping\n",
        "#import boto3\n",
        "import os\n",
        "import re\n",
        "#import sagemaker\n",
        "from sklearn.preprocessing import RobustScaler"
      ]
    },
    {
      "cell_type": "code",
      "execution_count": 14,
      "metadata": {},
      "outputs": [],
      "source": [
        "ecg_df=pd.read_csv(\"C:\\\\Users\\\\USER\\\\Desktop\\\\shi\\\\MIT-BIH Arrhythmia Database.csv\")"
      ]
    },
    {
      "cell_type": "markdown",
      "metadata": {},
      "source": [
        "Checking for missing values."
      ]
    },
    {
      "cell_type": "code",
      "execution_count": null,
      "metadata": {},
      "outputs": [],
      "source": [
        "for index, row in ecg_df.iterrows():\n",
        "    for col in ecg_df.columns:\n",
        "        if pd.isnull(row[col]):\n",
        "            print(f\"Missing value in row {index}, column {col}\")"
      ]
    },
    {
      "cell_type": "code",
      "execution_count": null,
      "metadata": {},
      "outputs": [],
      "source": [
        "#ecg_df=ecg_df.dropna()"
      ]
    },
    {
      "cell_type": "markdown",
      "metadata": {},
      "source": [
        "Checking for outliers using boxplot."
      ]
    },
    {
      "cell_type": "code",
      "execution_count": 4,
      "metadata": {},
      "outputs": [
        {
          "name": "stdout",
          "output_type": "stream",
          "text": [
            "              record       0_pre-RR      0_post-RR        0_pPeak  \\\n",
            "count  100689.000000  100689.000000  100689.000000  100689.000000   \n",
            "mean      173.730984     279.400947     278.588207       0.049772   \n",
            "std        51.673158      81.915453      81.124963       0.168789   \n",
            "min       100.000000      11.000000       6.000000      -3.094391   \n",
            "25%       115.000000     230.000000     230.000000      -0.054749   \n",
            "50%       203.000000     267.000000     266.000000       0.015865   \n",
            "75%       219.000000     324.000000     322.000000       0.125809   \n",
            "max       234.000000    2114.000000    2114.000000       3.821118   \n",
            "\n",
            "             0_tPeak        0_rPeak        0_sPeak        0_qPeak  \\\n",
            "count  100689.000000  100689.000000  100689.000000  100689.000000   \n",
            "mean        0.372262       1.054485      -0.134376      -0.090466   \n",
            "std         0.739879       0.617508       1.027590       0.189436   \n",
            "min        -2.006422      -2.372835      -3.622550      -3.871359   \n",
            "25%        -0.249060       0.754047      -0.781784      -0.133274   \n",
            "50%         0.240303       1.105142      -0.516340      -0.069539   \n",
            "75%         0.928176       1.424135       0.857247      -0.014636   \n",
            "max         4.118327       4.018918       4.018918       3.080710   \n",
            "\n",
            "       0_qrs_interval  0_pq_interval  ...        1_qPeak  1_qrs_interval  \\\n",
            "count   100689.000000  100689.000000  ...  100689.000000   100689.000000   \n",
            "mean        28.326858      10.972817  ...      -0.321359       11.212347   \n",
            "std         15.027789       9.468930  ...       0.447444       12.043096   \n",
            "min          0.000000       1.000000  ...      -5.481982        0.000000   \n",
            "25%         18.000000       5.000000  ...      -0.529435        3.000000   \n",
            "50%         27.000000       7.000000  ...      -0.111843        7.000000   \n",
            "75%         38.000000      16.000000  ...      -0.028438       18.000000   \n",
            "max        170.000000     150.000000  ...       4.033554      260.000000   \n",
            "\n",
            "       1_pq_interval  1_qt_interval  1_st_interval   1_qrs_morph0  \\\n",
            "count  100689.000000  100689.000000  100689.000000  100689.000000   \n",
            "mean       10.487163      36.112922      14.413412      -0.321359   \n",
            "std         8.799687      17.419760       9.118872       0.447444   \n",
            "min         1.000000       5.000000       1.000000      -5.481982   \n",
            "25%         5.000000      25.000000      10.000000      -0.529435   \n",
            "50%         8.000000      33.000000      12.000000      -0.111843   \n",
            "75%        13.000000      45.000000      17.000000      -0.028438   \n",
            "max       185.000000     412.000000     215.000000       4.033554   \n",
            "\n",
            "        1_qrs_morph1   1_qrs_morph2   1_qrs_morph3   1_qrs_morph4  \n",
            "count  100689.000000  100689.000000  100689.000000  100689.000000  \n",
            "mean       -0.317836      -0.308809      -0.294919      -0.366798  \n",
            "std         0.456949       0.518043       0.593426       0.584913  \n",
            "min        -4.493784      -4.398122      -4.069726      -4.520327  \n",
            "25%        -0.537288      -0.603469      -0.622269      -0.673902  \n",
            "50%        -0.115650      -0.151890      -0.196801      -0.262222  \n",
            "75%        -0.016348       0.016088       0.040575      -0.052769  \n",
            "max         3.585718       2.691557       3.755566       2.869186  \n",
            "\n",
            "[8 rows x 33 columns]\n"
          ]
        },
        {
          "data": {
            "image/png": "[encoded data removed]",
            "text/plain": [
              "<Figure size 1000x600 with 1 Axes>"
            ]
          },
          "metadata": {},
          "output_type": "display_data"
        },
        {
          "name": "stdout",
          "output_type": "stream",
          "text": [
            "Rows with outliers:\n",
            "        record type  0_pre-RR  0_post-RR   0_pPeak   0_tPeak   0_rPeak  \\\n",
            "0          101    N        76      313.0  0.074347 -0.160548  1.036401   \n",
            "1          101    N       313      315.0 -0.052079 -0.264784  0.886597   \n",
            "8          101    N       313      310.0 -0.061510 -0.257011  1.107787   \n",
            "19         101    N       325      305.0 -0.085598 -0.305134  0.967730   \n",
            "29         101    N       295      307.0 -0.085300 -0.315396  0.971516   \n",
            "...        ...  ...       ...        ...       ...       ...       ...   \n",
            "100446     234    N       234      248.0 -0.106716 -0.399483  1.268158   \n",
            "100463     234    N       241      236.0 -0.125662 -0.420807  1.326422   \n",
            "100535     234    N       232      234.0 -0.102365 -0.424920  1.375149   \n",
            "100544     234    N       237      238.0 -0.114798 -0.406279  1.353587   \n",
            "100547     234  VEB       167      313.0  0.084583  0.305422  0.804059   \n",
            "\n",
            "         0_sPeak   0_qPeak  0_qrs_interval  ...   1_qPeak  1_qrs_interval  \\\n",
            "0      -0.285662 -0.026824              41  ...  0.025930               2   \n",
            "1      -0.366298 -0.059710              21  ... -0.042009              26   \n",
            "8      -0.385508 -0.065044              25  ... -0.029834              21   \n",
            "19     -0.342126 -0.110113              22  ... -0.032161              24   \n",
            "29     -0.353491 -0.098521              22  ... -0.031515              32   \n",
            "...          ...       ...             ...  ...       ...             ...   \n",
            "100446 -0.635054 -0.108784              26  ... -0.093444               0   \n",
            "100463 -0.685494 -0.129774              27  ... -0.083800               1   \n",
            "100535 -0.701108 -0.106101              26  ... -0.085775               3   \n",
            "100544 -0.694220 -0.116592              26  ... -0.068878               2   \n",
            "100547 -0.739412  0.084536              65  ... -0.913394               1   \n",
            "\n",
            "        1_pq_interval  1_qt_interval  1_st_interval  1_qrs_morph0  \\\n",
            "0                  18             22              2      0.025930   \n",
            "1                  27             62              9     -0.042009   \n",
            "8                  31             61              9     -0.029834   \n",
            "19                 28             60              8     -0.032161   \n",
            "29                 26             66              8     -0.031515   \n",
            "...               ...            ...            ...           ...   \n",
            "100446             26             36             10     -0.093444   \n",
            "100463             50             61             10     -0.083800   \n",
            "100535             29             41              9     -0.085775   \n",
            "100544             43             54              9     -0.068878   \n",
            "100547             21             53             31     -0.913394   \n",
            "\n",
            "        1_qrs_morph1  1_qrs_morph2  1_qrs_morph3  1_qrs_morph4  \n",
            "0           0.025930      0.025930      0.025436      0.025436  \n",
            "1          -0.029498      0.005012      0.030892      0.002986  \n",
            "8          -0.020603      0.004411      0.025997      0.015942  \n",
            "19         -0.026734     -0.004073      0.031708      0.011492  \n",
            "29         -0.018355      0.009746      0.022352      0.010254  \n",
            "...              ...           ...           ...           ...  \n",
            "100446     -0.093444     -0.093444     -0.093444     -0.093444  \n",
            "100463     -0.083800     -0.083800     -0.083800     -0.083800  \n",
            "100535     -0.085775     -0.084494     -0.084494     -0.077826  \n",
            "100544     -0.068878     -0.068878     -0.065919     -0.065919  \n",
            "100547     -0.913394     -0.913394     -0.913394     -0.913394  \n",
            "\n",
            "[46243 rows x 34 columns]\n"
          ]
        }
      ],
      "source": [
        "import pandas as pd\n",
        "import seaborn as sns\n",
        "import matplotlib.pyplot as plt\n",
        "\n",
        "# Assuming 'ecg_df' is your DataFrame\n",
        "\n",
        "# Select numerical columns for summary statistics\n",
        "numerical_cols = ecg_df.select_dtypes(include=['number']).columns\n",
        "summary_stats = ecg_df[numerical_cols].describe()\n",
        "print(summary_stats)\n",
        "\n",
        "# Box plot to visualize outliers\n",
        "plt.figure(figsize=(10, 6))\n",
        "sns.boxplot(data=ecg_df[numerical_cols])\n",
        "plt.title(\"Boxplot of ECG DataFrame\")\n",
        "plt.show()\n",
        "\n",
        "# Identify and print rows with outliers using the IQR method\n",
        "Q1 = ecg_df[numerical_cols].quantile(0.25)\n",
        "Q3 = ecg_df[numerical_cols].quantile(0.75)\n",
        "IQR = Q3 - Q1\n",
        "\n",
        "outliers = ((ecg_df[numerical_cols] < (Q1 - 1.5 * IQR)) | (ecg_df[numerical_cols] > (Q3 + 1.5 * IQR))).any(axis=1)\n",
        "outlier_rows = ecg_df[outliers]\n",
        "print(\"Rows with outliers:\")\n",
        "print(outlier_rows)\n"
      ]
    },
    {
      "cell_type": "markdown",
      "metadata": {},
      "source": [
        "Robust Scaling to minimize outliers effect without the overhead of removing the part of the data or replacing it."
      ]
    },
    {
      "cell_type": "code",
      "execution_count": 15,
      "metadata": {},
      "outputs": [
        {
          "name": "stdout",
          "output_type": "stream",
          "text": [
            "<class 'pandas.core.frame.DataFrame'>\n",
            "RangeIndex: 100689 entries, 0 to 100688\n",
            "Data columns (total 34 columns):\n",
            " #   Column          Non-Null Count   Dtype  \n",
            "---  ------          --------------   -----  \n",
            " 0   record          100689 non-null  int64  \n",
            " 1   type            100689 non-null  object \n",
            " 2   0_pre-RR        100689 non-null  int64  \n",
            " 3   0_post-RR       100689 non-null  float64\n",
            " 4   0_pPeak         100689 non-null  float64\n",
            " 5   0_tPeak         100689 non-null  float64\n",
            " 6   0_rPeak         100689 non-null  float64\n",
            " 7   0_sPeak         100689 non-null  float64\n",
            " 8   0_qPeak         100689 non-null  float64\n",
            " 9   0_qrs_interval  100689 non-null  int64  \n",
            " 10  0_pq_interval   100689 non-null  int64  \n",
            " 11  0_qt_interval   100689 non-null  int64  \n",
            " 12  0_st_interval   100689 non-null  int64  \n",
            " 13  0_qrs_morph0    100689 non-null  float64\n",
            " 14  0_qrs_morph1    100689 non-null  float64\n",
            " 15  0_qrs_morph2    100689 non-null  float64\n",
            " 16  0_qrs_morph3    100689 non-null  float64\n",
            " 17  0_qrs_morph4    100689 non-null  float64\n",
            " 18  1_pre-RR        100689 non-null  int64  \n",
            " 19  1_post-RR       100689 non-null  float64\n",
            " 20  1_pPeak         100689 non-null  float64\n",
            " 21  1_tPeak         100689 non-null  float64\n",
            " 22  1_rPeak         100689 non-null  float64\n",
            " 23  1_sPeak         100689 non-null  float64\n",
            " 24  1_qPeak         100689 non-null  float64\n",
            " 25  1_qrs_interval  100689 non-null  int64  \n",
            " 26  1_pq_interval   100689 non-null  int64  \n",
            " 27  1_qt_interval   100689 non-null  int64  \n",
            " 28  1_st_interval   100689 non-null  int64  \n",
            " 29  1_qrs_morph0    100689 non-null  float64\n",
            " 30  1_qrs_morph1    100689 non-null  float64\n",
            " 31  1_qrs_morph2    100689 non-null  float64\n",
            " 32  1_qrs_morph3    100689 non-null  float64\n",
            " 33  1_qrs_morph4    100689 non-null  float64\n",
            "dtypes: float64(22), int64(11), object(1)\n",
            "memory usage: 26.1+ MB\n",
            "None\n"
          ]
        }
      ],
      "source": [
        "print(ecg_df.info())\n",
        "\n",
        "numerical_columns = ecg_df.select_dtypes(include=np.number).columns\n",
        "\n",
        "ecg_df.dropna(subset=numerical_columns, inplace=True)\n",
        "\n",
        "robust_scaler = RobustScaler()\n",
        "\n",
        "ecg_df[numerical_columns] = robust_scaler.fit_transform(ecg_df[numerical_columns])\n"
      ]
    },
    {
      "cell_type": "code",
      "execution_count": 8,
      "metadata": {},
      "outputs": [
        {
          "data": {
            "text/plain": [
              "type\n",
              "N       90083\n",
              "VEB      7009\n",
              "SVEB     2779\n",
              "F         803\n",
              "Q          15\n",
              "Name: count, dtype: int64"
            ]
          },
          "execution_count": 8,
          "metadata": {},
          "output_type": "execute_result"
        }
      ],
      "source": [
        "ecg_df['type'].value_counts()"
      ]
    },
    {
      "cell_type": "markdown",
      "metadata": {},
      "source": [
        "Dropping the Q column due to low quantity."
      ]
    },
    {
      "cell_type": "code",
      "execution_count": 16,
      "metadata": {},
      "outputs": [],
      "source": [
        "mask = ecg_df['type'] =='Q'\n",
        "ecg_df=ecg_df[~mask]"
      ]
    },
    {
      "cell_type": "code",
      "execution_count": 8,
      "metadata": {
        "colab": {
          "base_uri": "https://localhost:8080/",
          "height": 466
        },
        "id": "aTwISbWJvRPz",
        "outputId": "5f36b250-fa48-4f8a-c1cf-ce386449378a"
      },
      "outputs": [
        {
          "data": {
            "text/plain": [
              "<Axes: xlabel='type', ylabel='count'>"
            ]
          },
          "execution_count": 8,
          "metadata": {},
          "output_type": "execute_result"
        },
        {
          "data": {
            "image/png": "[encoded data removed]",
            "text/plain": [
              "<Figure size 640x480 with 1 Axes>"
            ]
          },
          "metadata": {},
          "output_type": "display_data"
        }
      ],
      "source": [
        "sns.countplot(x='type', data = ecg_df)"
      ]
    },
    {
      "cell_type": "markdown",
      "metadata": {},
      "source": [
        "Downsampling the leading class."
      ]
    },
    {
      "cell_type": "code",
      "execution_count": 17,
      "metadata": {},
      "outputs": [],
      "source": [
        "import pandas as pd\n",
        "n_rows = ecg_df[ecg_df['type'] == 'N']\n",
        "\n",
        "rows_to_keep = int(len(n_rows) * 0.10)\n",
        "\n",
        "n_rows = n_rows.sample(n=rows_to_keep, random_state=42)\n",
        "\n",
        "ecg_df = ecg_df[ecg_df['type'] != 'N']\n",
        "\n",
        "ecg_df = pd.concat([ecg_df, n_rows])\n"
      ]
    },
    {
      "cell_type": "code",
      "execution_count": 11,
      "metadata": {},
      "outputs": [
        {
          "data": {
            "text/plain": [
              "type\n",
              "N       9008\n",
              "VEB     7009\n",
              "SVEB    2779\n",
              "F        803\n",
              "Name: count, dtype: int64"
            ]
          },
          "execution_count": 11,
          "metadata": {},
          "output_type": "execute_result"
        }
      ],
      "source": [
        "ecg_df['type'].value_counts()"
      ]
    },
    {
      "cell_type": "code",
      "execution_count": 12,
      "metadata": {
        "colab": {
          "base_uri": "https://localhost:8080/"
        },
        "id": "nja-8UtYvRPz",
        "outputId": "0135dfc6-a6f7-496c-e389-b2bc56fe5301"
      },
      "outputs": [
        {
          "name": "stdout",
          "output_type": "stream",
          "text": [
            "Index(['record', 'type', '0_pre-RR', '0_post-RR', '0_pPeak', '0_tPeak',\n",
            "       '0_rPeak', '0_sPeak', '0_qPeak', '0_qrs_interval', '0_pq_interval',\n",
            "       '0_qt_interval', '0_st_interval', '0_qrs_morph0', '0_qrs_morph1',\n",
            "       '0_qrs_morph2', '0_qrs_morph3', '0_qrs_morph4', '1_pre-RR', '1_post-RR',\n",
            "       '1_pPeak', '1_tPeak', '1_rPeak', '1_sPeak', '1_qPeak', '1_qrs_interval',\n",
            "       '1_pq_interval', '1_qt_interval', '1_st_interval', '1_qrs_morph0',\n",
            "       '1_qrs_morph1', '1_qrs_morph2', '1_qrs_morph3', '1_qrs_morph4'],\n",
            "      dtype='object')\n"
          ]
        }
      ],
      "source": [
        "print(ecg_df.columns)"
      ]
    },
    {
      "cell_type": "markdown",
      "metadata": {},
      "source": [
        "Label Encoding for target variable and upsampling using SMOTE for the test data for avoid leakage."
      ]
    },
    {
      "cell_type": "code",
      "execution_count": 18,
      "metadata": {},
      "outputs": [],
      "source": [
        "from sklearn.model_selection import train_test_split\n",
        "from sklearn.ensemble import RandomForestClassifier\n",
        "from imblearn.over_sampling import SMOTE\n",
        "from sklearn.preprocessing import LabelEncoder\n",
        "import pandas as pd\n",
        "\n",
        "\n",
        "X = ecg_df.drop('type', axis=1)\n",
        "y = ecg_df['type']\n",
        "\n",
        "lb = LabelEncoder()\n",
        "y = lb.fit_transform(y)\n",
        "\n",
        "X_train, X_test, y_train, y_test = train_test_split(X, y, test_size=0.3, random_state=42)\n",
        "#upsample\n",
        "smote = SMOTE()\n",
        "X_train_resampled, y_train_resampled = smote.fit_resample(X_train, y_train)"
      ]
    },
    {
      "cell_type": "code",
      "execution_count": 21,
      "metadata": {
        "colab": {
          "base_uri": "https://localhost:8080/"
        },
        "id": "wD687kv4hNvz",
        "outputId": "c6156c69-9f62-4aeb-bd49-a2a6278a1392"
      },
      "outputs": [
        {
          "name": "stdout",
          "output_type": "stream",
          "text": [
            "Before SMOTE:\n",
            "1    6328\n",
            "3    4914\n",
            "2    1895\n",
            "0     582\n",
            "Name: count, dtype: int64\n",
            "After SMOTE:\n",
            "3    6328\n",
            "2    6328\n",
            "1    6328\n",
            "0    6328\n",
            "Name: count, dtype: int64\n"
          ]
        }
      ],
      "source": [
        "X_resampled, y_resampled = smote.fit_resample(X, y)\n",
        "print(\"Before SMOTE:\")\n",
        "print(pd.Series(y_train).value_counts())\n",
        "print(\"After SMOTE:\")\n",
        "print(pd.Series(y_train_resampled).value_counts())"
      ]
    },
    {
      "cell_type": "markdown",
      "metadata": {},
      "source": [
        "Training the model."
      ]
    },
    {
      "cell_type": "code",
      "execution_count": 22,
      "metadata": {
        "id": "zI4uZDIBvRP0"
      },
      "outputs": [],
      "source": [
        "x_train, x_test, y_train, y_test = train_test_split(X_resampled, y_resampled, test_size=0.3, random_state=42)"
      ]
    },
    {
      "cell_type": "code",
      "execution_count": 23,
      "metadata": {},
      "outputs": [],
      "source": [
        "x_train, x_val, y_train, y_val = train_test_split(x_train, y_train, test_size=0.3, random_state=42)"
      ]
    },
    {
      "cell_type": "markdown",
      "metadata": {},
      "source": [
        "Model Architecture"
      ]
    },
    {
      "cell_type": "code",
      "execution_count": 24,
      "metadata": {
        "id": "Pyd6DJD2vRP0"
      },
      "outputs": [],
      "source": [
        "model = Sequential()\n",
        "\n",
        "model.add(Conv1D(filters=32, kernel_size=3, padding='same', activation='relu', input_shape=(x_train.shape[1], 1)))\n",
        "model.add(Conv1D(filters=64, kernel_size=3, padding='same', activation='relu'))\n",
        "model.add(Conv1D(filters=128, kernel_size=5, padding='same', activation='relu'))\n",
        "\n",
        "model.add(MaxPooling1D(pool_size=3, strides=2, padding='same'))\n",
        "model.add(Dropout(0.2))\n",
        "\n",
        "model.add(Conv1D(filters=256, kernel_size=3, padding='same', activation='relu'))\n",
        "model.add(Conv1D(filters=512, kernel_size=3, padding='same', activation='relu'))\n",
        "model.add(MaxPooling1D(pool_size=3, strides=2, padding='same'))\n",
        "model.add(Dropout(0.2))\n",
        "\n",
        "gru_units = 128 \n",
        "model.add(GRU(gru_units))\n",
        "\n",
        "model.add(Dense(units=512, activation='relu'))\n",
        "model.add(Dropout(0.2))\n",
        "model.add(Dense(units=1024, activation='relu'))\n",
        "model.add(Dropout(0.2))\n",
        "\n",
        "model.add(Flatten())\n",
        "\n",
        "model.add(Dense(units=4, activation='softmax'))\n"
      ]
    },
    {
      "cell_type": "code",
      "execution_count": 25,
      "metadata": {
        "id": "fsnFbHnavRP0"
      },
      "outputs": [],
      "source": [
        "model.compile(optimizer='adam', loss = 'sparse_categorical_crossentropy', metrics=['accuracy'])"
      ]
    },
    {
      "cell_type": "markdown",
      "metadata": {},
      "source": [
        "Fitting with early stopping method to prevent overfitting."
      ]
    },
    {
      "cell_type": "code",
      "execution_count": 26,
      "metadata": {
        "colab": {
          "base_uri": "https://localhost:8080/",
          "height": 355
        },
        "id": "9vwltu-hvRP0",
        "outputId": "abd76d8f-615b-4b96-c516-67a3b0da0cad"
      },
      "outputs": [
        {
          "name": "stdout",
          "output_type": "stream",
          "text": [
            "Epoch 1/50\n",
            "552/552 [==============================] - 21s 34ms/step - loss: 0.5847 - accuracy: 0.7714 - val_loss: 0.2771 - val_accuracy: 0.9156\n",
            "Epoch 2/50\n",
            "552/552 [==============================] - 18s 33ms/step - loss: 0.2360 - accuracy: 0.9236 - val_loss: 0.1950 - val_accuracy: 0.9454\n",
            "Epoch 3/50\n",
            "552/552 [==============================] - 19s 35ms/step - loss: 0.1665 - accuracy: 0.9476 - val_loss: 0.1412 - val_accuracy: 0.9574\n",
            "Epoch 4/50\n",
            "552/552 [==============================] - 20s 36ms/step - loss: 0.1371 - accuracy: 0.9560 - val_loss: 0.1935 - val_accuracy: 0.9429\n",
            "Epoch 5/50\n",
            "552/552 [==============================] - 20s 36ms/step - loss: 0.1141 - accuracy: 0.9621 - val_loss: 0.1206 - val_accuracy: 0.9668\n",
            "Epoch 6/50\n",
            "552/552 [==============================] - 20s 36ms/step - loss: 0.1034 - accuracy: 0.9671 - val_loss: 0.1169 - val_accuracy: 0.9672\n",
            "Epoch 7/50\n",
            "552/552 [==============================] - 20s 36ms/step - loss: 0.0891 - accuracy: 0.9721 - val_loss: 0.0970 - val_accuracy: 0.9709\n",
            "Epoch 8/50\n",
            "552/552 [==============================] - 20s 36ms/step - loss: 0.0767 - accuracy: 0.9749 - val_loss: 0.1177 - val_accuracy: 0.9685\n",
            "Epoch 9/50\n",
            "552/552 [==============================] - 20s 36ms/step - loss: 0.0732 - accuracy: 0.9764 - val_loss: 0.1149 - val_accuracy: 0.9699\n",
            "Epoch 10/50\n",
            "552/552 [==============================] - 20s 36ms/step - loss: 0.0642 - accuracy: 0.9791 - val_loss: 0.1080 - val_accuracy: 0.9709\n",
            "Epoch 11/50\n",
            "552/552 [==============================] - 20s 36ms/step - loss: 0.0631 - accuracy: 0.9799 - val_loss: 0.1061 - val_accuracy: 0.9730\n",
            "Epoch 12/50\n",
            "552/552 [==============================] - 20s 36ms/step - loss: 0.0574 - accuracy: 0.9825 - val_loss: 0.0962 - val_accuracy: 0.9741\n",
            "Epoch 13/50\n",
            "552/552 [==============================] - 20s 37ms/step - loss: 0.0579 - accuracy: 0.9827 - val_loss: 0.0982 - val_accuracy: 0.9709\n",
            "Epoch 14/50\n",
            "552/552 [==============================] - 20s 36ms/step - loss: 0.0494 - accuracy: 0.9835 - val_loss: 0.1117 - val_accuracy: 0.9750\n",
            "Epoch 15/50\n",
            "552/552 [==============================] - 20s 36ms/step - loss: 0.0569 - accuracy: 0.9822 - val_loss: 0.1304 - val_accuracy: 0.9725\n",
            "Epoch 16/50\n",
            "552/552 [==============================] - 20s 36ms/step - loss: 0.0493 - accuracy: 0.9848 - val_loss: 0.1211 - val_accuracy: 0.9758\n",
            "Epoch 17/50\n",
            "552/552 [==============================] - 20s 36ms/step - loss: 0.0506 - accuracy: 0.9839 - val_loss: 0.1254 - val_accuracy: 0.9671\n",
            "Epoch 18/50\n",
            "552/552 [==============================] - 20s 36ms/step - loss: 0.0518 - accuracy: 0.9837 - val_loss: 0.1054 - val_accuracy: 0.9713\n",
            "Epoch 19/50\n",
            "552/552 [==============================] - 20s 36ms/step - loss: 0.0362 - accuracy: 0.9884 - val_loss: 0.1081 - val_accuracy: 0.9765\n",
            "Epoch 20/50\n",
            "552/552 [==============================] - 20s 36ms/step - loss: 0.0405 - accuracy: 0.9873 - val_loss: 0.1083 - val_accuracy: 0.9782\n",
            "Epoch 21/50\n",
            "552/552 [==============================] - 20s 36ms/step - loss: 0.0435 - accuracy: 0.9870 - val_loss: 0.1070 - val_accuracy: 0.9767\n",
            "Epoch 22/50\n",
            "552/552 [==============================] - 20s 36ms/step - loss: 0.0354 - accuracy: 0.9890 - val_loss: 0.1123 - val_accuracy: 0.9786\n",
            "Epoch 23/50\n",
            "552/552 [==============================] - 20s 36ms/step - loss: 0.0390 - accuracy: 0.9894 - val_loss: 0.1023 - val_accuracy: 0.9762\n",
            "Epoch 24/50\n",
            "552/552 [==============================] - 20s 36ms/step - loss: 0.0408 - accuracy: 0.9886 - val_loss: 0.1057 - val_accuracy: 0.9762\n",
            "Epoch 25/50\n",
            "552/552 [==============================] - 20s 36ms/step - loss: 0.0366 - accuracy: 0.9897 - val_loss: 0.1396 - val_accuracy: 0.9761\n",
            "Epoch 26/50\n",
            "552/552 [==============================] - 20s 36ms/step - loss: 0.0342 - accuracy: 0.9903 - val_loss: 0.0992 - val_accuracy: 0.9777\n",
            "Epoch 27/50\n",
            "552/552 [==============================] - 20s 36ms/step - loss: 0.0346 - accuracy: 0.9899 - val_loss: 0.1272 - val_accuracy: 0.9759\n",
            "Epoch 28/50\n",
            "552/552 [==============================] - 20s 36ms/step - loss: 0.0332 - accuracy: 0.9904 - val_loss: 0.1164 - val_accuracy: 0.9767\n",
            "Epoch 29/50\n",
            "552/552 [==============================] - 20s 36ms/step - loss: 0.0405 - accuracy: 0.9887 - val_loss: 0.1237 - val_accuracy: 0.9738\n",
            "Epoch 30/50\n",
            "552/552 [==============================] - 20s 36ms/step - loss: 0.0273 - accuracy: 0.9911 - val_loss: 0.1510 - val_accuracy: 0.9758\n",
            "Epoch 31/50\n",
            "552/552 [==============================] - 20s 36ms/step - loss: 0.0327 - accuracy: 0.9906 - val_loss: 0.1449 - val_accuracy: 0.9766\n",
            "Epoch 32/50\n",
            "552/552 [==============================] - 20s 36ms/step - loss: 0.0358 - accuracy: 0.9899 - val_loss: 0.1094 - val_accuracy: 0.9770\n",
            "Epoch 33/50\n",
            "552/552 [==============================] - 20s 36ms/step - loss: 0.0317 - accuracy: 0.9908 - val_loss: 0.1163 - val_accuracy: 0.9779\n",
            "Epoch 34/50\n",
            "552/552 [==============================] - 20s 36ms/step - loss: 0.0263 - accuracy: 0.9917 - val_loss: 0.1384 - val_accuracy: 0.9767\n",
            "Epoch 35/50\n",
            "552/552 [==============================] - 20s 36ms/step - loss: 0.0297 - accuracy: 0.9919 - val_loss: 0.1320 - val_accuracy: 0.9762\n",
            "Epoch 36/50\n",
            "552/552 [==============================] - 20s 36ms/step - loss: 0.0311 - accuracy: 0.9908 - val_loss: 0.1298 - val_accuracy: 0.9758\n",
            "Epoch 37/50\n",
            "552/552 [==============================] - 20s 36ms/step - loss: 0.0284 - accuracy: 0.9911 - val_loss: 0.1508 - val_accuracy: 0.9781\n",
            "Epoch 38/50\n",
            "552/552 [==============================] - 20s 36ms/step - loss: 0.0343 - accuracy: 0.9901 - val_loss: 0.1507 - val_accuracy: 0.9742\n",
            "Epoch 39/50\n",
            "552/552 [==============================] - 20s 36ms/step - loss: 0.0310 - accuracy: 0.9916 - val_loss: 0.1244 - val_accuracy: 0.9767\n",
            "Epoch 40/50\n",
            "552/552 [==============================] - 20s 35ms/step - loss: 0.0288 - accuracy: 0.9916 - val_loss: 0.1384 - val_accuracy: 0.9744\n",
            "Epoch 41/50\n",
            "552/552 [==============================] - 20s 35ms/step - loss: 0.0287 - accuracy: 0.9918 - val_loss: 0.1181 - val_accuracy: 0.9781\n",
            "Epoch 42/50\n",
            "552/552 [==============================] - 20s 36ms/step - loss: 0.0260 - accuracy: 0.9920 - val_loss: 0.1509 - val_accuracy: 0.9807\n",
            "Epoch 43/50\n",
            "552/552 [==============================] - 20s 36ms/step - loss: 0.0305 - accuracy: 0.9907 - val_loss: 0.1211 - val_accuracy: 0.9798\n",
            "Epoch 44/50\n",
            "552/552 [==============================] - 20s 36ms/step - loss: 0.0300 - accuracy: 0.9917 - val_loss: 0.1423 - val_accuracy: 0.9782\n",
            "Epoch 45/50\n",
            "552/552 [==============================] - 20s 35ms/step - loss: 0.0263 - accuracy: 0.9916 - val_loss: 0.1398 - val_accuracy: 0.9787\n",
            "Epoch 46/50\n",
            "552/552 [==============================] - 20s 35ms/step - loss: 0.0279 - accuracy: 0.9917 - val_loss: 0.1199 - val_accuracy: 0.9790\n",
            "Epoch 47/50\n",
            "552/552 [==============================] - 20s 36ms/step - loss: 0.0261 - accuracy: 0.9933 - val_loss: 0.1398 - val_accuracy: 0.9778\n",
            "Epoch 48/50\n",
            "552/552 [==============================] - 20s 36ms/step - loss: 0.0301 - accuracy: 0.9919 - val_loss: 0.1397 - val_accuracy: 0.9800\n",
            "Epoch 49/50\n",
            "552/552 [==============================] - 20s 36ms/step - loss: 0.0299 - accuracy: 0.9910 - val_loss: 0.1204 - val_accuracy: 0.9798\n",
            "Epoch 50/50\n",
            "552/552 [==============================] - 20s 36ms/step - loss: 0.0300 - accuracy: 0.9914 - val_loss: 0.1412 - val_accuracy: 0.9759\n"
          ]
        }
      ],
      "source": [
        "early_stopping = EarlyStopping(monitor='val_loss', patience=5, restore_best_weights=True)\n",
        "history = model.fit(x_train, y_train, validation_data=(x_val, y_val), epochs=50)"
      ]
    },
    {
      "cell_type": "code",
      "execution_count": 27,
      "metadata": {},
      "outputs": [
        {
          "name": "stderr",
          "output_type": "stream",
          "text": [
            "c:\\Users\\USER\\anaconda3\\Lib\\site-packages\\keras\\src\\engine\\training.py:3079: UserWarning: You are saving your model as an HDF5 file via `model.save()`. This file format is considered legacy. We recommend using instead the native Keras format, e.g. `model.save('my_model.keras')`.\n",
            "  saving_api.save_model(\n"
          ]
        }
      ],
      "source": [
        "model.save('ecg_classifier.h5')"
      ]
    },
    {
      "cell_type": "code",
      "execution_count": 28,
      "metadata": {},
      "outputs": [],
      "source": [
        "from tensorflow import keras\n",
        "model = keras.models.load_model('ecg_classifier.h5')"
      ]
    },
    {
      "cell_type": "markdown",
      "metadata": {},
      "source": [
        "Testing the model on unseen data."
      ]
    },
    {
      "cell_type": "code",
      "execution_count": 29,
      "metadata": {},
      "outputs": [
        {
          "name": "stdout",
          "output_type": "stream",
          "text": [
            "338/338 [==============================] - 3s 8ms/step - loss: 0.1354 - accuracy: 0.9768\n",
            "Test Loss: 0.13539735972881317\n",
            "Test Metrics: [0.9767807722091675]\n"
          ]
        }
      ],
      "source": [
        "results = model.evaluate(x_test, y_test)\n",
        "print(\"Test Loss:\", results[0])\n",
        "print(\"Test Metrics:\", results[1:])"
      ]
    },
    {
      "cell_type": "code",
      "execution_count": 33,
      "metadata": {},
      "outputs": [
        {
          "data": {
            "image/png": "[encoded data removed]",
            "text/plain": [
              "<Figure size 640x480 with 1 Axes>"
            ]
          },
          "metadata": {},
          "output_type": "display_data"
        },
        {
          "data": {
            "text/plain": [
              "Text(0.5, 0, 'epoch')"
            ]
          },
          "execution_count": 33,
          "metadata": {},
          "output_type": "execute_result"
        },
        {
          "data": {
            "image/png": "[encoded data removed]",
            "text/plain": [
              "<Figure size 640x480 with 1 Axes>"
            ]
          },
          "metadata": {},
          "output_type": "display_data"
        }
      ],
      "source": [
        "plt.plot(history.history['loss'])\n",
        "plt.plot(history.history['val_loss']) \n",
        "plt.legend(['Training', 'Validation'])\n",
        "plt.title(\"Training and validation losses\")\n",
        "plt.xlabel('Epoch')\n",
        "plt.ylabel('Loss')\n",
        "plt.show()\n",
        "plt.plot(history.history['accuracy'])\n",
        "plt.plot(history.history['val_accuracy'])\n",
        "plt.legend(['Training', 'Validation'])\n",
        "plt.title(\"Training and validation accuracy\")\n",
        "plt.xlabel('epoch')"
      ]
    }
  ],
  "metadata": {
    "accelerator": "GPU",
    "colab": {
      "gpuType": "V100",
      "provenance": []
    },
    "kernelspec": {
      "display_name": "Python 3",
      "name": "python3"
    },
    "language_info": {
      "codemirror_mode": {
        "name": "ipython",
        "version": 3
      },
      "file_extension": ".py",
      "mimetype": "text/x-python",
      "name": "python",
      "nbconvert_exporter": "python",
      "pygments_lexer": "ipython3",
      "version": "3.11.5"
    }
  },
  "nbformat": 4,
  "nbformat_minor": 0
}
