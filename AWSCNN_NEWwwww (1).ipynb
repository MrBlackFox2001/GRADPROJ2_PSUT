{
 "cells": [
  {
   "cell_type": "code",
   "execution_count": 11,
   "id": "c08fd1c5",
   "metadata": {},
   "outputs": [
    {
     "name": "stdout",
     "output_type": "stream",
     "text": [
      "Collecting imblearn\n",
      "  Downloading imblearn-0.0-py2.py3-none-any.whl (1.9 kB)\n",
      "Collecting imbalanced-learn (from imblearn)\n",
      "  Downloading imbalanced_learn-0.11.0-py3-none-any.whl.metadata (8.3 kB)\n",
      "Requirement already satisfied: numpy>=1.17.3 in /home/ec2-user/anaconda3/envs/tensorflow2_p310/lib/python3.10/site-packages (from imbalanced-learn->imblearn) (1.26.1)\n",
      "Requirement already satisfied: scipy>=1.5.0 in /home/ec2-user/anaconda3/envs/tensorflow2_p310/lib/python3.10/site-packages (from imbalanced-learn->imblearn) (1.11.3)\n",
      "Requirement already satisfied: scikit-learn>=1.0.2 in /home/ec2-user/anaconda3/envs/tensorflow2_p310/lib/python3.10/site-packages (from imbalanced-learn->imblearn) (1.3.2)\n",
      "Requirement already satisfied: joblib>=1.1.1 in /home/ec2-user/anaconda3/envs/tensorflow2_p310/lib/python3.10/site-packages (from imbalanced-learn->imblearn) (1.3.2)\n",
      "Requirement already satisfied: threadpoolctl>=2.0.0 in /home/ec2-user/anaconda3/envs/tensorflow2_p310/lib/python3.10/site-packages (from imbalanced-learn->imblearn) (3.2.0)\n",
      "Downloading imbalanced_learn-0.11.0-py3-none-any.whl (235 kB)\n",
      "\u001b[2K   \u001b[90m━━━━━━━━━━━━━━━━━━━━━━━━━━━━━━━━━━━━━━━━\u001b[0m \u001b[32m235.6/235.6 kB\u001b[0m \u001b[31m4.7 MB/s\u001b[0m eta \u001b[36m0:00:00\u001b[0m:00:01\u001b[0m\n",
      "\u001b[?25hInstalling collected packages: imbalanced-learn, imblearn\n",
      "Successfully installed imbalanced-learn-0.11.0 imblearn-0.0\n",
      "Note: you may need to restart the kernel to use updated packages.\n"
     ]
    }
   ],
   "source": [
    "pip install imblearn"
   ]
  },
  {
   "cell_type": "code",
   "execution_count": 1,
   "id": "9a78e058-4c2a-4412-ba1a-4be2b1a24469",
   "metadata": {
    "tags": []
   },
   "outputs": [
    {
     "name": "stdout",
     "output_type": "stream",
     "text": [
      "sagemaker.config INFO - Not applying SDK defaults from location: /etc/xdg/sagemaker/config.yaml\n",
      "sagemaker.config INFO - Not applying SDK defaults from location: /home/ec2-user/.config/sagemaker/config.yaml\n"
     ]
    }
   ],
   "source": [
    "import os\n",
    "import numpy as np\n",
    "import pandas as pd\n",
    "import matplotlib.pyplot as plt\n",
    "from sklearn.model_selection import train_test_split\n",
    "from tensorflow.python.keras  import utils\n",
    "from keras.utils import to_categorical\n",
    "from sklearn.utils import class_weight, resample\n",
    "import pandas as pd\n",
    "import seaborn as sns\n",
    "import matplotlib.pyplot as plt\n",
    "from sklearn import preprocessing\n",
    "from scipy import stats\n",
    "import numpy as np\n",
    "import statsmodels.api as sm\n",
    "from sklearn.model_selection import train_test_split\n",
    "from sklearn.metrics import confusion_matrix, accuracy_score\n",
    "from sklearn import metrics\n",
    "import sagemaker\n",
    "from sagemaker import get_execution_role\n",
    "import pandas as pd\n",
    "from sklearn.preprocessing import LabelEncoder\n"
   ]
  },
  {
   "cell_type": "markdown",
   "id": "b8289377",
   "metadata": {},
   "source": [
    "Data Loading"
   ]
  },
  {
   "cell_type": "code",
   "execution_count": 4,
   "id": "66c31d7b",
   "metadata": {},
   "outputs": [],
   "source": [
    "ecg_df=pd.read_csv(r\"C:\\Users\\USER\\Desktop\\mitbih\\MIT-BIH Arrhythmia Database.csv\")"
   ]
  },
  {
   "cell_type": "markdown",
   "id": "0e0e2a7a",
   "metadata": {},
   "source": [
    "AWS Data Loading"
   ]
  },
  {
   "cell_type": "code",
   "execution_count": 12,
   "id": "85ed3e7d-cba0-48da-b7a6-325f0d6425a1",
   "metadata": {
    "tags": []
   },
   "outputs": [],
   "source": [
    "sagemaker_session = sagemaker.Session()\n",
    "role = get_execution_role()\n",
    "\n",
    "s3_uri = 's3://psutgrad/MIT-BIH Arrhythmia Database.csv'\n",
    "\n",
    "# Download the data to SageMaker instance\n",
    "sagemaker_session.download_data(path='local/path', bucket='psutgrad', key_prefix='MIT-BIH Arrhythmia Database.csv')\n",
    "\n",
    "ecg_df= pd.read_csv('local/path/MIT-BIH Arrhythmia Database.csv')\n",
    "\n"
   ]
  },
  {
   "cell_type": "code",
   "execution_count": 5,
   "id": "7a75b4a1",
   "metadata": {},
   "outputs": [
    {
     "data": {
      "text/html": [
       "<div>\n",
       "<style scoped>\n",
       "    .dataframe tbody tr th:only-of-type {\n",
       "        vertical-align: middle;\n",
       "    }\n",
       "\n",
       "    .dataframe tbody tr th {\n",
       "        vertical-align: top;\n",
       "    }\n",
       "\n",
       "    .dataframe thead th {\n",
       "        text-align: right;\n",
       "    }\n",
       "</style>\n",
       "<table border=\"1\" class=\"dataframe\">\n",
       "  <thead>\n",
       "    <tr style=\"text-align: right;\">\n",
       "      <th></th>\n",
       "      <th>record</th>\n",
       "      <th>type</th>\n",
       "      <th>0_pre-RR</th>\n",
       "      <th>0_post-RR</th>\n",
       "      <th>0_pPeak</th>\n",
       "      <th>0_tPeak</th>\n",
       "      <th>0_rPeak</th>\n",
       "      <th>0_sPeak</th>\n",
       "      <th>0_qPeak</th>\n",
       "      <th>0_qrs_interval</th>\n",
       "      <th>...</th>\n",
       "      <th>1_qPeak</th>\n",
       "      <th>1_qrs_interval</th>\n",
       "      <th>1_pq_interval</th>\n",
       "      <th>1_qt_interval</th>\n",
       "      <th>1_st_interval</th>\n",
       "      <th>1_qrs_morph0</th>\n",
       "      <th>1_qrs_morph1</th>\n",
       "      <th>1_qrs_morph2</th>\n",
       "      <th>1_qrs_morph3</th>\n",
       "      <th>1_qrs_morph4</th>\n",
       "    </tr>\n",
       "  </thead>\n",
       "  <tbody>\n",
       "    <tr>\n",
       "      <th>0</th>\n",
       "      <td>101</td>\n",
       "      <td>N</td>\n",
       "      <td>76</td>\n",
       "      <td>313.0</td>\n",
       "      <td>0.074347</td>\n",
       "      <td>-0.160548</td>\n",
       "      <td>1.036401</td>\n",
       "      <td>-0.285662</td>\n",
       "      <td>-0.026824</td>\n",
       "      <td>41</td>\n",
       "      <td>...</td>\n",
       "      <td>0.025930</td>\n",
       "      <td>2</td>\n",
       "      <td>18</td>\n",
       "      <td>22</td>\n",
       "      <td>2</td>\n",
       "      <td>0.025930</td>\n",
       "      <td>0.025930</td>\n",
       "      <td>0.025930</td>\n",
       "      <td>0.025436</td>\n",
       "      <td>0.025436</td>\n",
       "    </tr>\n",
       "    <tr>\n",
       "      <th>1</th>\n",
       "      <td>101</td>\n",
       "      <td>N</td>\n",
       "      <td>313</td>\n",
       "      <td>315.0</td>\n",
       "      <td>-0.052079</td>\n",
       "      <td>-0.264784</td>\n",
       "      <td>0.886597</td>\n",
       "      <td>-0.366298</td>\n",
       "      <td>-0.059710</td>\n",
       "      <td>21</td>\n",
       "      <td>...</td>\n",
       "      <td>-0.042009</td>\n",
       "      <td>26</td>\n",
       "      <td>27</td>\n",
       "      <td>62</td>\n",
       "      <td>9</td>\n",
       "      <td>-0.042009</td>\n",
       "      <td>-0.029498</td>\n",
       "      <td>0.005012</td>\n",
       "      <td>0.030892</td>\n",
       "      <td>0.002986</td>\n",
       "    </tr>\n",
       "    <tr>\n",
       "      <th>2</th>\n",
       "      <td>101</td>\n",
       "      <td>N</td>\n",
       "      <td>315</td>\n",
       "      <td>321.0</td>\n",
       "      <td>-0.062151</td>\n",
       "      <td>-0.296983</td>\n",
       "      <td>0.991859</td>\n",
       "      <td>-0.410306</td>\n",
       "      <td>-0.065686</td>\n",
       "      <td>22</td>\n",
       "      <td>...</td>\n",
       "      <td>0.009528</td>\n",
       "      <td>3</td>\n",
       "      <td>8</td>\n",
       "      <td>12</td>\n",
       "      <td>1</td>\n",
       "      <td>0.009528</td>\n",
       "      <td>0.009528</td>\n",
       "      <td>0.008786</td>\n",
       "      <td>0.008786</td>\n",
       "      <td>0.008368</td>\n",
       "    </tr>\n",
       "    <tr>\n",
       "      <th>3</th>\n",
       "      <td>101</td>\n",
       "      <td>N</td>\n",
       "      <td>321</td>\n",
       "      <td>336.0</td>\n",
       "      <td>-0.063322</td>\n",
       "      <td>-0.281386</td>\n",
       "      <td>1.034903</td>\n",
       "      <td>-0.403880</td>\n",
       "      <td>-0.071750</td>\n",
       "      <td>22</td>\n",
       "      <td>...</td>\n",
       "      <td>-0.020536</td>\n",
       "      <td>6</td>\n",
       "      <td>9</td>\n",
       "      <td>16</td>\n",
       "      <td>1</td>\n",
       "      <td>-0.020536</td>\n",
       "      <td>-0.020257</td>\n",
       "      <td>-0.018965</td>\n",
       "      <td>-0.016968</td>\n",
       "      <td>-0.014555</td>\n",
       "    </tr>\n",
       "    <tr>\n",
       "      <th>4</th>\n",
       "      <td>101</td>\n",
       "      <td>N</td>\n",
       "      <td>336</td>\n",
       "      <td>344.0</td>\n",
       "      <td>-0.062915</td>\n",
       "      <td>1.046914</td>\n",
       "      <td>1.046408</td>\n",
       "      <td>1.046408</td>\n",
       "      <td>-0.074639</td>\n",
       "      <td>11</td>\n",
       "      <td>...</td>\n",
       "      <td>0.016053</td>\n",
       "      <td>16</td>\n",
       "      <td>5</td>\n",
       "      <td>31</td>\n",
       "      <td>10</td>\n",
       "      <td>0.016053</td>\n",
       "      <td>0.006742</td>\n",
       "      <td>0.002782</td>\n",
       "      <td>-0.007798</td>\n",
       "      <td>-0.051155</td>\n",
       "    </tr>\n",
       "    <tr>\n",
       "      <th>...</th>\n",
       "      <td>...</td>\n",
       "      <td>...</td>\n",
       "      <td>...</td>\n",
       "      <td>...</td>\n",
       "      <td>...</td>\n",
       "      <td>...</td>\n",
       "      <td>...</td>\n",
       "      <td>...</td>\n",
       "      <td>...</td>\n",
       "      <td>...</td>\n",
       "      <td>...</td>\n",
       "      <td>...</td>\n",
       "      <td>...</td>\n",
       "      <td>...</td>\n",
       "      <td>...</td>\n",
       "      <td>...</td>\n",
       "      <td>...</td>\n",
       "      <td>...</td>\n",
       "      <td>...</td>\n",
       "      <td>...</td>\n",
       "      <td>...</td>\n",
       "    </tr>\n",
       "    <tr>\n",
       "      <th>100684</th>\n",
       "      <td>234</td>\n",
       "      <td>N</td>\n",
       "      <td>240</td>\n",
       "      <td>241.0</td>\n",
       "      <td>-0.110230</td>\n",
       "      <td>1.420339</td>\n",
       "      <td>1.403346</td>\n",
       "      <td>1.403346</td>\n",
       "      <td>-0.115682</td>\n",
       "      <td>14</td>\n",
       "      <td>...</td>\n",
       "      <td>-0.069234</td>\n",
       "      <td>5</td>\n",
       "      <td>6</td>\n",
       "      <td>20</td>\n",
       "      <td>9</td>\n",
       "      <td>-0.069234</td>\n",
       "      <td>-0.068378</td>\n",
       "      <td>-0.065373</td>\n",
       "      <td>-0.060779</td>\n",
       "      <td>-0.054383</td>\n",
       "    </tr>\n",
       "    <tr>\n",
       "      <th>100685</th>\n",
       "      <td>234</td>\n",
       "      <td>N</td>\n",
       "      <td>241</td>\n",
       "      <td>243.0</td>\n",
       "      <td>-0.119014</td>\n",
       "      <td>1.424782</td>\n",
       "      <td>1.420328</td>\n",
       "      <td>1.420328</td>\n",
       "      <td>-0.134406</td>\n",
       "      <td>13</td>\n",
       "      <td>...</td>\n",
       "      <td>-0.069530</td>\n",
       "      <td>7</td>\n",
       "      <td>5</td>\n",
       "      <td>20</td>\n",
       "      <td>8</td>\n",
       "      <td>-0.069530</td>\n",
       "      <td>-0.069290</td>\n",
       "      <td>-0.066317</td>\n",
       "      <td>-0.053437</td>\n",
       "      <td>-0.045120</td>\n",
       "    </tr>\n",
       "    <tr>\n",
       "      <th>100686</th>\n",
       "      <td>234</td>\n",
       "      <td>N</td>\n",
       "      <td>243</td>\n",
       "      <td>252.0</td>\n",
       "      <td>0.173524</td>\n",
       "      <td>-0.443214</td>\n",
       "      <td>1.436878</td>\n",
       "      <td>-0.714642</td>\n",
       "      <td>-0.136431</td>\n",
       "      <td>38</td>\n",
       "      <td>...</td>\n",
       "      <td>-0.089396</td>\n",
       "      <td>9</td>\n",
       "      <td>7</td>\n",
       "      <td>24</td>\n",
       "      <td>8</td>\n",
       "      <td>-0.089396</td>\n",
       "      <td>-0.088155</td>\n",
       "      <td>-0.078611</td>\n",
       "      <td>-0.066763</td>\n",
       "      <td>-0.058650</td>\n",
       "    </tr>\n",
       "    <tr>\n",
       "      <th>100687</th>\n",
       "      <td>234</td>\n",
       "      <td>N</td>\n",
       "      <td>252</td>\n",
       "      <td>244.0</td>\n",
       "      <td>-0.119820</td>\n",
       "      <td>-0.401522</td>\n",
       "      <td>1.337051</td>\n",
       "      <td>-0.688560</td>\n",
       "      <td>-0.125076</td>\n",
       "      <td>27</td>\n",
       "      <td>...</td>\n",
       "      <td>-0.065487</td>\n",
       "      <td>3</td>\n",
       "      <td>1</td>\n",
       "      <td>12</td>\n",
       "      <td>8</td>\n",
       "      <td>-0.065487</td>\n",
       "      <td>-0.065487</td>\n",
       "      <td>-0.064941</td>\n",
       "      <td>-0.064941</td>\n",
       "      <td>-0.061120</td>\n",
       "    </tr>\n",
       "    <tr>\n",
       "      <th>100688</th>\n",
       "      <td>234</td>\n",
       "      <td>N</td>\n",
       "      <td>244</td>\n",
       "      <td>236.0</td>\n",
       "      <td>0.162909</td>\n",
       "      <td>1.416672</td>\n",
       "      <td>1.409440</td>\n",
       "      <td>1.409440</td>\n",
       "      <td>-0.118397</td>\n",
       "      <td>28</td>\n",
       "      <td>...</td>\n",
       "      <td>-0.078260</td>\n",
       "      <td>5</td>\n",
       "      <td>8</td>\n",
       "      <td>21</td>\n",
       "      <td>8</td>\n",
       "      <td>-0.078260</td>\n",
       "      <td>-0.077918</td>\n",
       "      <td>-0.075665</td>\n",
       "      <td>-0.070433</td>\n",
       "      <td>-0.060190</td>\n",
       "    </tr>\n",
       "  </tbody>\n",
       "</table>\n",
       "<p>100689 rows × 34 columns</p>\n",
       "</div>"
      ],
      "text/plain": [
       "        record type  0_pre-RR  0_post-RR   0_pPeak   0_tPeak   0_rPeak  \\\n",
       "0          101    N        76      313.0  0.074347 -0.160548  1.036401   \n",
       "1          101    N       313      315.0 -0.052079 -0.264784  0.886597   \n",
       "2          101    N       315      321.0 -0.062151 -0.296983  0.991859   \n",
       "3          101    N       321      336.0 -0.063322 -0.281386  1.034903   \n",
       "4          101    N       336      344.0 -0.062915  1.046914  1.046408   \n",
       "...        ...  ...       ...        ...       ...       ...       ...   \n",
       "100684     234    N       240      241.0 -0.110230  1.420339  1.403346   \n",
       "100685     234    N       241      243.0 -0.119014  1.424782  1.420328   \n",
       "100686     234    N       243      252.0  0.173524 -0.443214  1.436878   \n",
       "100687     234    N       252      244.0 -0.119820 -0.401522  1.337051   \n",
       "100688     234    N       244      236.0  0.162909  1.416672  1.409440   \n",
       "\n",
       "         0_sPeak   0_qPeak  0_qrs_interval  ...   1_qPeak  1_qrs_interval  \\\n",
       "0      -0.285662 -0.026824              41  ...  0.025930               2   \n",
       "1      -0.366298 -0.059710              21  ... -0.042009              26   \n",
       "2      -0.410306 -0.065686              22  ...  0.009528               3   \n",
       "3      -0.403880 -0.071750              22  ... -0.020536               6   \n",
       "4       1.046408 -0.074639              11  ...  0.016053              16   \n",
       "...          ...       ...             ...  ...       ...             ...   \n",
       "100684  1.403346 -0.115682              14  ... -0.069234               5   \n",
       "100685  1.420328 -0.134406              13  ... -0.069530               7   \n",
       "100686 -0.714642 -0.136431              38  ... -0.089396               9   \n",
       "100687 -0.688560 -0.125076              27  ... -0.065487               3   \n",
       "100688  1.409440 -0.118397              28  ... -0.078260               5   \n",
       "\n",
       "        1_pq_interval  1_qt_interval  1_st_interval  1_qrs_morph0  \\\n",
       "0                  18             22              2      0.025930   \n",
       "1                  27             62              9     -0.042009   \n",
       "2                   8             12              1      0.009528   \n",
       "3                   9             16              1     -0.020536   \n",
       "4                   5             31             10      0.016053   \n",
       "...               ...            ...            ...           ...   \n",
       "100684              6             20              9     -0.069234   \n",
       "100685              5             20              8     -0.069530   \n",
       "100686              7             24              8     -0.089396   \n",
       "100687              1             12              8     -0.065487   \n",
       "100688              8             21              8     -0.078260   \n",
       "\n",
       "        1_qrs_morph1  1_qrs_morph2  1_qrs_morph3  1_qrs_morph4  \n",
       "0           0.025930      0.025930      0.025436      0.025436  \n",
       "1          -0.029498      0.005012      0.030892      0.002986  \n",
       "2           0.009528      0.008786      0.008786      0.008368  \n",
       "3          -0.020257     -0.018965     -0.016968     -0.014555  \n",
       "4           0.006742      0.002782     -0.007798     -0.051155  \n",
       "...              ...           ...           ...           ...  \n",
       "100684     -0.068378     -0.065373     -0.060779     -0.054383  \n",
       "100685     -0.069290     -0.066317     -0.053437     -0.045120  \n",
       "100686     -0.088155     -0.078611     -0.066763     -0.058650  \n",
       "100687     -0.065487     -0.064941     -0.064941     -0.061120  \n",
       "100688     -0.077918     -0.075665     -0.070433     -0.060190  \n",
       "\n",
       "[100689 rows x 34 columns]"
      ]
     },
     "execution_count": 5,
     "metadata": {},
     "output_type": "execute_result"
    }
   ],
   "source": [
    "ecg_df"
   ]
  },
  {
   "cell_type": "code",
   "execution_count": 3,
   "id": "13d62d85",
   "metadata": {},
   "outputs": [],
   "source": [
    "from scipy.stats import spearmanr\n"
   ]
  },
  {
   "cell_type": "markdown",
   "id": "90ae685f",
   "metadata": {},
   "source": [
    "Checking for Correlation (Pearson vs kendall tau ( handles outliers better due to ranking ))"
   ]
  },
  {
   "cell_type": "code",
   "execution_count": 25,
   "id": "354d081d",
   "metadata": {},
   "outputs": [
    {
     "name": "stdout",
     "output_type": "stream",
     "text": [
      "0_pre-RR          0.024558\n",
      "0_post-RR        -0.026548\n",
      "0_pPeak           0.008271\n",
      "0_tPeak          -0.114181\n",
      "0_rPeak          -0.136878\n",
      "0_sPeak          -0.081515\n",
      "0_qPeak          -0.050571\n",
      "0_qrs_interval    0.018630\n",
      "0_pq_interval     0.112585\n",
      "0_qt_interval     0.147019\n",
      "0_st_interval     0.163463\n",
      "0_qrs_morph0     -0.050571\n",
      "0_qrs_morph1     -0.012297\n",
      "0_qrs_morph2      0.030095\n",
      "0_qrs_morph3     -0.069901\n",
      "0_qrs_morph4     -0.142652\n",
      "1_pre-RR          0.024558\n",
      "1_post-RR        -0.026548\n",
      "1_pPeak          -0.081184\n",
      "1_tPeak          -0.062652\n",
      "1_rPeak          -0.037891\n",
      "1_sPeak           0.192179\n",
      "1_qPeak           0.096307\n",
      "1_qrs_interval   -0.028683\n",
      "1_pq_interval     0.046039\n",
      "1_qt_interval     0.029965\n",
      "1_st_interval     0.050799\n",
      "1_qrs_morph0      0.096307\n",
      "1_qrs_morph1      0.079644\n",
      "1_qrs_morph2      0.041493\n",
      "1_qrs_morph3      0.024639\n",
      "1_qrs_morph4      0.076302\n",
      "Target            1.000000\n",
      "Name: Target, dtype: float64\n"
     ]
    }
   ],
   "source": [
    "X = ecg_df.drop('type', axis=1)\n",
    "lb = LabelEncoder()\n",
    "y = lb.fit_transform(ecg_df['type'])\n",
    "combined_df = pd.concat([X, pd.Series(y, name='Target')], axis=1)\n",
    "correlation_with_target = combined_df.corr()['Target'] # Pearson correlation\n",
    "print(correlation_with_target)"
   ]
  },
  {
   "cell_type": "code",
   "execution_count": 27,
   "id": "62edcaca",
   "metadata": {},
   "outputs": [
    {
     "name": "stdout",
     "output_type": "stream",
     "text": [
      "           Feature  Kendall_Correlation\n",
      "0         0_pre-RR            -0.426706\n",
      "1        0_post-RR             0.147061\n",
      "2          0_pPeak             0.276409\n",
      "3          0_tPeak             0.108775\n",
      "4          0_rPeak            -0.257272\n",
      "5          0_sPeak            -0.240446\n",
      "6          0_qPeak            -0.038520\n",
      "7   0_qrs_interval             0.008513\n",
      "8    0_pq_interval             0.139918\n",
      "9    0_qt_interval             0.173623\n",
      "10   0_st_interval             0.202168\n",
      "11    0_qrs_morph0            -0.038520\n",
      "12    0_qrs_morph1            -0.093713\n",
      "13    0_qrs_morph2            -0.156392\n",
      "14    0_qrs_morph3            -0.176152\n",
      "15    0_qrs_morph4            -0.183792\n",
      "16        1_pre-RR            -0.426706\n",
      "17       1_post-RR             0.147061\n",
      "18         1_pPeak            -0.036160\n",
      "19         1_tPeak             0.139426\n",
      "20         1_rPeak             0.020766\n",
      "21         1_sPeak             0.003461\n",
      "22         1_qPeak            -0.048077\n",
      "23  1_qrs_interval             0.086023\n",
      "24   1_pq_interval             0.181624\n",
      "25   1_qt_interval             0.268213\n",
      "26   1_st_interval             0.136760\n",
      "27    1_qrs_morph0            -0.048077\n",
      "28    1_qrs_morph1            -0.028049\n",
      "29    1_qrs_morph2            -0.007488\n",
      "30    1_qrs_morph3            -0.003251\n",
      "31    1_qrs_morph4            -0.025778\n"
     ]
    }
   ],
   "source": [
    "from scipy.stats import kendalltau\n",
    "\n",
    "X = ecg_df.drop('type', axis=1)\n",
    "\n",
    "# Calculate Kendall Tau correlation for each feature\n",
    "kendall_corr_results = {}\n",
    "\n",
    "for column in X.columns:\n",
    "    tau, _ = kendalltau(X[column], ecg_df['type'])\n",
    "    kendall_corr_results[column] = tau\n",
    "\n",
    "# Convert results to a DataFrame for better display\n",
    "kendall_corr_df = pd.DataFrame(list(kendall_corr_results.items()), columns=['Feature', 'Kendall_Correlation'])\n",
    "\n",
    "# Print the results\n",
    "print(kendall_corr_df)"
   ]
  },
  {
   "cell_type": "markdown",
   "id": "f9ff00c9",
   "metadata": {},
   "source": [
    "Checking For Outliers"
   ]
  },
  {
   "cell_type": "code",
   "execution_count": 4,
   "id": "70964a40",
   "metadata": {},
   "outputs": [
    {
     "name": "stdout",
     "output_type": "stream",
     "text": [
      "              record       0_pre-RR      0_post-RR        0_pPeak  \\\n",
      "count  100689.000000  100689.000000  100689.000000  100689.000000   \n",
      "mean      173.730984     279.400947     278.588207       0.049772   \n",
      "std        51.673158      81.915453      81.124963       0.168789   \n",
      "min       100.000000      11.000000       6.000000      -3.094391   \n",
      "25%       115.000000     230.000000     230.000000      -0.054749   \n",
      "50%       203.000000     267.000000     266.000000       0.015865   \n",
      "75%       219.000000     324.000000     322.000000       0.125809   \n",
      "max       234.000000    2114.000000    2114.000000       3.821118   \n",
      "\n",
      "             0_tPeak        0_rPeak        0_sPeak        0_qPeak  \\\n",
      "count  100689.000000  100689.000000  100689.000000  100689.000000   \n",
      "mean        0.372262       1.054485      -0.134376      -0.090466   \n",
      "std         0.739879       0.617508       1.027590       0.189436   \n",
      "min        -2.006422      -2.372835      -3.622550      -3.871359   \n",
      "25%        -0.249060       0.754047      -0.781784      -0.133274   \n",
      "50%         0.240303       1.105142      -0.516340      -0.069539   \n",
      "75%         0.928176       1.424135       0.857247      -0.014636   \n",
      "max         4.118327       4.018918       4.018918       3.080710   \n",
      "\n",
      "       0_qrs_interval  0_pq_interval  ...        1_qPeak  1_qrs_interval  \\\n",
      "count   100689.000000  100689.000000  ...  100689.000000   100689.000000   \n",
      "mean        28.326858      10.972817  ...      -0.321359       11.212347   \n",
      "std         15.027789       9.468930  ...       0.447444       12.043096   \n",
      "min          0.000000       1.000000  ...      -5.481982        0.000000   \n",
      "25%         18.000000       5.000000  ...      -0.529435        3.000000   \n",
      "50%         27.000000       7.000000  ...      -0.111843        7.000000   \n",
      "75%         38.000000      16.000000  ...      -0.028438       18.000000   \n",
      "max        170.000000     150.000000  ...       4.033554      260.000000   \n",
      "\n",
      "       1_pq_interval  1_qt_interval  1_st_interval   1_qrs_morph0  \\\n",
      "count  100689.000000  100689.000000  100689.000000  100689.000000   \n",
      "mean       10.487163      36.112922      14.413412      -0.321359   \n",
      "std         8.799687      17.419760       9.118872       0.447444   \n",
      "min         1.000000       5.000000       1.000000      -5.481982   \n",
      "25%         5.000000      25.000000      10.000000      -0.529435   \n",
      "50%         8.000000      33.000000      12.000000      -0.111843   \n",
      "75%        13.000000      45.000000      17.000000      -0.028438   \n",
      "max       185.000000     412.000000     215.000000       4.033554   \n",
      "\n",
      "        1_qrs_morph1   1_qrs_morph2   1_qrs_morph3   1_qrs_morph4  \n",
      "count  100689.000000  100689.000000  100689.000000  100689.000000  \n",
      "mean       -0.317836      -0.308809      -0.294919      -0.366798  \n",
      "std         0.456949       0.518043       0.593426       0.584913  \n",
      "min        -4.493784      -4.398122      -4.069726      -4.520327  \n",
      "25%        -0.537288      -0.603469      -0.622269      -0.673902  \n",
      "50%        -0.115650      -0.151890      -0.196801      -0.262222  \n",
      "75%        -0.016348       0.016088       0.040575      -0.052769  \n",
      "max         3.585718       2.691557       3.755566       2.869186  \n",
      "\n",
      "[8 rows x 33 columns]\n"
     ]
    },
    {
     "data": {
      "image/png": "[encoded data removed]",
      "text/plain": [
       "<Figure size 1000x600 with 1 Axes>"
      ]
     },
     "metadata": {},
     "output_type": "display_data"
    },
    {
     "name": "stdout",
     "output_type": "stream",
     "text": [
      "Number of  Rows with outliers:\n",
      "record            46243\n",
      "type              46243\n",
      "0_pre-RR          46243\n",
      "0_post-RR         46243\n",
      "0_pPeak           46243\n",
      "0_tPeak           46243\n",
      "0_rPeak           46243\n",
      "0_sPeak           46243\n",
      "0_qPeak           46243\n",
      "0_qrs_interval    46243\n",
      "0_pq_interval     46243\n",
      "0_qt_interval     46243\n",
      "0_st_interval     46243\n",
      "0_qrs_morph0      46243\n",
      "0_qrs_morph1      46243\n",
      "0_qrs_morph2      46243\n",
      "0_qrs_morph3      46243\n",
      "0_qrs_morph4      46243\n",
      "1_pre-RR          46243\n",
      "1_post-RR         46243\n",
      "1_pPeak           46243\n",
      "1_tPeak           46243\n",
      "1_rPeak           46243\n",
      "1_sPeak           46243\n",
      "1_qPeak           46243\n",
      "1_qrs_interval    46243\n",
      "1_pq_interval     46243\n",
      "1_qt_interval     46243\n",
      "1_st_interval     46243\n",
      "1_qrs_morph0      46243\n",
      "1_qrs_morph1      46243\n",
      "1_qrs_morph2      46243\n",
      "1_qrs_morph3      46243\n",
      "1_qrs_morph4      46243\n",
      "dtype: int64\n"
     ]
    }
   ],
   "source": [
    "import pandas as pd\n",
    "import seaborn as sns\n",
    "import matplotlib.pyplot as plt\n",
    "\n",
    "# Assuming 'ecg_df' is your DataFrame\n",
    "\n",
    "# Select numerical columns for summary statistics\n",
    "numerical_cols = ecg_df.select_dtypes(include=['number']).columns\n",
    "summary_stats = ecg_df[numerical_cols].describe()\n",
    "print(summary_stats)\n",
    "\n",
    "# Box plot to visualize outliers\n",
    "plt.figure(figsize=(10, 6))\n",
    "sns.boxplot(data=ecg_df[numerical_cols])\n",
    "plt.title(\"Boxplot of ECG DataFrame\")\n",
    "plt.xticks(rotation=45)  # Adjust the rotation angle as needed\n",
    "plt.show()\n",
    "\n",
    "# Identify and print rows with outliers using the IQR method\n",
    "Q1 = ecg_df[numerical_cols].quantile(0.25)\n",
    "Q3 = ecg_df[numerical_cols].quantile(0.75)\n",
    "IQR = Q3 - Q1\n",
    "\n",
    "outliers = ((ecg_df[numerical_cols] < (Q1 - 1.5 * IQR)) | (ecg_df[numerical_cols] > (Q3 + 1.5 * IQR))).any(axis=1)\n",
    "outlier_rows = ecg_df[outliers]\n",
    "print(\"Number of  Rows with outliers:\")\n",
    "print(outlier_rows.count())\n"
   ]
  },
  {
   "cell_type": "markdown",
   "id": "f47b05f8",
   "metadata": {},
   "source": [
    "Checking for Missing Values"
   ]
  },
  {
   "cell_type": "code",
   "execution_count": 5,
   "id": "0fe247ff-9ad7-4d11-bf45-4a37f7eebdb4",
   "metadata": {
    "tags": []
   },
   "outputs": [
    {
     "name": "stdout",
     "output_type": "stream",
     "text": [
      "No missing values found\n"
     ]
    }
   ],
   "source": [
    "counter=0\n",
    "for index, row in ecg_df.iterrows():\n",
    "    for col in ecg_df.columns:\n",
    "        if pd.isnull(row[col]):\n",
    "            counter=counter+1\n",
    "            print(f\"Missing value in row {index}, column {col}\")\n",
    "if(counter==0):\n",
    "    print(\"No missing values found\")"
   ]
  },
  {
   "cell_type": "markdown",
   "id": "e66b7fc3",
   "metadata": {},
   "source": [
    "Checking Data Distribution"
   ]
  },
  {
   "cell_type": "code",
   "execution_count": 6,
   "id": "561b4254",
   "metadata": {},
   "outputs": [
    {
     "data": {
      "text/plain": [
       "type\n",
       "N       90083\n",
       "VEB      7009\n",
       "SVEB     2779\n",
       "F         803\n",
       "Name: count, dtype: int64"
      ]
     },
     "execution_count": 6,
     "metadata": {},
     "output_type": "execute_result"
    }
   ],
   "source": [
    "ecg_df['type'].value_counts()"
   ]
  },
  {
   "cell_type": "markdown",
   "id": "07c47d13",
   "metadata": {},
   "source": [
    "Dropping the column 'Q' due to extremely low frequency"
   ]
  },
  {
   "cell_type": "code",
   "execution_count": 13,
   "id": "c197ebe1-6107-40ec-8615-2fac08d9a82e",
   "metadata": {
    "tags": []
   },
   "outputs": [],
   "source": [
    "mask = ecg_df['type'] =='Q'\n",
    "ecg_df=ecg_df[~mask]"
   ]
  },
  {
   "cell_type": "markdown",
   "id": "4023cecf",
   "metadata": {},
   "source": [
    "Plotting the distribution of the classes"
   ]
  },
  {
   "cell_type": "code",
   "execution_count": 38,
   "id": "f3973aa6-7884-411e-beed-d3f51ca8a7a2",
   "metadata": {
    "tags": []
   },
   "outputs": [
    {
     "data": {
      "image/png": "[encoded data removed]",
      "text/plain": [
       "<Figure size 640x480 with 1 Axes>"
      ]
     },
     "metadata": {},
     "output_type": "display_data"
    }
   ],
   "source": [
    "sns.countplot(x='type', data = ecg_df)\n",
    "plt.xticks(rotation=45)\n",
    "plt.show()"
   ]
  },
  {
   "cell_type": "markdown",
   "id": "920ae009",
   "metadata": {},
   "source": [
    "Removing the column 'Record' due to uselessness"
   ]
  },
  {
   "cell_type": "code",
   "execution_count": 14,
   "id": "010948bd",
   "metadata": {},
   "outputs": [],
   "source": [
    "ecg_df= ecg_df.drop(columns=['record'])"
   ]
  },
  {
   "cell_type": "markdown",
   "id": "42d10841",
   "metadata": {},
   "source": [
    "Downsampling the leading class"
   ]
  },
  {
   "cell_type": "code",
   "execution_count": 15,
   "id": "04f1c456",
   "metadata": {},
   "outputs": [],
   "source": [
    "n_rows = ecg_df[ecg_df['type'] == 'N']\n",
    "rows_to_keep = int(len(n_rows) * 0.20)\n",
    "n_rows = n_rows.sample(n=rows_to_keep, random_state=42)\n",
    "ecg_df = ecg_df[ecg_df['type'] != 'N']\n",
    "ecg_df = pd.concat([ecg_df, n_rows])"
   ]
  },
  {
   "cell_type": "markdown",
   "id": "6c901970",
   "metadata": {},
   "source": [
    "Label Encoding"
   ]
  },
  {
   "cell_type": "code",
   "execution_count": 16,
   "id": "1bece114",
   "metadata": {},
   "outputs": [],
   "source": [
    "X = ecg_df.drop('type', axis=1)\n",
    "y = ecg_df['type']\n",
    "lb=LabelEncoder()\n",
    "y=lb.fit_transform(y)"
   ]
  },
  {
   "cell_type": "code",
   "execution_count": 53,
   "id": "c497aa8f",
   "metadata": {},
   "outputs": [
    {
     "data": {
      "text/plain": [
       "array([2, 2, 2, ..., 1, 1, 1])"
      ]
     },
     "execution_count": 53,
     "metadata": {},
     "output_type": "execute_result"
    }
   ],
   "source": [
    "y"
   ]
  },
  {
   "cell_type": "markdown",
   "id": "b07cf180",
   "metadata": {},
   "source": [
    "Splitting the data before upsampling using SMOTE to avoid leakage"
   ]
  },
  {
   "cell_type": "code",
   "execution_count": 17,
   "id": "b135ec12",
   "metadata": {},
   "outputs": [],
   "source": [
    "x_train, x_test, y_train, y_test = train_test_split(X, y, test_size=0.2, random_state=42)"
   ]
  },
  {
   "cell_type": "markdown",
   "id": "bf203ac8",
   "metadata": {},
   "source": [
    "Splitting for validation"
   ]
  },
  {
   "cell_type": "code",
   "execution_count": 18,
   "id": "0bc3caab",
   "metadata": {},
   "outputs": [],
   "source": [
    "x_train, x_val, y_train, y_val = train_test_split(x_train, y_train, test_size=0.2, random_state=42)"
   ]
  },
  {
   "cell_type": "markdown",
   "id": "f08ff50b",
   "metadata": {},
   "source": [
    "SelectKBest (Feature Selection) (Skipped, please check report)"
   ]
  },
  {
   "cell_type": "code",
   "execution_count": null,
   "id": "9a4367c8",
   "metadata": {},
   "outputs": [],
   "source": [
    "#from sklearn.feature_selection import SelectKBest\n",
    "#from sklearn.feature_selection import f_classif\n",
    "#k = 10 #gradually increased\n",
    "#selector = SelectKBest(score_func=f_classif, k=k)\n",
    "#X_train_selected = selector.fit_transform(X_train, y_train)\n",
    "#selected_feature_indices = selector.get_support(indices=True)\n",
    "#print(\"Selected feature indices:\", selected_feature_indices)"
   ]
  },
  {
   "cell_type": "markdown",
   "id": "44fd5b79",
   "metadata": {},
   "source": [
    "SMOTE"
   ]
  },
  {
   "cell_type": "code",
   "execution_count": 19,
   "id": "2c4c185f",
   "metadata": {},
   "outputs": [
    {
     "name": "stdout",
     "output_type": "stream",
     "text": [
      "Before SMOTE:\n",
      "1    11541\n",
      "3     4492\n",
      "2     1758\n",
      "0      517\n",
      "dtype: int64\n",
      "After SMOTE:\n",
      "0    11541\n",
      "2    11541\n",
      "1    11541\n",
      "3    11541\n",
      "dtype: int64\n"
     ]
    }
   ],
   "source": [
    "from imblearn.over_sampling import SMOTE\n",
    "import numpy as np\n",
    "import pandas as pd\n",
    "smote = SMOTE()\n",
    "x_train2, y_train2 = smote.fit_resample(x_train, y_train)\n",
    "print(\"Before SMOTE:\")\n",
    "print(pd.Series(y_train).value_counts())\n",
    "print(\"After SMOTE:\")\n",
    "print(pd.Series(y_train2).value_counts())"
   ]
  },
  {
   "cell_type": "markdown",
   "id": "667bf204",
   "metadata": {},
   "source": [
    "Splitting the data then robust scaling it to avoid data leakage"
   ]
  },
  {
   "cell_type": "code",
   "execution_count": 20,
   "id": "b81163df",
   "metadata": {},
   "outputs": [],
   "source": [
    "from sklearn.model_selection import train_test_split\n",
    "from sklearn.preprocessing import RobustScaler\n",
    "robust_scaler = RobustScaler()\n",
    "\n",
    "# Fit the scaler on the training data and transform the training data\n",
    "X_train_scaled = robust_scaler.fit_transform(x_train2)\n",
    "\n",
    "# Transform the validation and test data using the same scaler\n",
    "X_val_scaled = robust_scaler.transform(x_val)\n",
    "X_test_scaled = robust_scaler.transform(x_test)\n"
   ]
  },
  {
   "cell_type": "code",
   "execution_count": 21,
   "id": "ca34b306",
   "metadata": {},
   "outputs": [
    {
     "data": {
      "text/plain": [
       "46164"
      ]
     },
     "execution_count": 21,
     "metadata": {},
     "output_type": "execute_result"
    }
   ],
   "source": [
    "len(X_train_scaled)"
   ]
  },
  {
   "cell_type": "code",
   "execution_count": 22,
   "id": "eb20d242",
   "metadata": {},
   "outputs": [
    {
     "data": {
      "text/plain": [
       "46164"
      ]
     },
     "execution_count": 22,
     "metadata": {},
     "output_type": "execute_result"
    }
   ],
   "source": [
    "len(y_train2)"
   ]
  },
  {
   "cell_type": "markdown",
   "id": "9f4a3eee",
   "metadata": {},
   "source": [
    "MinMax Scaling (Skipped due to lowering model's performance)"
   ]
  },
  {
   "cell_type": "code",
   "execution_count": null,
   "id": "3d01198e",
   "metadata": {},
   "outputs": [],
   "source": [
    "#from sklearn.preprocessing import MinMaxScaler\n",
    "#scalern = MinMaxScaler()\n",
    "#X_train_scaledn = scalern.fit_transform(X_train_scaled)\n",
    "#X_val_scaledn = scalern.transform(X_val_scaled)\n",
    "#X_test_scaledn = scalern.transform(X_test_scaled)"
   ]
  },
  {
   "cell_type": "code",
   "execution_count": 23,
   "id": "ec2134cc-04aa-48d1-9f3d-d4fca4e98430",
   "metadata": {
    "tags": []
   },
   "outputs": [],
   "source": [
    "from tensorflow.keras import Sequential,utils\n",
    "from tensorflow.keras.layers import Flatten, Dense, Conv1D, MaxPool1D, Dropout\n",
    "from keras.models import Sequential\n",
    "from keras.layers import Conv1D, MaxPooling1D, Flatten, Dense, Dropout, GRU"
   ]
  },
  {
   "cell_type": "code",
   "execution_count": 18,
   "id": "cfe40bb5",
   "metadata": {},
   "outputs": [],
   "source": [
    "os.environ['CUDA_VISIBLE_DEVICES'] = \"0\""
   ]
  },
  {
   "cell_type": "markdown",
   "id": "b113fe2b",
   "metadata": {},
   "source": [
    "Model Architecture (CNN and GRU)"
   ]
  },
  {
   "cell_type": "code",
   "execution_count": 24,
   "id": "1866fc02-bbe9-40c0-b194-0a4ad1e3dcf6",
   "metadata": {
    "tags": []
   },
   "outputs": [
    {
     "name": "stderr",
     "output_type": "stream",
     "text": [
      "2024-01-23 21:24:35.505475: E tensorflow/compiler/xla/stream_executor/cuda/cuda_driver.cc:268] failed call to cuInit: CUDA_ERROR_NO_DEVICE: no CUDA-capable device is detected\n"
     ]
    }
   ],
   "source": [
    "model = Sequential()\n",
    "\n",
    "model.add(Conv1D(filters=32, kernel_size=3, padding='same', activation='relu', input_shape=(x_train.shape[1], 1)))\n",
    "model.add(Conv1D(filters=64, kernel_size=3, padding='same', activation='relu'))\n",
    "model.add(Conv1D(filters=128, kernel_size=5, padding='same', activation='relu'))\n",
    "\n",
    "model.add(MaxPooling1D(pool_size=3, strides=2, padding='same'))\n",
    "model.add(Dropout(0.2))\n",
    "\n",
    "model.add(Conv1D(filters=256, kernel_size=3, padding='same', activation='relu'))\n",
    "model.add(Conv1D(filters=512, kernel_size=3, padding='same', activation='relu'))\n",
    "model.add(MaxPooling1D(pool_size=3, strides=2, padding='same'))\n",
    "model.add(Dropout(0.2))\n",
    "\n",
    "gru_units = 512 \n",
    "model.add(GRU(gru_units))\n",
    "\n",
    "model.add(Dense(units=512, activation='relu'))\n",
    "model.add(Dropout(0.2))\n",
    "model.add(Dense(units=1024, activation='relu'))\n",
    "model.add(Dropout(0.2))\n",
    "\n",
    "model.add(Flatten())\n",
    "\n",
    "model.add(Dense(units=4, activation='softmax'))\n"
   ]
  },
  {
   "cell_type": "markdown",
   "id": "3b9e70f7",
   "metadata": {},
   "source": [
    "Compiling the model with Adam optimizer, which has the 0.001 Learning Rate"
   ]
  },
  {
   "cell_type": "code",
   "execution_count": 25,
   "id": "f164264c-b525-4a79-9761-f785c8af92a4",
   "metadata": {
    "tags": []
   },
   "outputs": [],
   "source": [
    "model.compile(optimizer='adam', loss = 'sparse_categorical_crossentropy', metrics=['accuracy'])"
   ]
  },
  {
   "cell_type": "markdown",
   "id": "33e1bd06",
   "metadata": {},
   "source": [
    "Custom adam's learning  rate"
   ]
  },
  {
   "cell_type": "code",
   "execution_count": null,
   "id": "c8df4124",
   "metadata": {},
   "outputs": [],
   "source": [
    "#from tensorflow.keras.optimizers import Adam\n",
    "#custom_learning_rate = 0.001\n",
    "#custom_optimizer = Adam(learning_rate=custom_learning_rate)\n",
    "#model.compile(optimizer=custom_optimizer, loss='sparse_categorical_crossentropy', metrics=['accuracy'])"
   ]
  },
  {
   "cell_type": "markdown",
   "id": "cebeade5",
   "metadata": {},
   "source": [
    "SGD optimization Check"
   ]
  },
  {
   "cell_type": "code",
   "execution_count": 15,
   "id": "a2c25331",
   "metadata": {},
   "outputs": [],
   "source": [
    "#from tensorflow.keras.optimizers import SGD\n",
    "#custom_learning_rate_sgd = 0.001\n",
    "#custom_optimizer_sgd = SGD(learning_rate=custom_learning_rate_sgd)\n",
    "#model.compile(optimizer=custom_optimizer_sgd, loss='sparse_categorical_crossentropy', metrics=['accuracy'])"
   ]
  },
  {
   "cell_type": "markdown",
   "id": "b376da2d",
   "metadata": {},
   "source": [
    "Training the model with Early Stopping to avoid overfitting, with an epoch of 40 that was increased linearly manually."
   ]
  },
  {
   "cell_type": "code",
   "execution_count": 26,
   "id": "f4968fda-d060-482b-994d-fd5b0ecf6bfa",
   "metadata": {
    "tags": []
   },
   "outputs": [
    {
     "name": "stdout",
     "output_type": "stream",
     "text": [
      "Epoch 1/40\n",
      "1443/1443 [==============================] - 95s 64ms/step - loss: 0.3579 - accuracy: 0.8694 - val_loss: 0.1963 - val_accuracy: 0.9382\n",
      "Epoch 2/40\n",
      "1443/1443 [==============================] - 91s 63ms/step - loss: 0.1469 - accuracy: 0.9543 - val_loss: 0.2041 - val_accuracy: 0.9401\n",
      "Epoch 3/40\n",
      "1443/1443 [==============================] - 92s 64ms/step - loss: 0.1110 - accuracy: 0.9660 - val_loss: 0.1596 - val_accuracy: 0.9471\n",
      "Epoch 4/40\n",
      "1443/1443 [==============================] - 91s 63ms/step - loss: 0.0891 - accuracy: 0.9725 - val_loss: 0.1307 - val_accuracy: 0.9626\n",
      "Epoch 5/40\n",
      "1443/1443 [==============================] - 92s 63ms/step - loss: 0.0775 - accuracy: 0.9769 - val_loss: 0.1126 - val_accuracy: 0.9677\n",
      "Epoch 6/40\n",
      "1443/1443 [==============================] - 93s 64ms/step - loss: 0.0709 - accuracy: 0.9773 - val_loss: 0.1338 - val_accuracy: 0.9607\n",
      "Epoch 7/40\n",
      "1443/1443 [==============================] - 92s 64ms/step - loss: 0.0620 - accuracy: 0.9804 - val_loss: 0.1255 - val_accuracy: 0.9633\n",
      "Epoch 8/40\n",
      "1443/1443 [==============================] - 92s 64ms/step - loss: 0.0538 - accuracy: 0.9830 - val_loss: 0.1133 - val_accuracy: 0.9661\n",
      "Epoch 9/40\n",
      "1443/1443 [==============================] - 91s 63ms/step - loss: 0.0536 - accuracy: 0.9835 - val_loss: 0.1546 - val_accuracy: 0.9578\n",
      "Epoch 10/40\n",
      "1443/1443 [==============================] - 92s 64ms/step - loss: 0.0489 - accuracy: 0.9850 - val_loss: 0.1723 - val_accuracy: 0.9583\n"
     ]
    }
   ],
   "source": [
    "from tensorflow.keras.callbacks import EarlyStopping\n",
    "\n",
    "# Define the EarlyStopping callback\n",
    "early_stopping = EarlyStopping(monitor='val_loss', patience=5, restore_best_weights=True)\n",
    "\n",
    "# Use the EarlyStopping callback in the fit method\n",
    "history = model.fit(X_train_scaled, y_train2, validation_data=(X_val_scaled, y_val), epochs=40, callbacks=[early_stopping])\n"
   ]
  },
  {
   "cell_type": "markdown",
   "id": "d3d01e75",
   "metadata": {},
   "source": [
    "Saving model as H5 format to be used later for prediciton by being triggered by the pipeline"
   ]
  },
  {
   "cell_type": "code",
   "execution_count": 53,
   "id": "ec534bdd",
   "metadata": {},
   "outputs": [
    {
     "name": "stderr",
     "output_type": "stream",
     "text": [
      "/home/ec2-user/anaconda3/envs/tensorflow2_p310/lib/python3.10/site-packages/keras/src/engine/training.py:3000: UserWarning: You are saving your model as an HDF5 file via `model.save()`. This file format is considered legacy. We recommend using instead the native Keras format, e.g. `model.save('my_model.keras')`.\n",
      "  saving_api.save_model(\n"
     ]
    }
   ],
   "source": [
    "model.save(\"ecggrad.h5\")"
   ]
  },
  {
   "cell_type": "code",
   "execution_count": 28,
   "id": "b595a07e",
   "metadata": {},
   "outputs": [
    {
     "name": "stdout",
     "output_type": "stream",
     "text": [
      "Model uploaded to S3 bucket psutgrad in folder arn:aws:s3:::psutgrad\n"
     ]
    }
   ],
   "source": [
    "import boto3\n",
    "from botocore.exceptions import NoCredentialsError\n",
    "from keras.models import load_model\n",
    "\n",
    "# Replace 'your_model.h5' with the name of your model file\n",
    "model_filename = 'ecggrad.h5'\n",
    "\n",
    "# Replace 'psutgrad' with your S3 bucket name\n",
    "bucket_name = 'psutgrad'\n",
    "\n",
    "# Replace 'your_s3_folder' with the folder inside your S3 bucket where you want to save the model\n",
    "def upload_to_s3(local_file, s3_bucket, s3_folder):\n",
    "    s3 = boto3.client('s3')\n",
    "    try:\n",
    "        s3.upload_file(local_file, s3_bucket, s3_folder + local_file)\n",
    "        print(f\"Model uploaded to S3 bucket {s3_bucket} in folder {s3_folder}\")\n",
    "    except FileNotFoundError:\n",
    "        print(f\"The file {local_file} was not found.\")\n",
    "    except NoCredentialsError:\n",
    "        print(\"Credentials not available.\")\n",
    "\n",
    "# Save your Keras model to a local file\n",
    "# Replace 'your_model' with the actual Keras model variable\n",
    "model.save(model_filename)\n",
    "\n",
    "# Upload the local model file to S3\n",
    "upload_to_s3(model_filename, bucket_name, s3_folder)\n"
   ]
  },
  {
   "cell_type": "markdown",
   "id": "e0775402",
   "metadata": {},
   "source": [
    "Test accuracy"
   ]
  },
  {
   "cell_type": "code",
   "execution_count": 27,
   "id": "eacc3969-c21c-4d24-b9e9-70e712a8af14",
   "metadata": {
    "tags": []
   },
   "outputs": [
    {
     "name": "stdout",
     "output_type": "stream",
     "text": [
      "179/179 [==============================] - 2s 13ms/step - loss: 0.1247 - accuracy: 0.9645\n",
      "Test Loss: 0.12467353045940399\n",
      "Test Metrics: [0.9645228981971741]\n"
     ]
    }
   ],
   "source": [
    "results = model.evaluate(X_test_scaled, y_test)\n",
    "print(\"Test Loss:\", results[0])\n",
    "print(\"Test Metrics:\", results[1:])"
   ]
  },
  {
   "cell_type": "markdown",
   "id": "68bd510f",
   "metadata": {},
   "source": [
    "PLOT OF Training and accuracy "
   ]
  },
  {
   "cell_type": "code",
   "execution_count": 28,
   "id": "920f2fed-4f75-4afb-9dac-7a92cd67b86a",
   "metadata": {
    "tags": []
   },
   "outputs": [
    {
     "data": {
      "text/plain": [
       "Text(0.5, 0, 'epoch')"
      ]
     },
     "execution_count": 28,
     "metadata": {},
     "output_type": "execute_result"
    },
    {
     "data": {
      "image/png": "[encoded data removed]",
      "text/plain": [
       "<Figure size 640x480 with 1 Axes>"
      ]
     },
     "metadata": {},
     "output_type": "display_data"
    }
   ],
   "source": [
    "plt.plot(history.history['accuracy'])\n",
    "plt.plot(history.history['val_accuracy'])\n",
    "plt.ylim(0,1)\n",
    "plt.legend(['Training', 'Validation'])\n",
    "plt.title(\"Training and validation accuracy\")\n",
    "plt.xlabel('epoch')"
   ]
  },
  {
   "cell_type": "markdown",
   "id": "0c482704",
   "metadata": {},
   "source": [
    "Training and validation plot"
   ]
  },
  {
   "cell_type": "code",
   "execution_count": 29,
   "id": "ec7aee3f",
   "metadata": {},
   "outputs": [
    {
     "data": {
      "text/plain": [
       "Text(0.5, 0, 'epoch')"
      ]
     },
     "execution_count": 29,
     "metadata": {},
     "output_type": "execute_result"
    },
    {
     "data": {
      "image/png": "[encoded data removed]",
      "text/plain": [
       "<Figure size 640x480 with 1 Axes>"
      ]
     },
     "metadata": {},
     "output_type": "display_data"
    }
   ],
   "source": [
    "plt.plot(history.history['loss'])\n",
    "plt.plot(history.history['val_loss'])\n",
    "plt.ylim(0,1)\n",
    "plt.legend(['Training', 'Validation'])\n",
    "plt.title(\"Training and validation loss\")\n",
    "plt.xlabel('epoch')"
   ]
  },
  {
   "cell_type": "markdown",
   "id": "0fd824b3",
   "metadata": {},
   "source": [
    "Other performance metrics"
   ]
  },
  {
   "cell_type": "code",
   "execution_count": 30,
   "id": "eabb80cc-5e5b-4a49-88e7-65ccf27be6cd",
   "metadata": {
    "tags": []
   },
   "outputs": [
    {
     "name": "stdout",
     "output_type": "stream",
     "text": [
      "144/144 [==============================] - 2s 13ms/step\n",
      "Recall: 0.9677\n",
      "F1 Score: 0.9679\n",
      "Precision: 0.9683\n"
     ]
    }
   ],
   "source": [
    "from sklearn.metrics import precision_recall_fscore_support\n",
    "\n",
    "# Assuming y_val is your true labels and y_pred_classes is your predicted labels\n",
    "y_pred = model.predict(X_val_scaled)\n",
    "\n",
    "# Convert predictions to class labels\n",
    "y_pred_classes = np.argmax(y_pred, axis=1)\n",
    "\n",
    "# Calculate precision, recall, and f1 score\n",
    "precision, recall, f1_score, _ = precision_recall_fscore_support(y_val, y_pred_classes, average='weighted')\n",
    "\n",
    "# Print recall and f1 score\n",
    "print(f'Recall: {recall:.4f}')\n",
    "print(f'F1 Score: {f1_score:.4f}')\n",
    "print(f'Precision: {precision:.4f}')\n"
   ]
  },
  {
   "cell_type": "code",
   "execution_count": 32,
   "id": "38c40982",
   "metadata": {},
   "outputs": [
    {
     "name": "stdout",
     "output_type": "stream",
     "text": [
      "144/144 [==============================] - 2s 13ms/step\n",
      "Confusion Matrix:\n",
      "[[ 105    5    0    5]\n",
      " [   8 2791   27   37]\n",
      " [   2   19  421   11]\n",
      " [  13   13    8 1112]]\n",
      "Classification Report:\n",
      "              precision    recall  f1-score   support\n",
      "\n",
      "      Normal       0.82      0.91      0.86       115\n",
      "        SVEB       0.99      0.97      0.98      2863\n",
      "         VEB       0.92      0.93      0.93       453\n",
      "           F       0.95      0.97      0.96      1146\n",
      "\n",
      "    accuracy                           0.97      4577\n",
      "   macro avg       0.92      0.95      0.93      4577\n",
      "weighted avg       0.97      0.97      0.97      4577\n",
      "\n"
     ]
    }
   ],
   "source": [
    "from sklearn.metrics import classification_report, confusion_matrix\n",
    "\n",
    "# Assuming y_val is your true labels and y_pred_classes is your predicted labels\n",
    "y_pred = model.predict(X_val_scaled)\n",
    "\n",
    "# Convert predictions to class labels\n",
    "y_pred_classes = np.argmax(y_pred, axis=1)\n",
    "\n",
    "# Calculate confusion matrix\n",
    "conf_matrix = confusion_matrix(y_val, y_pred_classes)\n",
    "\n",
    "# Print confusion matrix\n",
    "print(\"Confusion Matrix:\")\n",
    "print(conf_matrix)\n",
    "\n",
    "# Generate and print a classification report\n",
    "class_names = [\"Normal\", \"SVEB\", \"VEB\", \"F\"]  # Replace with your actual class names\n",
    "classification_rep = classification_report(y_val, y_pred_classes, target_names=class_names)\n",
    "print(\"Classification Report:\")\n",
    "print(classification_rep)\n"
   ]
  }
 ],
 "metadata": {
  "availableInstances": [
   {
    "_defaultOrder": 0,
    "_isFastLaunch": true,
    "category": "General purpose",
    "gpuNum": 0,
    "hideHardwareSpecs": false,
    "memoryGiB": 4,
    "name": "ml.t3.medium",
    "vcpuNum": 2
   },
   {
    "_defaultOrder": 1,
    "_isFastLaunch": false,
    "category": "General purpose",
    "gpuNum": 0,
    "hideHardwareSpecs": false,
    "memoryGiB": 8,
    "name": "ml.t3.large",
    "vcpuNum": 2
   },
   {
    "_defaultOrder": 2,
    "_isFastLaunch": false,
    "category": "General purpose",
    "gpuNum": 0,
    "hideHardwareSpecs": false,
    "memoryGiB": 16,
    "name": "ml.t3.xlarge",
    "vcpuNum": 4
   },
   {
    "_defaultOrder": 3,
    "_isFastLaunch": false,
    "category": "General purpose",
    "gpuNum": 0,
    "hideHardwareSpecs": false,
    "memoryGiB": 32,
    "name": "ml.t3.2xlarge",
    "vcpuNum": 8
   },
   {
    "_defaultOrder": 4,
    "_isFastLaunch": true,
    "category": "General purpose",
    "gpuNum": 0,
    "hideHardwareSpecs": false,
    "memoryGiB": 8,
    "name": "ml.m5.large",
    "vcpuNum": 2
   },
   {
    "_defaultOrder": 5,
    "_isFastLaunch": false,
    "category": "General purpose",
    "gpuNum": 0,
    "hideHardwareSpecs": false,
    "memoryGiB": 16,
    "name": "ml.m5.xlarge",
    "vcpuNum": 4
   },
   {
    "_defaultOrder": 6,
    "_isFastLaunch": false,
    "category": "General purpose",
    "gpuNum": 0,
    "hideHardwareSpecs": false,
    "memoryGiB": 32,
    "name": "ml.m5.2xlarge",
    "vcpuNum": 8
   },
   {
    "_defaultOrder": 7,
    "_isFastLaunch": false,
    "category": "General purpose",
    "gpuNum": 0,
    "hideHardwareSpecs": false,
    "memoryGiB": 64,
    "name": "ml.m5.4xlarge",
    "vcpuNum": 16
   },
   {
    "_defaultOrder": 8,
    "_isFastLaunch": false,
    "category": "General purpose",
    "gpuNum": 0,
    "hideHardwareSpecs": false,
    "memoryGiB": 128,
    "name": "ml.m5.8xlarge",
    "vcpuNum": 32
   },
   {
    "_defaultOrder": 9,
    "_isFastLaunch": false,
    "category": "General purpose",
    "gpuNum": 0,
    "hideHardwareSpecs": false,
    "memoryGiB": 192,
    "name": "ml.m5.12xlarge",
    "vcpuNum": 48
   },
   {
    "_defaultOrder": 10,
    "_isFastLaunch": false,
    "category": "General purpose",
    "gpuNum": 0,
    "hideHardwareSpecs": false,
    "memoryGiB": 256,
    "name": "ml.m5.16xlarge",
    "vcpuNum": 64
   },
   {
    "_defaultOrder": 11,
    "_isFastLaunch": false,
    "category": "General purpose",
    "gpuNum": 0,
    "hideHardwareSpecs": false,
    "memoryGiB": 384,
    "name": "ml.m5.24xlarge",
    "vcpuNum": 96
   },
   {
    "_defaultOrder": 12,
    "_isFastLaunch": false,
    "category": "General purpose",
    "gpuNum": 0,
    "hideHardwareSpecs": false,
    "memoryGiB": 8,
    "name": "ml.m5d.large",
    "vcpuNum": 2
   },
   {
    "_defaultOrder": 13,
    "_isFastLaunch": false,
    "category": "General purpose",
    "gpuNum": 0,
    "hideHardwareSpecs": false,
    "memoryGiB": 16,
    "name": "ml.m5d.xlarge",
    "vcpuNum": 4
   },
   {
    "_defaultOrder": 14,
    "_isFastLaunch": false,
    "category": "General purpose",
    "gpuNum": 0,
    "hideHardwareSpecs": false,
    "memoryGiB": 32,
    "name": "ml.m5d.2xlarge",
    "vcpuNum": 8
   },
   {
    "_defaultOrder": 15,
    "_isFastLaunch": false,
    "category": "General purpose",
    "gpuNum": 0,
    "hideHardwareSpecs": false,
    "memoryGiB": 64,
    "name": "ml.m5d.4xlarge",
    "vcpuNum": 16
   },
   {
    "_defaultOrder": 16,
    "_isFastLaunch": false,
    "category": "General purpose",
    "gpuNum": 0,
    "hideHardwareSpecs": false,
    "memoryGiB": 128,
    "name": "ml.m5d.8xlarge",
    "vcpuNum": 32
   },
   {
    "_defaultOrder": 17,
    "_isFastLaunch": false,
    "category": "General purpose",
    "gpuNum": 0,
    "hideHardwareSpecs": false,
    "memoryGiB": 192,
    "name": "ml.m5d.12xlarge",
    "vcpuNum": 48
   },
   {
    "_defaultOrder": 18,
    "_isFastLaunch": false,
    "category": "General purpose",
    "gpuNum": 0,
    "hideHardwareSpecs": false,
    "memoryGiB": 256,
    "name": "ml.m5d.16xlarge",
    "vcpuNum": 64
   },
   {
    "_defaultOrder": 19,
    "_isFastLaunch": false,
    "category": "General purpose",
    "gpuNum": 0,
    "hideHardwareSpecs": false,
    "memoryGiB": 384,
    "name": "ml.m5d.24xlarge",
    "vcpuNum": 96
   },
   {
    "_defaultOrder": 20,
    "_isFastLaunch": false,
    "category": "General purpose",
    "gpuNum": 0,
    "hideHardwareSpecs": true,
    "memoryGiB": 0,
    "name": "ml.geospatial.interactive",
    "supportedImageNames": [
     "sagemaker-geospatial-v1-0"
    ],
    "vcpuNum": 0
   },
   {
    "_defaultOrder": 21,
    "_isFastLaunch": true,
    "category": "Compute optimized",
    "gpuNum": 0,
    "hideHardwareSpecs": false,
    "memoryGiB": 4,
    "name": "ml.c5.large",
    "vcpuNum": 2
   },
   {
    "_defaultOrder": 22,
    "_isFastLaunch": false,
    "category": "Compute optimized",
    "gpuNum": 0,
    "hideHardwareSpecs": false,
    "memoryGiB": 8,
    "name": "ml.c5.xlarge",
    "vcpuNum": 4
   },
   {
    "_defaultOrder": 23,
    "_isFastLaunch": false,
    "category": "Compute optimized",
    "gpuNum": 0,
    "hideHardwareSpecs": false,
    "memoryGiB": 16,
    "name": "ml.c5.2xlarge",
    "vcpuNum": 8
   },
   {
    "_defaultOrder": 24,
    "_isFastLaunch": false,
    "category": "Compute optimized",
    "gpuNum": 0,
    "hideHardwareSpecs": false,
    "memoryGiB": 32,
    "name": "ml.c5.4xlarge",
    "vcpuNum": 16
   },
   {
    "_defaultOrder": 25,
    "_isFastLaunch": false,
    "category": "Compute optimized",
    "gpuNum": 0,
    "hideHardwareSpecs": false,
    "memoryGiB": 72,
    "name": "ml.c5.9xlarge",
    "vcpuNum": 36
   },
   {
    "_defaultOrder": 26,
    "_isFastLaunch": false,
    "category": "Compute optimized",
    "gpuNum": 0,
    "hideHardwareSpecs": false,
    "memoryGiB": 96,
    "name": "ml.c5.12xlarge",
    "vcpuNum": 48
   },
   {
    "_defaultOrder": 27,
    "_isFastLaunch": false,
    "category": "Compute optimized",
    "gpuNum": 0,
    "hideHardwareSpecs": false,
    "memoryGiB": 144,
    "name": "ml.c5.18xlarge",
    "vcpuNum": 72
   },
   {
    "_defaultOrder": 28,
    "_isFastLaunch": false,
    "category": "Compute optimized",
    "gpuNum": 0,
    "hideHardwareSpecs": false,
    "memoryGiB": 192,
    "name": "ml.c5.24xlarge",
    "vcpuNum": 96
   },
   {
    "_defaultOrder": 29,
    "_isFastLaunch": true,
    "category": "Accelerated computing",
    "gpuNum": 1,
    "hideHardwareSpecs": false,
    "memoryGiB": 16,
    "name": "ml.g4dn.xlarge",
    "vcpuNum": 4
   },
   {
    "_defaultOrder": 30,
    "_isFastLaunch": false,
    "category": "Accelerated computing",
    "gpuNum": 1,
    "hideHardwareSpecs": false,
    "memoryGiB": 32,
    "name": "ml.g4dn.2xlarge",
    "vcpuNum": 8
   },
   {
    "_defaultOrder": 31,
    "_isFastLaunch": false,
    "category": "Accelerated computing",
    "gpuNum": 1,
    "hideHardwareSpecs": false,
    "memoryGiB": 64,
    "name": "ml.g4dn.4xlarge",
    "vcpuNum": 16
   },
   {
    "_defaultOrder": 32,
    "_isFastLaunch": false,
    "category": "Accelerated computing",
    "gpuNum": 1,
    "hideHardwareSpecs": false,
    "memoryGiB": 128,
    "name": "ml.g4dn.8xlarge",
    "vcpuNum": 32
   },
   {
    "_defaultOrder": 33,
    "_isFastLaunch": false,
    "category": "Accelerated computing",
    "gpuNum": 4,
    "hideHardwareSpecs": false,
    "memoryGiB": 192,
    "name": "ml.g4dn.12xlarge",
    "vcpuNum": 48
   },
   {
    "_defaultOrder": 34,
    "_isFastLaunch": false,
    "category": "Accelerated computing",
    "gpuNum": 1,
    "hideHardwareSpecs": false,
    "memoryGiB": 256,
    "name": "ml.g4dn.16xlarge",
    "vcpuNum": 64
   },
   {
    "_defaultOrder": 35,
    "_isFastLaunch": false,
    "category": "Accelerated computing",
    "gpuNum": 1,
    "hideHardwareSpecs": false,
    "memoryGiB": 61,
    "name": "ml.p3.2xlarge",
    "vcpuNum": 8
   },
   {
    "_defaultOrder": 36,
    "_isFastLaunch": false,
    "category": "Accelerated computing",
    "gpuNum": 4,
    "hideHardwareSpecs": false,
    "memoryGiB": 244,
    "name": "ml.p3.8xlarge",
    "vcpuNum": 32
   },
   {
    "_defaultOrder": 37,
    "_isFastLaunch": false,
    "category": "Accelerated computing",
    "gpuNum": 8,
    "hideHardwareSpecs": false,
    "memoryGiB": 488,
    "name": "ml.p3.16xlarge",
    "vcpuNum": 64
   },
   {
    "_defaultOrder": 38,
    "_isFastLaunch": false,
    "category": "Accelerated computing",
    "gpuNum": 8,
    "hideHardwareSpecs": false,
    "memoryGiB": 768,
    "name": "ml.p3dn.24xlarge",
    "vcpuNum": 96
   },
   {
    "_defaultOrder": 39,
    "_isFastLaunch": false,
    "category": "Memory Optimized",
    "gpuNum": 0,
    "hideHardwareSpecs": false,
    "memoryGiB": 16,
    "name": "ml.r5.large",
    "vcpuNum": 2
   },
   {
    "_defaultOrder": 40,
    "_isFastLaunch": false,
    "category": "Memory Optimized",
    "gpuNum": 0,
    "hideHardwareSpecs": false,
    "memoryGiB": 32,
    "name": "ml.r5.xlarge",
    "vcpuNum": 4
   },
   {
    "_defaultOrder": 41,
    "_isFastLaunch": false,
    "category": "Memory Optimized",
    "gpuNum": 0,
    "hideHardwareSpecs": false,
    "memoryGiB": 64,
    "name": "ml.r5.2xlarge",
    "vcpuNum": 8
   },
   {
    "_defaultOrder": 42,
    "_isFastLaunch": false,
    "category": "Memory Optimized",
    "gpuNum": 0,
    "hideHardwareSpecs": false,
    "memoryGiB": 128,
    "name": "ml.r5.4xlarge",
    "vcpuNum": 16
   },
   {
    "_defaultOrder": 43,
    "_isFastLaunch": false,
    "category": "Memory Optimized",
    "gpuNum": 0,
    "hideHardwareSpecs": false,
    "memoryGiB": 256,
    "name": "ml.r5.8xlarge",
    "vcpuNum": 32
   },
   {
    "_defaultOrder": 44,
    "_isFastLaunch": false,
    "category": "Memory Optimized",
    "gpuNum": 0,
    "hideHardwareSpecs": false,
    "memoryGiB": 384,
    "name": "ml.r5.12xlarge",
    "vcpuNum": 48
   },
   {
    "_defaultOrder": 45,
    "_isFastLaunch": false,
    "category": "Memory Optimized",
    "gpuNum": 0,
    "hideHardwareSpecs": false,
    "memoryGiB": 512,
    "name": "ml.r5.16xlarge",
    "vcpuNum": 64
   },
   {
    "_defaultOrder": 46,
    "_isFastLaunch": false,
    "category": "Memory Optimized",
    "gpuNum": 0,
    "hideHardwareSpecs": false,
    "memoryGiB": 768,
    "name": "ml.r5.24xlarge",
    "vcpuNum": 96
   },
   {
    "_defaultOrder": 47,
    "_isFastLaunch": false,
    "category": "Accelerated computing",
    "gpuNum": 1,
    "hideHardwareSpecs": false,
    "memoryGiB": 16,
    "name": "ml.g5.xlarge",
    "vcpuNum": 4
   },
   {
    "_defaultOrder": 48,
    "_isFastLaunch": false,
    "category": "Accelerated computing",
    "gpuNum": 1,
    "hideHardwareSpecs": false,
    "memoryGiB": 32,
    "name": "ml.g5.2xlarge",
    "vcpuNum": 8
   },
   {
    "_defaultOrder": 49,
    "_isFastLaunch": false,
    "category": "Accelerated computing",
    "gpuNum": 1,
    "hideHardwareSpecs": false,
    "memoryGiB": 64,
    "name": "ml.g5.4xlarge",
    "vcpuNum": 16
   },
   {
    "_defaultOrder": 50,
    "_isFastLaunch": false,
    "category": "Accelerated computing",
    "gpuNum": 1,
    "hideHardwareSpecs": false,
    "memoryGiB": 128,
    "name": "ml.g5.8xlarge",
    "vcpuNum": 32
   },
   {
    "_defaultOrder": 51,
    "_isFastLaunch": false,
    "category": "Accelerated computing",
    "gpuNum": 1,
    "hideHardwareSpecs": false,
    "memoryGiB": 256,
    "name": "ml.g5.16xlarge",
    "vcpuNum": 64
   },
   {
    "_defaultOrder": 52,
    "_isFastLaunch": false,
    "category": "Accelerated computing",
    "gpuNum": 4,
    "hideHardwareSpecs": false,
    "memoryGiB": 192,
    "name": "ml.g5.12xlarge",
    "vcpuNum": 48
   },
   {
    "_defaultOrder": 53,
    "_isFastLaunch": false,
    "category": "Accelerated computing",
    "gpuNum": 4,
    "hideHardwareSpecs": false,
    "memoryGiB": 384,
    "name": "ml.g5.24xlarge",
    "vcpuNum": 96
   },
   {
    "_defaultOrder": 54,
    "_isFastLaunch": false,
    "category": "Accelerated computing",
    "gpuNum": 8,
    "hideHardwareSpecs": false,
    "memoryGiB": 768,
    "name": "ml.g5.48xlarge",
    "vcpuNum": 192
   },
   {
    "_defaultOrder": 55,
    "_isFastLaunch": false,
    "category": "Accelerated computing",
    "gpuNum": 8,
    "hideHardwareSpecs": false,
    "memoryGiB": 1152,
    "name": "ml.p4d.24xlarge",
    "vcpuNum": 96
   },
   {
    "_defaultOrder": 56,
    "_isFastLaunch": false,
    "category": "Accelerated computing",
    "gpuNum": 8,
    "hideHardwareSpecs": false,
    "memoryGiB": 1152,
    "name": "ml.p4de.24xlarge",
    "vcpuNum": 96
   }
  ],
  "instance_type": "ml.t3.medium",
  "kernelspec": {
   "display_name": "conda_tensorflow2_p310",
   "language": "python",
   "name": "conda_tensorflow2_p310"
  },
  "language_info": {
   "codemirror_mode": {
    "name": "ipython",
    "version": 3
   },
   "file_extension": ".py",
   "mimetype": "text/x-python",
   "name": "python",
   "nbconvert_exporter": "python",
   "pygments_lexer": "ipython3",
   "version": "3.10.13"
  }
 },
 "nbformat": 4,
 "nbformat_minor": 5
}
