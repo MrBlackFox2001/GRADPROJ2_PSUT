{
 "cells": [
  {
   "cell_type": "code",
   "execution_count": null,
   "metadata": {},
   "outputs": [],
   "source": [
    "#Setup\n",
    "import boto3\n",
    "import sagemaker\n",
    "region = boto3.Session().region_name\n",
    "client = boto3.client(\"sagemaker\", region_name=region)\n",
    "\n",
    "#Role to give SageMaker permission to access AWS services.\n",
    "sagemaker_role = sagemaker.get_execution_role()\n",
    "\n",
    "#Get model from S3\n",
    "model_url = \"s3://bucketgrad2/path/to/ecg_classifier.tar.gz\"\n",
    "\n",
    "#Get container image (prebuilt example)\n",
    "from sagemaker import image_uris\n",
    "container = image_uris.retrieve(\"xgboost\", region, \"0.90-1\")\n",
    "\n",
    "#Create model\n",
    "model_name = \"ecgclassifier\"\n",
    "\n",
    "response = client.create_model(\n",
    "    ModelName = model_name,\n",
    "    ExecutionRoleArn = sagemaker_role,\n",
    "    Containers = [{\n",
    "        \"Image\": container,\n",
    "        \"Mode\": \"SingleModel\",\n",
    "        \"ModelDataUrl\": model_url,\n",
    "    }]\n",
    ")"
   ]
  },
  {
   "cell_type": "code",
   "execution_count": null,
   "metadata": {},
   "outputs": [],
   "source": [
    "response = client.create_endpoint_config(\n",
    "   EndpointConfigName=\"ecgclassifier\",\n",
    "   #KmsKeyId=\"arn:aws:kms:us-east-1:123456789012:key/143ef68f-76fd-45e3-abba-ed28fc8d3d5e\",#issue maker\n",
    "   ProductionVariants=[\n",
    "        {\n",
    "            \"ModelName\": \"ecgclassifier\",\n",
    "            \"VariantName\": \"AllTraffic\",\n",
    "            \"ServerlessConfig\": {\n",
    "                \"MemorySizeInMB\": 2048,\n",
    "                \"MaxConcurrency\": 9,\n",
    "                \"ProvisionedConcurrency\": 5,\n",
    "            }\n",
    "        } \n",
    "    ]\n",
    ")"
   ]
  },
  {
   "cell_type": "code",
   "execution_count": null,
   "metadata": {},
   "outputs": [],
   "source": [
    "response = client.create_endpoint(\n",
    "    EndpointName=\"ecgclassifier\",\n",
    "    EndpointConfigName=\"ecgclassifier\"\n",
    ")"
   ]
  }
 ],
 "metadata": {
  "language_info": {
   "name": "python"
  }
 },
 "nbformat": 4,
 "nbformat_minor": 2
}
