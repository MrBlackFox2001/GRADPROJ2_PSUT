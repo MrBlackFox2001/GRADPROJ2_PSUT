{
 "cells": [
  {
   "cell_type": "code",
   "execution_count": 1,
   "id": "9a78e058-4c2a-4412-ba1a-4be2b1a24469",
   "metadata": {
    "tags": []
   },
   "outputs": [],
   "source": [
    "import os\n",
    "import numpy as np\n",
    "import pandas as pd\n",
    "import matplotlib.pyplot as plt\n",
    "from sklearn.model_selection import train_test_split\n",
    "from tensorflow.python.keras  import utils\n",
    "from keras.utils import to_categorical\n",
    "from sklearn.utils import class_weight, resample\n",
    "import pandas as pd\n",
    "import seaborn as sns\n",
    "import matplotlib.pyplot as plt\n",
    "from sklearn import preprocessing\n",
    "from scipy import stats\n",
    "import numpy as np\n",
    "import statsmodels.api as sm\n",
    "from sklearn.model_selection import train_test_split\n",
    "from sklearn.metrics import confusion_matrix, accuracy_score\n",
    "from sklearn import metrics"
   ]
  },
  {
   "cell_type": "code",
   "execution_count": 2,
   "metadata": {},
   "outputs": [],
   "source": [
    "ecg_df=pd.read_csv(r\"C:\\Users\\USER\\Desktop\\csvdataecgmitbih\\MIT-BIH Arrhythmia Database.csv\")"
   ]
  },
  {
   "cell_type": "code",
   "execution_count": 2,
   "id": "85ed3e7d-cba0-48da-b7a6-325f0d6425a1",
   "metadata": {
    "tags": []
   },
   "outputs": [
    {
     "name": "stdout",
     "output_type": "stream",
     "text": [
      "sagemaker.config INFO - Not applying SDK defaults from location: /etc/xdg/sagemaker/config.yaml\n",
      "sagemaker.config INFO - Not applying SDK defaults from location: /home/ec2-user/.config/sagemaker/config.yaml\n",
      "sagemaker.config INFO - Not applying SDK defaults from location: /etc/xdg/sagemaker/config.yaml\n",
      "sagemaker.config INFO - Not applying SDK defaults from location: /home/ec2-user/.config/sagemaker/config.yaml\n",
      "sagemaker.config INFO - Not applying SDK defaults from location: /etc/xdg/sagemaker/config.yaml\n",
      "sagemaker.config INFO - Not applying SDK defaults from location: /home/ec2-user/.config/sagemaker/config.yaml\n"
     ]
    }
   ],
   "source": [
    "import sagemaker\n",
    "from sagemaker import get_execution_role\n",
    "import pandas as pd\n",
    "\n",
    "sagemaker_session = sagemaker.Session()\n",
    "role = get_execution_role()\n",
    "\n",
    "s3_uri = 's3://bucketgrad3/MIT-BIH Arrhythmia Database.csv'\n",
    "\n",
    "# Download the data to SageMaker instance\n",
    "sagemaker_session.download_data(path='local/path', bucket='bucketgrad3', key_prefix='MIT-BIH Arrhythmia Database.csv')\n",
    "\n",
    "ecg_df= pd.read_csv('local/path/MIT-BIH Arrhythmia Database.csv')\n",
    "\n"
   ]
  },
  {
   "cell_type": "code",
   "execution_count": 3,
   "id": "108bf77d-5ab1-4b40-9784-d28fb1da5da6",
   "metadata": {
    "tags": []
   },
   "outputs": [
    {
     "data": {
      "text/html": [
       "<div>\n",
       "<style scoped>\n",
       "    .dataframe tbody tr th:only-of-type {\n",
       "        vertical-align: middle;\n",
       "    }\n",
       "\n",
       "    .dataframe tbody tr th {\n",
       "        vertical-align: top;\n",
       "    }\n",
       "\n",
       "    .dataframe thead th {\n",
       "        text-align: right;\n",
       "    }\n",
       "</style>\n",
       "<table border=\"1\" class=\"dataframe\">\n",
       "  <thead>\n",
       "    <tr style=\"text-align: right;\">\n",
       "      <th></th>\n",
       "      <th>record</th>\n",
       "      <th>type</th>\n",
       "      <th>0_pre-RR</th>\n",
       "      <th>0_post-RR</th>\n",
       "      <th>0_pPeak</th>\n",
       "      <th>0_tPeak</th>\n",
       "      <th>0_rPeak</th>\n",
       "      <th>0_sPeak</th>\n",
       "      <th>0_qPeak</th>\n",
       "      <th>0_qrs_interval</th>\n",
       "      <th>...</th>\n",
       "      <th>1_qPeak</th>\n",
       "      <th>1_qrs_interval</th>\n",
       "      <th>1_pq_interval</th>\n",
       "      <th>1_qt_interval</th>\n",
       "      <th>1_st_interval</th>\n",
       "      <th>1_qrs_morph0</th>\n",
       "      <th>1_qrs_morph1</th>\n",
       "      <th>1_qrs_morph2</th>\n",
       "      <th>1_qrs_morph3</th>\n",
       "      <th>1_qrs_morph4</th>\n",
       "    </tr>\n",
       "  </thead>\n",
       "  <tbody>\n",
       "    <tr>\n",
       "      <th>0</th>\n",
       "      <td>101</td>\n",
       "      <td>N</td>\n",
       "      <td>76</td>\n",
       "      <td>313.0</td>\n",
       "      <td>0.074347</td>\n",
       "      <td>-0.160548</td>\n",
       "      <td>1.036401</td>\n",
       "      <td>-0.285662</td>\n",
       "      <td>-0.026824</td>\n",
       "      <td>41</td>\n",
       "      <td>...</td>\n",
       "      <td>0.025930</td>\n",
       "      <td>2</td>\n",
       "      <td>18</td>\n",
       "      <td>22</td>\n",
       "      <td>2</td>\n",
       "      <td>0.025930</td>\n",
       "      <td>0.025930</td>\n",
       "      <td>0.025930</td>\n",
       "      <td>0.025436</td>\n",
       "      <td>0.025436</td>\n",
       "    </tr>\n",
       "    <tr>\n",
       "      <th>1</th>\n",
       "      <td>101</td>\n",
       "      <td>N</td>\n",
       "      <td>313</td>\n",
       "      <td>315.0</td>\n",
       "      <td>-0.052079</td>\n",
       "      <td>-0.264784</td>\n",
       "      <td>0.886597</td>\n",
       "      <td>-0.366298</td>\n",
       "      <td>-0.059710</td>\n",
       "      <td>21</td>\n",
       "      <td>...</td>\n",
       "      <td>-0.042009</td>\n",
       "      <td>26</td>\n",
       "      <td>27</td>\n",
       "      <td>62</td>\n",
       "      <td>9</td>\n",
       "      <td>-0.042009</td>\n",
       "      <td>-0.029498</td>\n",
       "      <td>0.005012</td>\n",
       "      <td>0.030892</td>\n",
       "      <td>0.002986</td>\n",
       "    </tr>\n",
       "    <tr>\n",
       "      <th>2</th>\n",
       "      <td>101</td>\n",
       "      <td>N</td>\n",
       "      <td>315</td>\n",
       "      <td>321.0</td>\n",
       "      <td>-0.062151</td>\n",
       "      <td>-0.296983</td>\n",
       "      <td>0.991859</td>\n",
       "      <td>-0.410306</td>\n",
       "      <td>-0.065686</td>\n",
       "      <td>22</td>\n",
       "      <td>...</td>\n",
       "      <td>0.009528</td>\n",
       "      <td>3</td>\n",
       "      <td>8</td>\n",
       "      <td>12</td>\n",
       "      <td>1</td>\n",
       "      <td>0.009528</td>\n",
       "      <td>0.009528</td>\n",
       "      <td>0.008786</td>\n",
       "      <td>0.008786</td>\n",
       "      <td>0.008368</td>\n",
       "    </tr>\n",
       "    <tr>\n",
       "      <th>3</th>\n",
       "      <td>101</td>\n",
       "      <td>N</td>\n",
       "      <td>321</td>\n",
       "      <td>336.0</td>\n",
       "      <td>-0.063322</td>\n",
       "      <td>-0.281386</td>\n",
       "      <td>1.034903</td>\n",
       "      <td>-0.403880</td>\n",
       "      <td>-0.071750</td>\n",
       "      <td>22</td>\n",
       "      <td>...</td>\n",
       "      <td>-0.020536</td>\n",
       "      <td>6</td>\n",
       "      <td>9</td>\n",
       "      <td>16</td>\n",
       "      <td>1</td>\n",
       "      <td>-0.020536</td>\n",
       "      <td>-0.020257</td>\n",
       "      <td>-0.018965</td>\n",
       "      <td>-0.016968</td>\n",
       "      <td>-0.014555</td>\n",
       "    </tr>\n",
       "    <tr>\n",
       "      <th>4</th>\n",
       "      <td>101</td>\n",
       "      <td>N</td>\n",
       "      <td>336</td>\n",
       "      <td>344.0</td>\n",
       "      <td>-0.062915</td>\n",
       "      <td>1.046914</td>\n",
       "      <td>1.046408</td>\n",
       "      <td>1.046408</td>\n",
       "      <td>-0.074639</td>\n",
       "      <td>11</td>\n",
       "      <td>...</td>\n",
       "      <td>0.016053</td>\n",
       "      <td>16</td>\n",
       "      <td>5</td>\n",
       "      <td>31</td>\n",
       "      <td>10</td>\n",
       "      <td>0.016053</td>\n",
       "      <td>0.006742</td>\n",
       "      <td>0.002782</td>\n",
       "      <td>-0.007798</td>\n",
       "      <td>-0.051155</td>\n",
       "    </tr>\n",
       "    <tr>\n",
       "      <th>...</th>\n",
       "      <td>...</td>\n",
       "      <td>...</td>\n",
       "      <td>...</td>\n",
       "      <td>...</td>\n",
       "      <td>...</td>\n",
       "      <td>...</td>\n",
       "      <td>...</td>\n",
       "      <td>...</td>\n",
       "      <td>...</td>\n",
       "      <td>...</td>\n",
       "      <td>...</td>\n",
       "      <td>...</td>\n",
       "      <td>...</td>\n",
       "      <td>...</td>\n",
       "      <td>...</td>\n",
       "      <td>...</td>\n",
       "      <td>...</td>\n",
       "      <td>...</td>\n",
       "      <td>...</td>\n",
       "      <td>...</td>\n",
       "      <td>...</td>\n",
       "    </tr>\n",
       "    <tr>\n",
       "      <th>100684</th>\n",
       "      <td>234</td>\n",
       "      <td>N</td>\n",
       "      <td>240</td>\n",
       "      <td>241.0</td>\n",
       "      <td>-0.110230</td>\n",
       "      <td>1.420339</td>\n",
       "      <td>1.403346</td>\n",
       "      <td>1.403346</td>\n",
       "      <td>-0.115682</td>\n",
       "      <td>14</td>\n",
       "      <td>...</td>\n",
       "      <td>-0.069234</td>\n",
       "      <td>5</td>\n",
       "      <td>6</td>\n",
       "      <td>20</td>\n",
       "      <td>9</td>\n",
       "      <td>-0.069234</td>\n",
       "      <td>-0.068378</td>\n",
       "      <td>-0.065373</td>\n",
       "      <td>-0.060779</td>\n",
       "      <td>-0.054383</td>\n",
       "    </tr>\n",
       "    <tr>\n",
       "      <th>100685</th>\n",
       "      <td>234</td>\n",
       "      <td>N</td>\n",
       "      <td>241</td>\n",
       "      <td>243.0</td>\n",
       "      <td>-0.119014</td>\n",
       "      <td>1.424782</td>\n",
       "      <td>1.420328</td>\n",
       "      <td>1.420328</td>\n",
       "      <td>-0.134406</td>\n",
       "      <td>13</td>\n",
       "      <td>...</td>\n",
       "      <td>-0.069530</td>\n",
       "      <td>7</td>\n",
       "      <td>5</td>\n",
       "      <td>20</td>\n",
       "      <td>8</td>\n",
       "      <td>-0.069530</td>\n",
       "      <td>-0.069290</td>\n",
       "      <td>-0.066317</td>\n",
       "      <td>-0.053437</td>\n",
       "      <td>-0.045120</td>\n",
       "    </tr>\n",
       "    <tr>\n",
       "      <th>100686</th>\n",
       "      <td>234</td>\n",
       "      <td>N</td>\n",
       "      <td>243</td>\n",
       "      <td>252.0</td>\n",
       "      <td>0.173524</td>\n",
       "      <td>-0.443214</td>\n",
       "      <td>1.436878</td>\n",
       "      <td>-0.714642</td>\n",
       "      <td>-0.136431</td>\n",
       "      <td>38</td>\n",
       "      <td>...</td>\n",
       "      <td>-0.089396</td>\n",
       "      <td>9</td>\n",
       "      <td>7</td>\n",
       "      <td>24</td>\n",
       "      <td>8</td>\n",
       "      <td>-0.089396</td>\n",
       "      <td>-0.088155</td>\n",
       "      <td>-0.078611</td>\n",
       "      <td>-0.066763</td>\n",
       "      <td>-0.058650</td>\n",
       "    </tr>\n",
       "    <tr>\n",
       "      <th>100687</th>\n",
       "      <td>234</td>\n",
       "      <td>N</td>\n",
       "      <td>252</td>\n",
       "      <td>244.0</td>\n",
       "      <td>-0.119820</td>\n",
       "      <td>-0.401522</td>\n",
       "      <td>1.337051</td>\n",
       "      <td>-0.688560</td>\n",
       "      <td>-0.125076</td>\n",
       "      <td>27</td>\n",
       "      <td>...</td>\n",
       "      <td>-0.065487</td>\n",
       "      <td>3</td>\n",
       "      <td>1</td>\n",
       "      <td>12</td>\n",
       "      <td>8</td>\n",
       "      <td>-0.065487</td>\n",
       "      <td>-0.065487</td>\n",
       "      <td>-0.064941</td>\n",
       "      <td>-0.064941</td>\n",
       "      <td>-0.061120</td>\n",
       "    </tr>\n",
       "    <tr>\n",
       "      <th>100688</th>\n",
       "      <td>234</td>\n",
       "      <td>N</td>\n",
       "      <td>244</td>\n",
       "      <td>236.0</td>\n",
       "      <td>0.162909</td>\n",
       "      <td>1.416672</td>\n",
       "      <td>1.409440</td>\n",
       "      <td>1.409440</td>\n",
       "      <td>-0.118397</td>\n",
       "      <td>28</td>\n",
       "      <td>...</td>\n",
       "      <td>-0.078260</td>\n",
       "      <td>5</td>\n",
       "      <td>8</td>\n",
       "      <td>21</td>\n",
       "      <td>8</td>\n",
       "      <td>-0.078260</td>\n",
       "      <td>-0.077918</td>\n",
       "      <td>-0.075665</td>\n",
       "      <td>-0.070433</td>\n",
       "      <td>-0.060190</td>\n",
       "    </tr>\n",
       "  </tbody>\n",
       "</table>\n",
       "<p>100689 rows × 34 columns</p>\n",
       "</div>"
      ],
      "text/plain": [
       "        record type  0_pre-RR  0_post-RR   0_pPeak   0_tPeak   0_rPeak  \\\n",
       "0          101    N        76      313.0  0.074347 -0.160548  1.036401   \n",
       "1          101    N       313      315.0 -0.052079 -0.264784  0.886597   \n",
       "2          101    N       315      321.0 -0.062151 -0.296983  0.991859   \n",
       "3          101    N       321      336.0 -0.063322 -0.281386  1.034903   \n",
       "4          101    N       336      344.0 -0.062915  1.046914  1.046408   \n",
       "...        ...  ...       ...        ...       ...       ...       ...   \n",
       "100684     234    N       240      241.0 -0.110230  1.420339  1.403346   \n",
       "100685     234    N       241      243.0 -0.119014  1.424782  1.420328   \n",
       "100686     234    N       243      252.0  0.173524 -0.443214  1.436878   \n",
       "100687     234    N       252      244.0 -0.119820 -0.401522  1.337051   \n",
       "100688     234    N       244      236.0  0.162909  1.416672  1.409440   \n",
       "\n",
       "         0_sPeak   0_qPeak  0_qrs_interval  ...   1_qPeak  1_qrs_interval  \\\n",
       "0      -0.285662 -0.026824              41  ...  0.025930               2   \n",
       "1      -0.366298 -0.059710              21  ... -0.042009              26   \n",
       "2      -0.410306 -0.065686              22  ...  0.009528               3   \n",
       "3      -0.403880 -0.071750              22  ... -0.020536               6   \n",
       "4       1.046408 -0.074639              11  ...  0.016053              16   \n",
       "...          ...       ...             ...  ...       ...             ...   \n",
       "100684  1.403346 -0.115682              14  ... -0.069234               5   \n",
       "100685  1.420328 -0.134406              13  ... -0.069530               7   \n",
       "100686 -0.714642 -0.136431              38  ... -0.089396               9   \n",
       "100687 -0.688560 -0.125076              27  ... -0.065487               3   \n",
       "100688  1.409440 -0.118397              28  ... -0.078260               5   \n",
       "\n",
       "        1_pq_interval  1_qt_interval  1_st_interval  1_qrs_morph0  \\\n",
       "0                  18             22              2      0.025930   \n",
       "1                  27             62              9     -0.042009   \n",
       "2                   8             12              1      0.009528   \n",
       "3                   9             16              1     -0.020536   \n",
       "4                   5             31             10      0.016053   \n",
       "...               ...            ...            ...           ...   \n",
       "100684              6             20              9     -0.069234   \n",
       "100685              5             20              8     -0.069530   \n",
       "100686              7             24              8     -0.089396   \n",
       "100687              1             12              8     -0.065487   \n",
       "100688              8             21              8     -0.078260   \n",
       "\n",
       "        1_qrs_morph1  1_qrs_morph2  1_qrs_morph3  1_qrs_morph4  \n",
       "0           0.025930      0.025930      0.025436      0.025436  \n",
       "1          -0.029498      0.005012      0.030892      0.002986  \n",
       "2           0.009528      0.008786      0.008786      0.008368  \n",
       "3          -0.020257     -0.018965     -0.016968     -0.014555  \n",
       "4           0.006742      0.002782     -0.007798     -0.051155  \n",
       "...              ...           ...           ...           ...  \n",
       "100684     -0.068378     -0.065373     -0.060779     -0.054383  \n",
       "100685     -0.069290     -0.066317     -0.053437     -0.045120  \n",
       "100686     -0.088155     -0.078611     -0.066763     -0.058650  \n",
       "100687     -0.065487     -0.064941     -0.064941     -0.061120  \n",
       "100688     -0.077918     -0.075665     -0.070433     -0.060190  \n",
       "\n",
       "[100689 rows x 34 columns]"
      ]
     },
     "execution_count": 3,
     "metadata": {},
     "output_type": "execute_result"
    }
   ],
   "source": [
    "ecg_df"
   ]
  },
  {
   "cell_type": "code",
   "execution_count": 4,
   "id": "70964a40",
   "metadata": {},
   "outputs": [
    {
     "name": "stdout",
     "output_type": "stream",
     "text": [
      "              record       0_pre-RR      0_post-RR        0_pPeak  \\\n",
      "count  100689.000000  100689.000000  100689.000000  100689.000000   \n",
      "mean      173.730984     279.400947     278.588207       0.049772   \n",
      "std        51.673158      81.915453      81.124963       0.168789   \n",
      "min       100.000000      11.000000       6.000000      -3.094391   \n",
      "25%       115.000000     230.000000     230.000000      -0.054749   \n",
      "50%       203.000000     267.000000     266.000000       0.015865   \n",
      "75%       219.000000     324.000000     322.000000       0.125809   \n",
      "max       234.000000    2114.000000    2114.000000       3.821118   \n",
      "\n",
      "             0_tPeak        0_rPeak        0_sPeak        0_qPeak  \\\n",
      "count  100689.000000  100689.000000  100689.000000  100689.000000   \n",
      "mean        0.372262       1.054485      -0.134376      -0.090466   \n",
      "std         0.739879       0.617508       1.027590       0.189436   \n",
      "min        -2.006422      -2.372835      -3.622550      -3.871359   \n",
      "25%        -0.249060       0.754047      -0.781784      -0.133274   \n",
      "50%         0.240303       1.105142      -0.516340      -0.069539   \n",
      "75%         0.928176       1.424135       0.857247      -0.014636   \n",
      "max         4.118327       4.018918       4.018918       3.080710   \n",
      "\n",
      "       0_qrs_interval  0_pq_interval  ...        1_qPeak  1_qrs_interval  \\\n",
      "count   100689.000000  100689.000000  ...  100689.000000   100689.000000   \n",
      "mean        28.326858      10.972817  ...      -0.321359       11.212347   \n",
      "std         15.027789       9.468930  ...       0.447444       12.043096   \n",
      "min          0.000000       1.000000  ...      -5.481982        0.000000   \n",
      "25%         18.000000       5.000000  ...      -0.529435        3.000000   \n",
      "50%         27.000000       7.000000  ...      -0.111843        7.000000   \n",
      "75%         38.000000      16.000000  ...      -0.028438       18.000000   \n",
      "max        170.000000     150.000000  ...       4.033554      260.000000   \n",
      "\n",
      "       1_pq_interval  1_qt_interval  1_st_interval   1_qrs_morph0  \\\n",
      "count  100689.000000  100689.000000  100689.000000  100689.000000   \n",
      "mean       10.487163      36.112922      14.413412      -0.321359   \n",
      "std         8.799687      17.419760       9.118872       0.447444   \n",
      "min         1.000000       5.000000       1.000000      -5.481982   \n",
      "25%         5.000000      25.000000      10.000000      -0.529435   \n",
      "50%         8.000000      33.000000      12.000000      -0.111843   \n",
      "75%        13.000000      45.000000      17.000000      -0.028438   \n",
      "max       185.000000     412.000000     215.000000       4.033554   \n",
      "\n",
      "        1_qrs_morph1   1_qrs_morph2   1_qrs_morph3   1_qrs_morph4  \n",
      "count  100689.000000  100689.000000  100689.000000  100689.000000  \n",
      "mean       -0.317836      -0.308809      -0.294919      -0.366798  \n",
      "std         0.456949       0.518043       0.593426       0.584913  \n",
      "min        -4.493784      -4.398122      -4.069726      -4.520327  \n",
      "25%        -0.537288      -0.603469      -0.622269      -0.673902  \n",
      "50%        -0.115650      -0.151890      -0.196801      -0.262222  \n",
      "75%        -0.016348       0.016088       0.040575      -0.052769  \n",
      "max         3.585718       2.691557       3.755566       2.869186  \n",
      "\n",
      "[8 rows x 33 columns]\n"
     ]
    },
    {
     "data": {
      "image/png": "[encoded data removed]",
      "text/plain": [
       "<Figure size 1000x600 with 1 Axes>"
      ]
     },
     "metadata": {},
     "output_type": "display_data"
    },
    {
     "name": "stdout",
     "output_type": "stream",
     "text": [
      "Number of  Rows with outliers:\n",
      "record            46243\n",
      "type              46243\n",
      "0_pre-RR          46243\n",
      "0_post-RR         46243\n",
      "0_pPeak           46243\n",
      "0_tPeak           46243\n",
      "0_rPeak           46243\n",
      "0_sPeak           46243\n",
      "0_qPeak           46243\n",
      "0_qrs_interval    46243\n",
      "0_pq_interval     46243\n",
      "0_qt_interval     46243\n",
      "0_st_interval     46243\n",
      "0_qrs_morph0      46243\n",
      "0_qrs_morph1      46243\n",
      "0_qrs_morph2      46243\n",
      "0_qrs_morph3      46243\n",
      "0_qrs_morph4      46243\n",
      "1_pre-RR          46243\n",
      "1_post-RR         46243\n",
      "1_pPeak           46243\n",
      "1_tPeak           46243\n",
      "1_rPeak           46243\n",
      "1_sPeak           46243\n",
      "1_qPeak           46243\n",
      "1_qrs_interval    46243\n",
      "1_pq_interval     46243\n",
      "1_qt_interval     46243\n",
      "1_st_interval     46243\n",
      "1_qrs_morph0      46243\n",
      "1_qrs_morph1      46243\n",
      "1_qrs_morph2      46243\n",
      "1_qrs_morph3      46243\n",
      "1_qrs_morph4      46243\n",
      "dtype: int64\n"
     ]
    }
   ],
   "source": [
    "import pandas as pd\n",
    "import seaborn as sns\n",
    "import matplotlib.pyplot as plt\n",
    "\n",
    "# Assuming 'ecg_df' is your DataFrame\n",
    "\n",
    "# Select numerical columns for summary statistics\n",
    "numerical_cols = ecg_df.select_dtypes(include=['number']).columns\n",
    "summary_stats = ecg_df[numerical_cols].describe()\n",
    "print(summary_stats)\n",
    "\n",
    "# Box plot to visualize outliers\n",
    "plt.figure(figsize=(10, 6))\n",
    "sns.boxplot(data=ecg_df[numerical_cols])\n",
    "plt.title(\"Boxplot of ECG DataFrame\")\n",
    "plt.xticks(rotation=45)  # Adjust the rotation angle as needed\n",
    "plt.show()\n",
    "\n",
    "# Identify and print rows with outliers using the IQR method\n",
    "Q1 = ecg_df[numerical_cols].quantile(0.25)\n",
    "Q3 = ecg_df[numerical_cols].quantile(0.75)\n",
    "IQR = Q3 - Q1\n",
    "\n",
    "outliers = ((ecg_df[numerical_cols] < (Q1 - 1.5 * IQR)) | (ecg_df[numerical_cols] > (Q3 + 1.5 * IQR))).any(axis=1)\n",
    "outlier_rows = ecg_df[outliers]\n",
    "print(\"Number of  Rows with outliers:\")\n",
    "print(outlier_rows.count())\n"
   ]
  },
  {
   "cell_type": "code",
   "execution_count": 5,
   "id": "ac11a8e9-3e0c-4961-9db4-d4ce8f3a9b37",
   "metadata": {},
   "outputs": [],
   "source": [
    "from tensorflow.keras import Sequential,utils\n",
    "from tensorflow.keras.layers import Flatten, Dense, Conv1D, MaxPool1D, Dropout"
   ]
  },
  {
   "cell_type": "code",
   "execution_count": 6,
   "id": "f880705f-90d5-4669-bc71-18c2575ef382",
   "metadata": {
    "tags": []
   },
   "outputs": [
    {
     "name": "stdout",
     "output_type": "stream",
     "text": [
      "<class 'pandas.core.frame.DataFrame'>\n",
      "RangeIndex: 100689 entries, 0 to 100688\n",
      "Data columns (total 34 columns):\n",
      " #   Column          Non-Null Count   Dtype  \n",
      "---  ------          --------------   -----  \n",
      " 0   record          100689 non-null  int64  \n",
      " 1   type            100689 non-null  object \n",
      " 2   0_pre-RR        100689 non-null  int64  \n",
      " 3   0_post-RR       100689 non-null  float64\n",
      " 4   0_pPeak         100689 non-null  float64\n",
      " 5   0_tPeak         100689 non-null  float64\n",
      " 6   0_rPeak         100689 non-null  float64\n",
      " 7   0_sPeak         100689 non-null  float64\n",
      " 8   0_qPeak         100689 non-null  float64\n",
      " 9   0_qrs_interval  100689 non-null  int64  \n",
      " 10  0_pq_interval   100689 non-null  int64  \n",
      " 11  0_qt_interval   100689 non-null  int64  \n",
      " 12  0_st_interval   100689 non-null  int64  \n",
      " 13  0_qrs_morph0    100689 non-null  float64\n",
      " 14  0_qrs_morph1    100689 non-null  float64\n",
      " 15  0_qrs_morph2    100689 non-null  float64\n",
      " 16  0_qrs_morph3    100689 non-null  float64\n",
      " 17  0_qrs_morph4    100689 non-null  float64\n",
      " 18  1_pre-RR        100689 non-null  int64  \n",
      " 19  1_post-RR       100689 non-null  float64\n",
      " 20  1_pPeak         100689 non-null  float64\n",
      " 21  1_tPeak         100689 non-null  float64\n",
      " 22  1_rPeak         100689 non-null  float64\n",
      " 23  1_sPeak         100689 non-null  float64\n",
      " 24  1_qPeak         100689 non-null  float64\n",
      " 25  1_qrs_interval  100689 non-null  int64  \n",
      " 26  1_pq_interval   100689 non-null  int64  \n",
      " 27  1_qt_interval   100689 non-null  int64  \n",
      " 28  1_st_interval   100689 non-null  int64  \n",
      " 29  1_qrs_morph0    100689 non-null  float64\n",
      " 30  1_qrs_morph1    100689 non-null  float64\n",
      " 31  1_qrs_morph2    100689 non-null  float64\n",
      " 32  1_qrs_morph3    100689 non-null  float64\n",
      " 33  1_qrs_morph4    100689 non-null  float64\n",
      "dtypes: float64(22), int64(11), object(1)\n",
      "memory usage: 26.1+ MB\n",
      "None\n"
     ]
    }
   ],
   "source": [
    "import seaborn as sns\n",
    "import pandas as pd\n",
    "import numpy as np\n",
    "from sklearn.preprocessing import RobustScaler\n",
    "\n",
    "# Define or load your DataFrame 'ecg_df'\n",
    "\n",
    "# Check the data types of the columns\n",
    "print(ecg_df.info())\n",
    "\n",
    "# Select numerical columns\n",
    "numerical_columns = ecg_df.select_dtypes(include=np.number).columns\n",
    "\n",
    "# Ensure there are no missing values\n",
    "ecg_df.dropna(subset=numerical_columns, inplace=True)\n",
    "\n",
    "# Initialize the RobustScaler\n",
    "robust_scaler = RobustScaler()\n",
    "\n",
    "# Fit and transform the selected columns\n",
    "ecg_df[numerical_columns] = robust_scaler.fit_transform(ecg_df[numerical_columns])\n"
   ]
  },
  {
   "cell_type": "code",
   "execution_count": 7,
   "id": "0fe247ff-9ad7-4d11-bf45-4a37f7eebdb4",
   "metadata": {
    "tags": []
   },
   "outputs": [
    {
     "name": "stdout",
     "output_type": "stream",
     "text": [
      "No missing values found\n"
     ]
    }
   ],
   "source": [
    "counter=0\n",
    "for index, row in ecg_df.iterrows():\n",
    "    for col in ecg_df.columns:\n",
    "        if pd.isnull(row[col]):\n",
    "            counter=counter+1\n",
    "            print(f\"Missing value in row {index}, column {col}\")\n",
    "if(counter==0):\n",
    "    print(\"No missing values found\")"
   ]
  },
  {
   "cell_type": "code",
   "execution_count": 8,
   "id": "c197ebe1-6107-40ec-8615-2fac08d9a82e",
   "metadata": {
    "tags": []
   },
   "outputs": [],
   "source": [
    "mask = ecg_df['type'] =='Q'\n",
    "ecg_df=ecg_df[~mask]"
   ]
  },
  {
   "cell_type": "code",
   "execution_count": 9,
   "id": "031c654e-6375-4371-92a8-0c64b8842838",
   "metadata": {
    "tags": []
   },
   "outputs": [
    {
     "data": {
      "text/plain": [
       "type\n",
       "N       90083\n",
       "VEB      7009\n",
       "SVEB     2779\n",
       "F         803\n",
       "Name: count, dtype: int64"
      ]
     },
     "execution_count": 9,
     "metadata": {},
     "output_type": "execute_result"
    }
   ],
   "source": [
    "ecg_df['type'].value_counts()"
   ]
  },
  {
   "cell_type": "code",
   "execution_count": 10,
   "id": "f3973aa6-7884-411e-beed-d3f51ca8a7a2",
   "metadata": {
    "tags": []
   },
   "outputs": [
    {
     "data": {
      "image/png": "[encoded data removed]",
      "text/plain": [
       "<Figure size 640x480 with 1 Axes>"
      ]
     },
     "metadata": {},
     "output_type": "display_data"
    }
   ],
   "source": [
    "sns.countplot(x='type', data = ecg_df)\n",
    "plt.xticks(rotation=45)\n",
    "plt.show()"
   ]
  },
  {
   "cell_type": "code",
   "execution_count": 11,
   "id": "668e2dd2-65c3-409d-9256-96c2ca472865",
   "metadata": {
    "tags": []
   },
   "outputs": [],
   "source": [
    "n_rows = ecg_df[ecg_df['type'] == 'N']\n",
    "\n",
    "rows_to_keep = int(len(n_rows) * 0.20)\n",
    "\n",
    "n_rows = n_rows.sample(n=rows_to_keep, random_state=42)\n",
    "\n",
    "ecg_df = ecg_df[ecg_df['type'] != 'N']\n",
    "\n",
    "ecg_df = pd.concat([ecg_df, n_rows])\n"
   ]
  },
  {
   "cell_type": "code",
   "execution_count": 12,
   "id": "adfb639a-faf8-4fc7-880b-377ec0fdb7d7",
   "metadata": {
    "tags": []
   },
   "outputs": [
    {
     "data": {
      "text/plain": [
       "type\n",
       "N       18016\n",
       "VEB      7009\n",
       "SVEB     2779\n",
       "F         803\n",
       "Name: count, dtype: int64"
      ]
     },
     "execution_count": 12,
     "metadata": {},
     "output_type": "execute_result"
    }
   ],
   "source": [
    "ecg_df['type'].value_counts()"
   ]
  },
  {
   "cell_type": "code",
   "execution_count": 13,
   "id": "1fdfcf35-69e3-4c0a-b54f-6f940f7fc13a",
   "metadata": {
    "tags": []
   },
   "outputs": [
    {
     "name": "stdout",
     "output_type": "stream",
     "text": [
      "Index(['record', 'type', '0_pre-RR', '0_post-RR', '0_pPeak', '0_tPeak',\n",
      "       '0_rPeak', '0_sPeak', '0_qPeak', '0_qrs_interval', '0_pq_interval',\n",
      "       '0_qt_interval', '0_st_interval', '0_qrs_morph0', '0_qrs_morph1',\n",
      "       '0_qrs_morph2', '0_qrs_morph3', '0_qrs_morph4', '1_pre-RR', '1_post-RR',\n",
      "       '1_pPeak', '1_tPeak', '1_rPeak', '1_sPeak', '1_qPeak', '1_qrs_interval',\n",
      "       '1_pq_interval', '1_qt_interval', '1_st_interval', '1_qrs_morph0',\n",
      "       '1_qrs_morph1', '1_qrs_morph2', '1_qrs_morph3', '1_qrs_morph4'],\n",
      "      dtype='object')\n"
     ]
    }
   ],
   "source": [
    "print(ecg_df.columns)"
   ]
  },
  {
   "cell_type": "code",
   "execution_count": 14,
   "id": "53777d61",
   "metadata": {},
   "outputs": [],
   "source": [
    "ecg_df= ecg_df.drop(columns=['record'])"
   ]
  },
  {
   "cell_type": "code",
   "execution_count": 15,
   "id": "92988a34",
   "metadata": {},
   "outputs": [
    {
     "name": "stdout",
     "output_type": "stream",
     "text": [
      "Index(['type', '0_pre-RR', '0_post-RR', '0_pPeak', '0_tPeak', '0_rPeak',\n",
      "       '0_sPeak', '0_qPeak', '0_qrs_interval', '0_pq_interval',\n",
      "       '0_qt_interval', '0_st_interval', '0_qrs_morph0', '0_qrs_morph1',\n",
      "       '0_qrs_morph2', '0_qrs_morph3', '0_qrs_morph4', '1_pre-RR', '1_post-RR',\n",
      "       '1_pPeak', '1_tPeak', '1_rPeak', '1_sPeak', '1_qPeak', '1_qrs_interval',\n",
      "       '1_pq_interval', '1_qt_interval', '1_st_interval', '1_qrs_morph0',\n",
      "       '1_qrs_morph1', '1_qrs_morph2', '1_qrs_morph3', '1_qrs_morph4'],\n",
      "      dtype='object')\n"
     ]
    }
   ],
   "source": [
    "print(ecg_df.columns)"
   ]
  },
  {
   "cell_type": "code",
   "execution_count": 16,
   "id": "4cb4d6ae-c835-4e5d-9f69-23c5eec15f32",
   "metadata": {
    "tags": []
   },
   "outputs": [
    {
     "name": "stdout",
     "output_type": "stream",
     "text": [
      "Index(['0_pre-RR', '0_pPeak', '0_rPeak', '0_sPeak', '0_qt_interval',\n",
      "       '1_pre-RR', '1_qPeak', '1_qt_interval', '1_qrs_morph0', '1_qrs_morph1'],\n",
      "      dtype='object')\n"
     ]
    }
   ],
   "source": [
    "from sklearn.feature_selection import SelectKBest, f_classif\n",
    "from sklearn.preprocessing import LabelEncoder\n",
    "X = ecg_df.drop('type', axis=1)\n",
    "y = ecg_df['type']\n",
    "lb= LabelEncoder()\n",
    "y=lb.fit_transform(y)\n",
    "selector = SelectKBest(f_classif, k=10)\n",
    "selector.fit(X, y)\n",
    "selected_indices = selector.get_support(indices=True)\n",
    "if len(selected_indices) > 0:\n",
    "    selected_features = X.columns[selected_indices]\n",
    "    print(selected_features)"
   ]
  },
  {
   "cell_type": "code",
   "execution_count": 17,
   "id": "9387fcef-555a-41d9-b721-fc549735df0e",
   "metadata": {
    "tags": []
   },
   "outputs": [],
   "source": [
    "selected=['0_pre-RR', '0_pPeak', '0_rPeak', '0_sPeak', '0_qt_interval','1_pre-RR', '1_qPeak', '1_qt_interval', '1_qrs_morph0', '1_qrs_morph1','type']\n",
    "ecg_df=ecg_df.loc[:, selected]"
   ]
  },
  {
   "cell_type": "code",
   "execution_count": 18,
   "id": "5320360c",
   "metadata": {},
   "outputs": [
    {
     "data": {
      "text/html": [
       "<div>\n",
       "<style scoped>\n",
       "    .dataframe tbody tr th:only-of-type {\n",
       "        vertical-align: middle;\n",
       "    }\n",
       "\n",
       "    .dataframe tbody tr th {\n",
       "        vertical-align: top;\n",
       "    }\n",
       "\n",
       "    .dataframe thead th {\n",
       "        text-align: right;\n",
       "    }\n",
       "</style>\n",
       "<table border=\"1\" class=\"dataframe\">\n",
       "  <thead>\n",
       "    <tr style=\"text-align: right;\">\n",
       "      <th></th>\n",
       "      <th>0_pre-RR</th>\n",
       "      <th>0_pPeak</th>\n",
       "      <th>0_rPeak</th>\n",
       "      <th>0_sPeak</th>\n",
       "      <th>0_qt_interval</th>\n",
       "      <th>1_pre-RR</th>\n",
       "      <th>1_qPeak</th>\n",
       "      <th>1_qt_interval</th>\n",
       "      <th>1_qrs_morph0</th>\n",
       "      <th>1_qrs_morph1</th>\n",
       "      <th>type</th>\n",
       "    </tr>\n",
       "  </thead>\n",
       "  <tbody>\n",
       "    <tr>\n",
       "      <th>420</th>\n",
       "      <td>-0.776596</td>\n",
       "      <td>-0.441555</td>\n",
       "      <td>0.266343</td>\n",
       "      <td>0.119755</td>\n",
       "      <td>-0.357143</td>\n",
       "      <td>-0.776596</td>\n",
       "      <td>0.228382</td>\n",
       "      <td>-1.15</td>\n",
       "      <td>0.228382</td>\n",
       "      <td>0.226947</td>\n",
       "      <td>SVEB</td>\n",
       "    </tr>\n",
       "    <tr>\n",
       "      <th>644</th>\n",
       "      <td>0.702128</td>\n",
       "      <td>0.110813</td>\n",
       "      <td>0.284297</td>\n",
       "      <td>0.070290</td>\n",
       "      <td>-0.261905</td>\n",
       "      <td>0.702128</td>\n",
       "      <td>0.270895</td>\n",
       "      <td>-0.30</td>\n",
       "      <td>0.270895</td>\n",
       "      <td>0.270943</td>\n",
       "      <td>SVEB</td>\n",
       "    </tr>\n",
       "    <tr>\n",
       "      <th>1537</th>\n",
       "      <td>-0.319149</td>\n",
       "      <td>-0.117868</td>\n",
       "      <td>0.373583</td>\n",
       "      <td>0.117490</td>\n",
       "      <td>-0.285714</td>\n",
       "      <td>-0.319149</td>\n",
       "      <td>0.212115</td>\n",
       "      <td>0.55</td>\n",
       "      <td>0.212115</td>\n",
       "      <td>0.212151</td>\n",
       "      <td>SVEB</td>\n",
       "    </tr>\n",
       "    <tr>\n",
       "      <th>1966</th>\n",
       "      <td>-0.712766</td>\n",
       "      <td>-2.296417</td>\n",
       "      <td>-0.064934</td>\n",
       "      <td>-0.547229</td>\n",
       "      <td>1.595238</td>\n",
       "      <td>-0.712766</td>\n",
       "      <td>0.183384</td>\n",
       "      <td>0.75</td>\n",
       "      <td>0.183384</td>\n",
       "      <td>0.204919</td>\n",
       "      <td>VEB</td>\n",
       "    </tr>\n",
       "    <tr>\n",
       "      <th>1967</th>\n",
       "      <td>-0.946809</td>\n",
       "      <td>4.175346</td>\n",
       "      <td>-0.242240</td>\n",
       "      <td>-0.526348</td>\n",
       "      <td>3.238095</td>\n",
       "      <td>-0.946809</td>\n",
       "      <td>-0.717862</td>\n",
       "      <td>-0.30</td>\n",
       "      <td>-0.717862</td>\n",
       "      <td>-0.677092</td>\n",
       "      <td>VEB</td>\n",
       "    </tr>\n",
       "    <tr>\n",
       "      <th>...</th>\n",
       "      <td>...</td>\n",
       "      <td>...</td>\n",
       "      <td>...</td>\n",
       "      <td>...</td>\n",
       "      <td>...</td>\n",
       "      <td>...</td>\n",
       "      <td>...</td>\n",
       "      <td>...</td>\n",
       "      <td>...</td>\n",
       "      <td>...</td>\n",
       "      <td>...</td>\n",
       "    </tr>\n",
       "    <tr>\n",
       "      <th>13067</th>\n",
       "      <td>1.329787</td>\n",
       "      <td>-0.395716</td>\n",
       "      <td>0.874214</td>\n",
       "      <td>1.346699</td>\n",
       "      <td>-0.238095</td>\n",
       "      <td>1.329787</td>\n",
       "      <td>-0.417100</td>\n",
       "      <td>-0.60</td>\n",
       "      <td>-0.417100</td>\n",
       "      <td>-0.393824</td>\n",
       "      <td>N</td>\n",
       "    </tr>\n",
       "    <tr>\n",
       "      <th>13250</th>\n",
       "      <td>0.478723</td>\n",
       "      <td>-0.114855</td>\n",
       "      <td>0.578480</td>\n",
       "      <td>1.225794</td>\n",
       "      <td>-0.190476</td>\n",
       "      <td>0.478723</td>\n",
       "      <td>-0.221401</td>\n",
       "      <td>-0.70</td>\n",
       "      <td>-0.221401</td>\n",
       "      <td>-0.205617</td>\n",
       "      <td>N</td>\n",
       "    </tr>\n",
       "    <tr>\n",
       "      <th>71857</th>\n",
       "      <td>-0.478723</td>\n",
       "      <td>-0.159711</td>\n",
       "      <td>-0.235514</td>\n",
       "      <td>-0.009617</td>\n",
       "      <td>2.309524</td>\n",
       "      <td>-0.478723</td>\n",
       "      <td>-0.061466</td>\n",
       "      <td>-0.20</td>\n",
       "      <td>-0.061466</td>\n",
       "      <td>-0.108109</td>\n",
       "      <td>N</td>\n",
       "    </tr>\n",
       "    <tr>\n",
       "      <th>62652</th>\n",
       "      <td>1.755319</td>\n",
       "      <td>-0.579410</td>\n",
       "      <td>-0.730680</td>\n",
       "      <td>-0.094958</td>\n",
       "      <td>0.047619</td>\n",
       "      <td>1.755319</td>\n",
       "      <td>0.075497</td>\n",
       "      <td>0.10</td>\n",
       "      <td>0.075497</td>\n",
       "      <td>0.204329</td>\n",
       "      <td>N</td>\n",
       "    </tr>\n",
       "    <tr>\n",
       "      <th>83808</th>\n",
       "      <td>2.425532</td>\n",
       "      <td>-0.238208</td>\n",
       "      <td>1.294213</td>\n",
       "      <td>-0.312621</td>\n",
       "      <td>-0.238095</td>\n",
       "      <td>2.425532</td>\n",
       "      <td>0.194700</td>\n",
       "      <td>-0.30</td>\n",
       "      <td>0.194700</td>\n",
       "      <td>0.223147</td>\n",
       "      <td>N</td>\n",
       "    </tr>\n",
       "  </tbody>\n",
       "</table>\n",
       "<p>28607 rows × 11 columns</p>\n",
       "</div>"
      ],
      "text/plain": [
       "       0_pre-RR   0_pPeak   0_rPeak   0_sPeak  0_qt_interval  1_pre-RR  \\\n",
       "420   -0.776596 -0.441555  0.266343  0.119755      -0.357143 -0.776596   \n",
       "644    0.702128  0.110813  0.284297  0.070290      -0.261905  0.702128   \n",
       "1537  -0.319149 -0.117868  0.373583  0.117490      -0.285714 -0.319149   \n",
       "1966  -0.712766 -2.296417 -0.064934 -0.547229       1.595238 -0.712766   \n",
       "1967  -0.946809  4.175346 -0.242240 -0.526348       3.238095 -0.946809   \n",
       "...         ...       ...       ...       ...            ...       ...   \n",
       "13067  1.329787 -0.395716  0.874214  1.346699      -0.238095  1.329787   \n",
       "13250  0.478723 -0.114855  0.578480  1.225794      -0.190476  0.478723   \n",
       "71857 -0.478723 -0.159711 -0.235514 -0.009617       2.309524 -0.478723   \n",
       "62652  1.755319 -0.579410 -0.730680 -0.094958       0.047619  1.755319   \n",
       "83808  2.425532 -0.238208  1.294213 -0.312621      -0.238095  2.425532   \n",
       "\n",
       "        1_qPeak  1_qt_interval  1_qrs_morph0  1_qrs_morph1  type  \n",
       "420    0.228382          -1.15      0.228382      0.226947  SVEB  \n",
       "644    0.270895          -0.30      0.270895      0.270943  SVEB  \n",
       "1537   0.212115           0.55      0.212115      0.212151  SVEB  \n",
       "1966   0.183384           0.75      0.183384      0.204919   VEB  \n",
       "1967  -0.717862          -0.30     -0.717862     -0.677092   VEB  \n",
       "...         ...            ...           ...           ...   ...  \n",
       "13067 -0.417100          -0.60     -0.417100     -0.393824     N  \n",
       "13250 -0.221401          -0.70     -0.221401     -0.205617     N  \n",
       "71857 -0.061466          -0.20     -0.061466     -0.108109     N  \n",
       "62652  0.075497           0.10      0.075497      0.204329     N  \n",
       "83808  0.194700          -0.30      0.194700      0.223147     N  \n",
       "\n",
       "[28607 rows x 11 columns]"
      ]
     },
     "execution_count": 18,
     "metadata": {},
     "output_type": "execute_result"
    }
   ],
   "source": [
    "ecg_df"
   ]
  },
  {
   "cell_type": "code",
   "execution_count": 19,
   "id": "c10057a3",
   "metadata": {},
   "outputs": [],
   "source": [
    "X = ecg_df.drop('type', axis=1)\n",
    "y = ecg_df['type']\n",
    "lb=LabelEncoder()\n",
    "y=lb.fit_transform(y)"
   ]
  },
  {
   "cell_type": "code",
   "execution_count": 20,
   "id": "90717bb9",
   "metadata": {},
   "outputs": [],
   "source": [
    "x_train, x_test, y_train, y_test = train_test_split(X, y, test_size=0.2, random_state=42)"
   ]
  },
  {
   "cell_type": "code",
   "execution_count": 21,
   "id": "4798a9ca",
   "metadata": {},
   "outputs": [],
   "source": [
    "x_train, x_val, y_train, y_val = train_test_split(x_train, y_train, test_size=0.2, random_state=42)"
   ]
  },
  {
   "cell_type": "code",
   "execution_count": 31,
   "id": "9be6069a",
   "metadata": {},
   "outputs": [
    {
     "name": "stdout",
     "output_type": "stream",
     "text": [
      "Collecting imbalanced-learn\n",
      "  Downloading imbalanced_learn-0.11.0-py3-none-any.whl.metadata (8.3 kB)\n",
      "Requirement already satisfied: numpy>=1.17.3 in /home/ec2-user/anaconda3/envs/tensorflow2_p310/lib/python3.10/site-packages (from imbalanced-learn) (1.26.1)\n",
      "Requirement already satisfied: scipy>=1.5.0 in /home/ec2-user/anaconda3/envs/tensorflow2_p310/lib/python3.10/site-packages (from imbalanced-learn) (1.11.3)\n",
      "Requirement already satisfied: scikit-learn>=1.0.2 in /home/ec2-user/anaconda3/envs/tensorflow2_p310/lib/python3.10/site-packages (from imbalanced-learn) (1.3.2)\n",
      "Requirement already satisfied: joblib>=1.1.1 in /home/ec2-user/anaconda3/envs/tensorflow2_p310/lib/python3.10/site-packages (from imbalanced-learn) (1.3.2)\n",
      "Requirement already satisfied: threadpoolctl>=2.0.0 in /home/ec2-user/anaconda3/envs/tensorflow2_p310/lib/python3.10/site-packages (from imbalanced-learn) (3.2.0)\n",
      "Downloading imbalanced_learn-0.11.0-py3-none-any.whl (235 kB)\n",
      "\u001b[2K   \u001b[90m━━━━━━━━━━━━━━━━━━━━━━━━━━━━━━━━━━━━━━━━\u001b[0m \u001b[32m235.6/235.6 kB\u001b[0m \u001b[31m12.7 MB/s\u001b[0m eta \u001b[36m0:00:00\u001b[0m\n",
      "\u001b[?25hInstalling collected packages: imbalanced-learn\n",
      "Successfully installed imbalanced-learn-0.11.0\n",
      "Note: you may need to restart the kernel to use updated packages.\n"
     ]
    }
   ],
   "source": [
    "pip install -U imbalanced-learn"
   ]
  },
  {
   "cell_type": "code",
   "execution_count": 22,
   "id": "e6bf870c-de60-464b-b735-b241472e1445",
   "metadata": {
    "tags": []
   },
   "outputs": [
    {
     "name": "stdout",
     "output_type": "stream",
     "text": [
      "Before SMOTE:\n",
      "1    11541\n",
      "3     4492\n",
      "2     1758\n",
      "0      517\n",
      "Name: count, dtype: int64\n",
      "After SMOTE:\n",
      "0    11541\n",
      "2    11541\n",
      "1    11541\n",
      "3    11541\n",
      "Name: count, dtype: int64\n"
     ]
    }
   ],
   "source": [
    "from imblearn.over_sampling import SMOTE\n",
    "import numpy as np\n",
    "import pandas as pd\n",
    "smote = SMOTE()\n",
    "x_train2, y_train2 = smote.fit_resample(x_train, y_train)\n",
    "print(\"Before SMOTE:\")\n",
    "print(pd.Series(y_train).value_counts())\n",
    "print(\"After SMOTE:\")\n",
    "print(pd.Series(y_train2).value_counts())"
   ]
  },
  {
   "cell_type": "code",
   "execution_count": 23,
   "id": "ca34b306",
   "metadata": {},
   "outputs": [
    {
     "data": {
      "text/html": [
       "<div>\n",
       "<style scoped>\n",
       "    .dataframe tbody tr th:only-of-type {\n",
       "        vertical-align: middle;\n",
       "    }\n",
       "\n",
       "    .dataframe tbody tr th {\n",
       "        vertical-align: top;\n",
       "    }\n",
       "\n",
       "    .dataframe thead th {\n",
       "        text-align: right;\n",
       "    }\n",
       "</style>\n",
       "<table border=\"1\" class=\"dataframe\">\n",
       "  <thead>\n",
       "    <tr style=\"text-align: right;\">\n",
       "      <th></th>\n",
       "      <th>0_pre-RR</th>\n",
       "      <th>0_pPeak</th>\n",
       "      <th>0_rPeak</th>\n",
       "      <th>0_sPeak</th>\n",
       "      <th>0_qt_interval</th>\n",
       "      <th>1_pre-RR</th>\n",
       "      <th>1_qPeak</th>\n",
       "      <th>1_qt_interval</th>\n",
       "      <th>1_qrs_morph0</th>\n",
       "      <th>1_qrs_morph1</th>\n",
       "    </tr>\n",
       "  </thead>\n",
       "  <tbody>\n",
       "    <tr>\n",
       "      <th>0</th>\n",
       "      <td>-0.712766</td>\n",
       "      <td>1.228926</td>\n",
       "      <td>0.029430</td>\n",
       "      <td>1.001325</td>\n",
       "      <td>0.023810</td>\n",
       "      <td>-0.712766</td>\n",
       "      <td>-0.864242</td>\n",
       "      <td>0.300000</td>\n",
       "      <td>-0.864242</td>\n",
       "      <td>-0.823848</td>\n",
       "    </tr>\n",
       "    <tr>\n",
       "      <th>1</th>\n",
       "      <td>-1.063830</td>\n",
       "      <td>0.418602</td>\n",
       "      <td>0.114163</td>\n",
       "      <td>1.035966</td>\n",
       "      <td>-0.642857</td>\n",
       "      <td>-1.063830</td>\n",
       "      <td>0.122571</td>\n",
       "      <td>-0.350000</td>\n",
       "      <td>0.122571</td>\n",
       "      <td>0.125187</td>\n",
       "    </tr>\n",
       "    <tr>\n",
       "      <th>2</th>\n",
       "      <td>-0.085106</td>\n",
       "      <td>0.159760</td>\n",
       "      <td>-0.820034</td>\n",
       "      <td>0.654037</td>\n",
       "      <td>-0.190476</td>\n",
       "      <td>-0.085106</td>\n",
       "      <td>0.219327</td>\n",
       "      <td>-0.100000</td>\n",
       "      <td>0.219327</td>\n",
       "      <td>0.242506</td>\n",
       "    </tr>\n",
       "    <tr>\n",
       "      <th>3</th>\n",
       "      <td>0.063830</td>\n",
       "      <td>-0.743316</td>\n",
       "      <td>0.503729</td>\n",
       "      <td>-0.140574</td>\n",
       "      <td>-0.095238</td>\n",
       "      <td>0.063830</td>\n",
       "      <td>0.184785</td>\n",
       "      <td>-0.150000</td>\n",
       "      <td>0.184785</td>\n",
       "      <td>0.294787</td>\n",
       "    </tr>\n",
       "    <tr>\n",
       "      <th>4</th>\n",
       "      <td>0.680851</td>\n",
       "      <td>-0.177981</td>\n",
       "      <td>-1.026374</td>\n",
       "      <td>0.188623</td>\n",
       "      <td>-0.380952</td>\n",
       "      <td>0.680851</td>\n",
       "      <td>-0.719766</td>\n",
       "      <td>-0.550000</td>\n",
       "      <td>-0.719766</td>\n",
       "      <td>-0.684903</td>\n",
       "    </tr>\n",
       "    <tr>\n",
       "      <th>...</th>\n",
       "      <td>...</td>\n",
       "      <td>...</td>\n",
       "      <td>...</td>\n",
       "      <td>...</td>\n",
       "      <td>...</td>\n",
       "      <td>...</td>\n",
       "      <td>...</td>\n",
       "      <td>...</td>\n",
       "      <td>...</td>\n",
       "      <td>...</td>\n",
       "    </tr>\n",
       "    <tr>\n",
       "      <th>46159</th>\n",
       "      <td>-0.675943</td>\n",
       "      <td>0.687799</td>\n",
       "      <td>0.353130</td>\n",
       "      <td>-0.139493</td>\n",
       "      <td>2.619048</td>\n",
       "      <td>-0.675943</td>\n",
       "      <td>-0.704375</td>\n",
       "      <td>10.953715</td>\n",
       "      <td>-0.704375</td>\n",
       "      <td>-0.469619</td>\n",
       "    </tr>\n",
       "    <tr>\n",
       "      <th>46160</th>\n",
       "      <td>-1.519445</td>\n",
       "      <td>-2.350900</td>\n",
       "      <td>-3.432646</td>\n",
       "      <td>-0.581504</td>\n",
       "      <td>0.138758</td>\n",
       "      <td>-1.519445</td>\n",
       "      <td>-0.219204</td>\n",
       "      <td>1.855130</td>\n",
       "      <td>-0.219204</td>\n",
       "      <td>-0.097364</td>\n",
       "    </tr>\n",
       "    <tr>\n",
       "      <th>46161</th>\n",
       "      <td>-0.749399</td>\n",
       "      <td>-0.175509</td>\n",
       "      <td>1.414589</td>\n",
       "      <td>-0.933810</td>\n",
       "      <td>1.355350</td>\n",
       "      <td>-0.749399</td>\n",
       "      <td>-1.836825</td>\n",
       "      <td>0.674059</td>\n",
       "      <td>-1.836825</td>\n",
       "      <td>-2.056816</td>\n",
       "    </tr>\n",
       "    <tr>\n",
       "      <th>46162</th>\n",
       "      <td>-0.517586</td>\n",
       "      <td>0.192621</td>\n",
       "      <td>-1.836075</td>\n",
       "      <td>0.109838</td>\n",
       "      <td>-0.495338</td>\n",
       "      <td>-0.517586</td>\n",
       "      <td>-1.053279</td>\n",
       "      <td>2.551759</td>\n",
       "      <td>-1.053279</td>\n",
       "      <td>-1.193221</td>\n",
       "    </tr>\n",
       "    <tr>\n",
       "      <th>46163</th>\n",
       "      <td>-0.903136</td>\n",
       "      <td>1.024593</td>\n",
       "      <td>1.691913</td>\n",
       "      <td>-1.174073</td>\n",
       "      <td>3.753759</td>\n",
       "      <td>-0.903136</td>\n",
       "      <td>-0.100872</td>\n",
       "      <td>-0.611184</td>\n",
       "      <td>-0.100872</td>\n",
       "      <td>-0.271402</td>\n",
       "    </tr>\n",
       "  </tbody>\n",
       "</table>\n",
       "<p>46164 rows × 10 columns</p>\n",
       "</div>"
      ],
      "text/plain": [
       "       0_pre-RR   0_pPeak   0_rPeak   0_sPeak  0_qt_interval  1_pre-RR  \\\n",
       "0     -0.712766  1.228926  0.029430  1.001325       0.023810 -0.712766   \n",
       "1     -1.063830  0.418602  0.114163  1.035966      -0.642857 -1.063830   \n",
       "2     -0.085106  0.159760 -0.820034  0.654037      -0.190476 -0.085106   \n",
       "3      0.063830 -0.743316  0.503729 -0.140574      -0.095238  0.063830   \n",
       "4      0.680851 -0.177981 -1.026374  0.188623      -0.380952  0.680851   \n",
       "...         ...       ...       ...       ...            ...       ...   \n",
       "46159 -0.675943  0.687799  0.353130 -0.139493       2.619048 -0.675943   \n",
       "46160 -1.519445 -2.350900 -3.432646 -0.581504       0.138758 -1.519445   \n",
       "46161 -0.749399 -0.175509  1.414589 -0.933810       1.355350 -0.749399   \n",
       "46162 -0.517586  0.192621 -1.836075  0.109838      -0.495338 -0.517586   \n",
       "46163 -0.903136  1.024593  1.691913 -1.174073       3.753759 -0.903136   \n",
       "\n",
       "        1_qPeak  1_qt_interval  1_qrs_morph0  1_qrs_morph1  \n",
       "0     -0.864242       0.300000     -0.864242     -0.823848  \n",
       "1      0.122571      -0.350000      0.122571      0.125187  \n",
       "2      0.219327      -0.100000      0.219327      0.242506  \n",
       "3      0.184785      -0.150000      0.184785      0.294787  \n",
       "4     -0.719766      -0.550000     -0.719766     -0.684903  \n",
       "...         ...            ...           ...           ...  \n",
       "46159 -0.704375      10.953715     -0.704375     -0.469619  \n",
       "46160 -0.219204       1.855130     -0.219204     -0.097364  \n",
       "46161 -1.836825       0.674059     -1.836825     -2.056816  \n",
       "46162 -1.053279       2.551759     -1.053279     -1.193221  \n",
       "46163 -0.100872      -0.611184     -0.100872     -0.271402  \n",
       "\n",
       "[46164 rows x 10 columns]"
      ]
     },
     "execution_count": 23,
     "metadata": {},
     "output_type": "execute_result"
    }
   ],
   "source": [
    "x_train2"
   ]
  },
  {
   "cell_type": "code",
   "execution_count": 24,
   "id": "eb20d242",
   "metadata": {},
   "outputs": [
    {
     "data": {
      "text/plain": [
       "array([0, 2, 2, ..., 3, 3, 3])"
      ]
     },
     "execution_count": 24,
     "metadata": {},
     "output_type": "execute_result"
    }
   ],
   "source": [
    "y_train2"
   ]
  },
  {
   "cell_type": "code",
   "execution_count": 25,
   "id": "ec2134cc-04aa-48d1-9f3d-d4fca4e98430",
   "metadata": {
    "tags": []
   },
   "outputs": [],
   "source": [
    "from tensorflow.keras import Sequential,utils\n",
    "from tensorflow.keras.layers import Flatten, Dense, Conv1D, MaxPool1D, Dropout\n",
    "from keras.models import Sequential\n",
    "from keras.layers import Conv1D, MaxPooling1D, Flatten, Dense, Dropout, GRU"
   ]
  },
  {
   "cell_type": "code",
   "execution_count": 20,
   "id": "cfe40bb5",
   "metadata": {},
   "outputs": [],
   "source": [
    "import os\n",
    "os.environ['CUDA_VISIBLE_DEVICES'] = \"0\""
   ]
  },
  {
   "cell_type": "code",
   "execution_count": 26,
   "id": "1866fc02-bbe9-40c0-b194-0a4ad1e3dcf6",
   "metadata": {
    "tags": []
   },
   "outputs": [],
   "source": [
    "model = Sequential()\n",
    "\n",
    "model.add(Conv1D(filters=32, kernel_size=3, padding='same', activation='relu', input_shape=(x_train.shape[1], 1)))\n",
    "model.add(Conv1D(filters=64, kernel_size=3, padding='same', activation='relu'))\n",
    "model.add(Conv1D(filters=128, kernel_size=5, padding='same', activation='relu'))\n",
    "\n",
    "model.add(MaxPooling1D(pool_size=3, strides=2, padding='same'))\n",
    "model.add(Dropout(0.2))\n",
    "\n",
    "model.add(Conv1D(filters=256, kernel_size=3, padding='same', activation='relu'))\n",
    "model.add(Conv1D(filters=512, kernel_size=3, padding='same', activation='relu'))\n",
    "model.add(MaxPooling1D(pool_size=3, strides=2, padding='same'))\n",
    "model.add(Dropout(0.2))\n",
    "\n",
    "gru_units = 128 \n",
    "model.add(GRU(gru_units))\n",
    "\n",
    "model.add(Dense(units=512, activation='relu'))\n",
    "model.add(Dropout(0.2))\n",
    "model.add(Dense(units=1024, activation='relu'))\n",
    "model.add(Dropout(0.2))\n",
    "\n",
    "model.add(Flatten())\n",
    "\n",
    "model.add(Dense(units=4, activation='softmax'))\n"
   ]
  },
  {
   "cell_type": "code",
   "execution_count": 27,
   "id": "f164264c-b525-4a79-9761-f785c8af92a4",
   "metadata": {
    "tags": []
   },
   "outputs": [],
   "source": [
    "model.compile(optimizer='adam', loss = 'sparse_categorical_crossentropy', metrics=['accuracy'])"
   ]
  },
  {
   "cell_type": "code",
   "execution_count": 28,
   "id": "f4968fda-d060-482b-994d-fd5b0ecf6bfa",
   "metadata": {
    "tags": []
   },
   "outputs": [
    {
     "name": "stdout",
     "output_type": "stream",
     "text": [
      "Epoch 1/100\n",
      "1443/1443 [==============================] - 30s 19ms/step - loss: 0.3844 - accuracy: 0.8663 - val_loss: 0.2672 - val_accuracy: 0.9021\n",
      "Epoch 2/100\n",
      "1443/1443 [==============================] - 30s 21ms/step - loss: 0.2023 - accuracy: 0.9329 - val_loss: 0.2488 - val_accuracy: 0.9159\n",
      "Epoch 3/100\n",
      "1443/1443 [==============================] - 31s 21ms/step - loss: 0.1626 - accuracy: 0.9463 - val_loss: 0.1999 - val_accuracy: 0.9349\n",
      "Epoch 4/100\n",
      "1443/1443 [==============================] - 31s 22ms/step - loss: 0.1403 - accuracy: 0.9538 - val_loss: 0.2040 - val_accuracy: 0.9240\n",
      "Epoch 5/100\n",
      "1443/1443 [==============================] - 30s 21ms/step - loss: 0.1222 - accuracy: 0.9600 - val_loss: 0.2337 - val_accuracy: 0.9270\n",
      "Epoch 6/100\n",
      "1443/1443 [==============================] - 30s 21ms/step - loss: 0.1108 - accuracy: 0.9632 - val_loss: 0.2178 - val_accuracy: 0.9338\n",
      "Epoch 7/100\n",
      "1443/1443 [==============================] - 30s 21ms/step - loss: 0.1012 - accuracy: 0.9664 - val_loss: 0.2326 - val_accuracy: 0.9288\n",
      "Epoch 8/100\n",
      "1443/1443 [==============================] - 32s 22ms/step - loss: 0.0940 - accuracy: 0.9693 - val_loss: 0.2135 - val_accuracy: 0.9307\n",
      "Epoch 9/100\n",
      "1443/1443 [==============================] - 30s 21ms/step - loss: 0.0898 - accuracy: 0.9705 - val_loss: 0.2385 - val_accuracy: 0.9270\n",
      "Epoch 10/100\n",
      "1443/1443 [==============================] - 31s 22ms/step - loss: 0.0875 - accuracy: 0.9716 - val_loss: 0.2178 - val_accuracy: 0.9355\n",
      "Epoch 11/100\n",
      "1443/1443 [==============================] - 33s 23ms/step - loss: 0.0787 - accuracy: 0.9742 - val_loss: 0.2106 - val_accuracy: 0.9386\n",
      "Epoch 12/100\n",
      "1443/1443 [==============================] - 30s 21ms/step - loss: 0.0742 - accuracy: 0.9752 - val_loss: 0.2309 - val_accuracy: 0.9428\n",
      "Epoch 13/100\n",
      "1443/1443 [==============================] - 32s 22ms/step - loss: 0.0731 - accuracy: 0.9758 - val_loss: 0.2497 - val_accuracy: 0.9205\n",
      "Epoch 14/100\n",
      "1443/1443 [==============================] - 30s 21ms/step - loss: 0.0719 - accuracy: 0.9761 - val_loss: 0.2133 - val_accuracy: 0.9449\n",
      "Epoch 15/100\n",
      "1443/1443 [==============================] - 26s 18ms/step - loss: 0.0688 - accuracy: 0.9782 - val_loss: 0.2249 - val_accuracy: 0.9417\n",
      "Epoch 16/100\n",
      "1443/1443 [==============================] - 25s 18ms/step - loss: 0.0650 - accuracy: 0.9800 - val_loss: 0.2047 - val_accuracy: 0.9371\n",
      "Epoch 17/100\n",
      "1443/1443 [==============================] - 26s 18ms/step - loss: 0.0649 - accuracy: 0.9796 - val_loss: 0.2094 - val_accuracy: 0.9406\n",
      "Epoch 18/100\n",
      "1443/1443 [==============================] - 26s 18ms/step - loss: 0.0632 - accuracy: 0.9794 - val_loss: 0.2396 - val_accuracy: 0.9463\n",
      "Epoch 19/100\n",
      "1443/1443 [==============================] - 25s 17ms/step - loss: 0.0640 - accuracy: 0.9790 - val_loss: 0.2366 - val_accuracy: 0.9487\n",
      "Epoch 20/100\n",
      "1443/1443 [==============================] - 25s 17ms/step - loss: 0.0604 - accuracy: 0.9803 - val_loss: 0.2155 - val_accuracy: 0.9493\n",
      "Epoch 21/100\n",
      "1443/1443 [==============================] - 25s 17ms/step - loss: 0.0602 - accuracy: 0.9805 - val_loss: 0.2329 - val_accuracy: 0.9410\n",
      "Epoch 22/100\n",
      "1443/1443 [==============================] - 26s 18ms/step - loss: 0.0593 - accuracy: 0.9813 - val_loss: 0.2278 - val_accuracy: 0.9425\n",
      "Epoch 23/100\n",
      "1443/1443 [==============================] - 26s 18ms/step - loss: 0.0593 - accuracy: 0.9818 - val_loss: 0.2223 - val_accuracy: 0.9445\n"
     ]
    }
   ],
   "source": [
    "from tensorflow.keras.callbacks import EarlyStopping\n",
    "\n",
    "# Define the EarlyStopping callback\n",
    "early_stopping = EarlyStopping(monitor='val_loss', patience=20, restore_best_weights=True)\n",
    "\n",
    "# Use the EarlyStopping callback in the fit method\n",
    "history = model.fit(x_train2, y_train2, validation_data=(x_val, y_val), epochs=100, callbacks=[early_stopping])\n"
   ]
  },
  {
   "cell_type": "code",
   "execution_count": 29,
   "id": "7e725cbb-9c0e-4222-a26c-ca55c4415111",
   "metadata": {
    "tags": []
   },
   "outputs": [],
   "source": [
    "model.save('ecg_classifier4.keras')"
   ]
  },
  {
   "cell_type": "code",
   "execution_count": 30,
   "id": "1c35aff1-b7d4-49dc-8f7a-ec7e2c691095",
   "metadata": {
    "tags": []
   },
   "outputs": [],
   "source": [
    "from tensorflow import keras\n",
    "model = keras.models.load_model('ecg_classifier4.keras')"
   ]
  },
  {
   "cell_type": "code",
   "execution_count": 31,
   "id": "eacc3969-c21c-4d24-b9e9-70e712a8af14",
   "metadata": {
    "tags": []
   },
   "outputs": [
    {
     "name": "stdout",
     "output_type": "stream",
     "text": [
      "179/179 [==============================] - 2s 5ms/step - loss: 0.1911 - accuracy: 0.9378\n",
      "Test Loss: 0.1910569816827774\n",
      "Test Metrics: [0.9377840161323547]\n"
     ]
    }
   ],
   "source": [
    "results = model.evaluate(x_test, y_test)\n",
    "print(\"Test Loss:\", results[0])\n",
    "print(\"Test Metrics:\", results[1:])"
   ]
  },
  {
   "cell_type": "code",
   "execution_count": 32,
   "id": "920f2fed-4f75-4afb-9dac-7a92cd67b86a",
   "metadata": {
    "tags": []
   },
   "outputs": [
    {
     "data": {
      "text/plain": [
       "Text(0.5, 0, 'epoch')"
      ]
     },
     "execution_count": 32,
     "metadata": {},
     "output_type": "execute_result"
    },
    {
     "data": {
      "image/png": "[encoded data removed]",
      "text/plain": [
       "<Figure size 640x480 with 1 Axes>"
      ]
     },
     "metadata": {},
     "output_type": "display_data"
    }
   ],
   "source": [
    "plt.plot(history.history['accuracy'])\n",
    "plt.plot(history.history['val_accuracy'])\n",
    "plt.ylim(0,1)\n",
    "plt.legend(['Training', 'Validation'])\n",
    "plt.title(\"Training and validation accuracy\")\n",
    "plt.xlabel('epoch')"
   ]
  },
  {
   "cell_type": "code",
   "execution_count": 33,
   "id": "ec7aee3f",
   "metadata": {},
   "outputs": [
    {
     "data": {
      "text/plain": [
       "Text(0.5, 0, 'epoch')"
      ]
     },
     "execution_count": 33,
     "metadata": {},
     "output_type": "execute_result"
    },
    {
     "data": {
      "image/png": "[encoded data removed]",
      "text/plain": [
       "<Figure size 640x480 with 1 Axes>"
      ]
     },
     "metadata": {},
     "output_type": "display_data"
    }
   ],
   "source": [
    "plt.plot(history.history['loss'])\n",
    "plt.plot(history.history['val_loss'])\n",
    "plt.ylim(0,1)\n",
    "plt.legend(['Training', 'Validation'])\n",
    "plt.title(\"Training and validation loss\")\n",
    "plt.xlabel('epoch')"
   ]
  },
  {
   "cell_type": "code",
   "execution_count": 34,
   "id": "eabb80cc-5e5b-4a49-88e7-65ccf27be6cd",
   "metadata": {
    "tags": []
   },
   "outputs": [
    {
     "name": "stdout",
     "output_type": "stream",
     "text": [
      "144/144 [==============================] - 1s 4ms/step\n",
      "Recall: 0.9349\n",
      "F1 Score: 0.9369\n",
      "Precision: 0.9413\n"
     ]
    }
   ],
   "source": [
    "from sklearn.metrics import precision_recall_fscore_support\n",
    "\n",
    "# Assuming y_val is your true labels and y_pred_classes is your predicted labels\n",
    "y_pred = model.predict(x_val)\n",
    "\n",
    "# Convert predictions to class labels\n",
    "y_pred_classes = np.argmax(y_pred, axis=1)\n",
    "\n",
    "# Calculate precision, recall, and f1 score\n",
    "precision, recall, f1_score, _ = precision_recall_fscore_support(y_val, y_pred_classes, average='weighted')\n",
    "\n",
    "# Print recall and f1 score\n",
    "print(f'Recall: {recall:.4f}')\n",
    "print(f'F1 Score: {f1_score:.4f}')\n",
    "print(f'Precision: {precision:.4f}')\n"
   ]
  }
 ],
 "metadata": {
  "availableInstances": [
   {
    "_defaultOrder": 0,
    "_isFastLaunch": true,
    "category": "General purpose",
    "gpuNum": 0,
    "hideHardwareSpecs": false,
    "memoryGiB": 4,
    "name": "ml.t3.medium",
    "vcpuNum": 2
   },
   {
    "_defaultOrder": 1,
    "_isFastLaunch": false,
    "category": "General purpose",
    "gpuNum": 0,
    "hideHardwareSpecs": false,
    "memoryGiB": 8,
    "name": "ml.t3.large",
    "vcpuNum": 2
   },
   {
    "_defaultOrder": 2,
    "_isFastLaunch": false,
    "category": "General purpose",
    "gpuNum": 0,
    "hideHardwareSpecs": false,
    "memoryGiB": 16,
    "name": "ml.t3.xlarge",
    "vcpuNum": 4
   },
   {
    "_defaultOrder": 3,
    "_isFastLaunch": false,
    "category": "General purpose",
    "gpuNum": 0,
    "hideHardwareSpecs": false,
    "memoryGiB": 32,
    "name": "ml.t3.2xlarge",
    "vcpuNum": 8
   },
   {
    "_defaultOrder": 4,
    "_isFastLaunch": true,
    "category": "General purpose",
    "gpuNum": 0,
    "hideHardwareSpecs": false,
    "memoryGiB": 8,
    "name": "ml.m5.large",
    "vcpuNum": 2
   },
   {
    "_defaultOrder": 5,
    "_isFastLaunch": false,
    "category": "General purpose",
    "gpuNum": 0,
    "hideHardwareSpecs": false,
    "memoryGiB": 16,
    "name": "ml.m5.xlarge",
    "vcpuNum": 4
   },
   {
    "_defaultOrder": 6,
    "_isFastLaunch": false,
    "category": "General purpose",
    "gpuNum": 0,
    "hideHardwareSpecs": false,
    "memoryGiB": 32,
    "name": "ml.m5.2xlarge",
    "vcpuNum": 8
   },
   {
    "_defaultOrder": 7,
    "_isFastLaunch": false,
    "category": "General purpose",
    "gpuNum": 0,
    "hideHardwareSpecs": false,
    "memoryGiB": 64,
    "name": "ml.m5.4xlarge",
    "vcpuNum": 16
   },
   {
    "_defaultOrder": 8,
    "_isFastLaunch": false,
    "category": "General purpose",
    "gpuNum": 0,
    "hideHardwareSpecs": false,
    "memoryGiB": 128,
    "name": "ml.m5.8xlarge",
    "vcpuNum": 32
   },
   {
    "_defaultOrder": 9,
    "_isFastLaunch": false,
    "category": "General purpose",
    "gpuNum": 0,
    "hideHardwareSpecs": false,
    "memoryGiB": 192,
    "name": "ml.m5.12xlarge",
    "vcpuNum": 48
   },
   {
    "_defaultOrder": 10,
    "_isFastLaunch": false,
    "category": "General purpose",
    "gpuNum": 0,
    "hideHardwareSpecs": false,
    "memoryGiB": 256,
    "name": "ml.m5.16xlarge",
    "vcpuNum": 64
   },
   {
    "_defaultOrder": 11,
    "_isFastLaunch": false,
    "category": "General purpose",
    "gpuNum": 0,
    "hideHardwareSpecs": false,
    "memoryGiB": 384,
    "name": "ml.m5.24xlarge",
    "vcpuNum": 96
   },
   {
    "_defaultOrder": 12,
    "_isFastLaunch": false,
    "category": "General purpose",
    "gpuNum": 0,
    "hideHardwareSpecs": false,
    "memoryGiB": 8,
    "name": "ml.m5d.large",
    "vcpuNum": 2
   },
   {
    "_defaultOrder": 13,
    "_isFastLaunch": false,
    "category": "General purpose",
    "gpuNum": 0,
    "hideHardwareSpecs": false,
    "memoryGiB": 16,
    "name": "ml.m5d.xlarge",
    "vcpuNum": 4
   },
   {
    "_defaultOrder": 14,
    "_isFastLaunch": false,
    "category": "General purpose",
    "gpuNum": 0,
    "hideHardwareSpecs": false,
    "memoryGiB": 32,
    "name": "ml.m5d.2xlarge",
    "vcpuNum": 8
   },
   {
    "_defaultOrder": 15,
    "_isFastLaunch": false,
    "category": "General purpose",
    "gpuNum": 0,
    "hideHardwareSpecs": false,
    "memoryGiB": 64,
    "name": "ml.m5d.4xlarge",
    "vcpuNum": 16
   },
   {
    "_defaultOrder": 16,
    "_isFastLaunch": false,
    "category": "General purpose",
    "gpuNum": 0,
    "hideHardwareSpecs": false,
    "memoryGiB": 128,
    "name": "ml.m5d.8xlarge",
    "vcpuNum": 32
   },
   {
    "_defaultOrder": 17,
    "_isFastLaunch": false,
    "category": "General purpose",
    "gpuNum": 0,
    "hideHardwareSpecs": false,
    "memoryGiB": 192,
    "name": "ml.m5d.12xlarge",
    "vcpuNum": 48
   },
   {
    "_defaultOrder": 18,
    "_isFastLaunch": false,
    "category": "General purpose",
    "gpuNum": 0,
    "hideHardwareSpecs": false,
    "memoryGiB": 256,
    "name": "ml.m5d.16xlarge",
    "vcpuNum": 64
   },
   {
    "_defaultOrder": 19,
    "_isFastLaunch": false,
    "category": "General purpose",
    "gpuNum": 0,
    "hideHardwareSpecs": false,
    "memoryGiB": 384,
    "name": "ml.m5d.24xlarge",
    "vcpuNum": 96
   },
   {
    "_defaultOrder": 20,
    "_isFastLaunch": false,
    "category": "General purpose",
    "gpuNum": 0,
    "hideHardwareSpecs": true,
    "memoryGiB": 0,
    "name": "ml.geospatial.interactive",
    "supportedImageNames": [
     "sagemaker-geospatial-v1-0"
    ],
    "vcpuNum": 0
   },
   {
    "_defaultOrder": 21,
    "_isFastLaunch": true,
    "category": "Compute optimized",
    "gpuNum": 0,
    "hideHardwareSpecs": false,
    "memoryGiB": 4,
    "name": "ml.c5.large",
    "vcpuNum": 2
   },
   {
    "_defaultOrder": 22,
    "_isFastLaunch": false,
    "category": "Compute optimized",
    "gpuNum": 0,
    "hideHardwareSpecs": false,
    "memoryGiB": 8,
    "name": "ml.c5.xlarge",
    "vcpuNum": 4
   },
   {
    "_defaultOrder": 23,
    "_isFastLaunch": false,
    "category": "Compute optimized",
    "gpuNum": 0,
    "hideHardwareSpecs": false,
    "memoryGiB": 16,
    "name": "ml.c5.2xlarge",
    "vcpuNum": 8
   },
   {
    "_defaultOrder": 24,
    "_isFastLaunch": false,
    "category": "Compute optimized",
    "gpuNum": 0,
    "hideHardwareSpecs": false,
    "memoryGiB": 32,
    "name": "ml.c5.4xlarge",
    "vcpuNum": 16
   },
   {
    "_defaultOrder": 25,
    "_isFastLaunch": false,
    "category": "Compute optimized",
    "gpuNum": 0,
    "hideHardwareSpecs": false,
    "memoryGiB": 72,
    "name": "ml.c5.9xlarge",
    "vcpuNum": 36
   },
   {
    "_defaultOrder": 26,
    "_isFastLaunch": false,
    "category": "Compute optimized",
    "gpuNum": 0,
    "hideHardwareSpecs": false,
    "memoryGiB": 96,
    "name": "ml.c5.12xlarge",
    "vcpuNum": 48
   },
   {
    "_defaultOrder": 27,
    "_isFastLaunch": false,
    "category": "Compute optimized",
    "gpuNum": 0,
    "hideHardwareSpecs": false,
    "memoryGiB": 144,
    "name": "ml.c5.18xlarge",
    "vcpuNum": 72
   },
   {
    "_defaultOrder": 28,
    "_isFastLaunch": false,
    "category": "Compute optimized",
    "gpuNum": 0,
    "hideHardwareSpecs": false,
    "memoryGiB": 192,
    "name": "ml.c5.24xlarge",
    "vcpuNum": 96
   },
   {
    "_defaultOrder": 29,
    "_isFastLaunch": true,
    "category": "Accelerated computing",
    "gpuNum": 1,
    "hideHardwareSpecs": false,
    "memoryGiB": 16,
    "name": "ml.g4dn.xlarge",
    "vcpuNum": 4
   },
   {
    "_defaultOrder": 30,
    "_isFastLaunch": false,
    "category": "Accelerated computing",
    "gpuNum": 1,
    "hideHardwareSpecs": false,
    "memoryGiB": 32,
    "name": "ml.g4dn.2xlarge",
    "vcpuNum": 8
   },
   {
    "_defaultOrder": 31,
    "_isFastLaunch": false,
    "category": "Accelerated computing",
    "gpuNum": 1,
    "hideHardwareSpecs": false,
    "memoryGiB": 64,
    "name": "ml.g4dn.4xlarge",
    "vcpuNum": 16
   },
   {
    "_defaultOrder": 32,
    "_isFastLaunch": false,
    "category": "Accelerated computing",
    "gpuNum": 1,
    "hideHardwareSpecs": false,
    "memoryGiB": 128,
    "name": "ml.g4dn.8xlarge",
    "vcpuNum": 32
   },
   {
    "_defaultOrder": 33,
    "_isFastLaunch": false,
    "category": "Accelerated computing",
    "gpuNum": 4,
    "hideHardwareSpecs": false,
    "memoryGiB": 192,
    "name": "ml.g4dn.12xlarge",
    "vcpuNum": 48
   },
   {
    "_defaultOrder": 34,
    "_isFastLaunch": false,
    "category": "Accelerated computing",
    "gpuNum": 1,
    "hideHardwareSpecs": false,
    "memoryGiB": 256,
    "name": "ml.g4dn.16xlarge",
    "vcpuNum": 64
   },
   {
    "_defaultOrder": 35,
    "_isFastLaunch": false,
    "category": "Accelerated computing",
    "gpuNum": 1,
    "hideHardwareSpecs": false,
    "memoryGiB": 61,
    "name": "ml.p3.2xlarge",
    "vcpuNum": 8
   },
   {
    "_defaultOrder": 36,
    "_isFastLaunch": false,
    "category": "Accelerated computing",
    "gpuNum": 4,
    "hideHardwareSpecs": false,
    "memoryGiB": 244,
    "name": "ml.p3.8xlarge",
    "vcpuNum": 32
   },
   {
    "_defaultOrder": 37,
    "_isFastLaunch": false,
    "category": "Accelerated computing",
    "gpuNum": 8,
    "hideHardwareSpecs": false,
    "memoryGiB": 488,
    "name": "ml.p3.16xlarge",
    "vcpuNum": 64
   },
   {
    "_defaultOrder": 38,
    "_isFastLaunch": false,
    "category": "Accelerated computing",
    "gpuNum": 8,
    "hideHardwareSpecs": false,
    "memoryGiB": 768,
    "name": "ml.p3dn.24xlarge",
    "vcpuNum": 96
   },
   {
    "_defaultOrder": 39,
    "_isFastLaunch": false,
    "category": "Memory Optimized",
    "gpuNum": 0,
    "hideHardwareSpecs": false,
    "memoryGiB": 16,
    "name": "ml.r5.large",
    "vcpuNum": 2
   },
   {
    "_defaultOrder": 40,
    "_isFastLaunch": false,
    "category": "Memory Optimized",
    "gpuNum": 0,
    "hideHardwareSpecs": false,
    "memoryGiB": 32,
    "name": "ml.r5.xlarge",
    "vcpuNum": 4
   },
   {
    "_defaultOrder": 41,
    "_isFastLaunch": false,
    "category": "Memory Optimized",
    "gpuNum": 0,
    "hideHardwareSpecs": false,
    "memoryGiB": 64,
    "name": "ml.r5.2xlarge",
    "vcpuNum": 8
   },
   {
    "_defaultOrder": 42,
    "_isFastLaunch": false,
    "category": "Memory Optimized",
    "gpuNum": 0,
    "hideHardwareSpecs": false,
    "memoryGiB": 128,
    "name": "ml.r5.4xlarge",
    "vcpuNum": 16
   },
   {
    "_defaultOrder": 43,
    "_isFastLaunch": false,
    "category": "Memory Optimized",
    "gpuNum": 0,
    "hideHardwareSpecs": false,
    "memoryGiB": 256,
    "name": "ml.r5.8xlarge",
    "vcpuNum": 32
   },
   {
    "_defaultOrder": 44,
    "_isFastLaunch": false,
    "category": "Memory Optimized",
    "gpuNum": 0,
    "hideHardwareSpecs": false,
    "memoryGiB": 384,
    "name": "ml.r5.12xlarge",
    "vcpuNum": 48
   },
   {
    "_defaultOrder": 45,
    "_isFastLaunch": false,
    "category": "Memory Optimized",
    "gpuNum": 0,
    "hideHardwareSpecs": false,
    "memoryGiB": 512,
    "name": "ml.r5.16xlarge",
    "vcpuNum": 64
   },
   {
    "_defaultOrder": 46,
    "_isFastLaunch": false,
    "category": "Memory Optimized",
    "gpuNum": 0,
    "hideHardwareSpecs": false,
    "memoryGiB": 768,
    "name": "ml.r5.24xlarge",
    "vcpuNum": 96
   },
   {
    "_defaultOrder": 47,
    "_isFastLaunch": false,
    "category": "Accelerated computing",
    "gpuNum": 1,
    "hideHardwareSpecs": false,
    "memoryGiB": 16,
    "name": "ml.g5.xlarge",
    "vcpuNum": 4
   },
   {
    "_defaultOrder": 48,
    "_isFastLaunch": false,
    "category": "Accelerated computing",
    "gpuNum": 1,
    "hideHardwareSpecs": false,
    "memoryGiB": 32,
    "name": "ml.g5.2xlarge",
    "vcpuNum": 8
   },
   {
    "_defaultOrder": 49,
    "_isFastLaunch": false,
    "category": "Accelerated computing",
    "gpuNum": 1,
    "hideHardwareSpecs": false,
    "memoryGiB": 64,
    "name": "ml.g5.4xlarge",
    "vcpuNum": 16
   },
   {
    "_defaultOrder": 50,
    "_isFastLaunch": false,
    "category": "Accelerated computing",
    "gpuNum": 1,
    "hideHardwareSpecs": false,
    "memoryGiB": 128,
    "name": "ml.g5.8xlarge",
    "vcpuNum": 32
   },
   {
    "_defaultOrder": 51,
    "_isFastLaunch": false,
    "category": "Accelerated computing",
    "gpuNum": 1,
    "hideHardwareSpecs": false,
    "memoryGiB": 256,
    "name": "ml.g5.16xlarge",
    "vcpuNum": 64
   },
   {
    "_defaultOrder": 52,
    "_isFastLaunch": false,
    "category": "Accelerated computing",
    "gpuNum": 4,
    "hideHardwareSpecs": false,
    "memoryGiB": 192,
    "name": "ml.g5.12xlarge",
    "vcpuNum": 48
   },
   {
    "_defaultOrder": 53,
    "_isFastLaunch": false,
    "category": "Accelerated computing",
    "gpuNum": 4,
    "hideHardwareSpecs": false,
    "memoryGiB": 384,
    "name": "ml.g5.24xlarge",
    "vcpuNum": 96
   },
   {
    "_defaultOrder": 54,
    "_isFastLaunch": false,
    "category": "Accelerated computing",
    "gpuNum": 8,
    "hideHardwareSpecs": false,
    "memoryGiB": 768,
    "name": "ml.g5.48xlarge",
    "vcpuNum": 192
   },
   {
    "_defaultOrder": 55,
    "_isFastLaunch": false,
    "category": "Accelerated computing",
    "gpuNum": 8,
    "hideHardwareSpecs": false,
    "memoryGiB": 1152,
    "name": "ml.p4d.24xlarge",
    "vcpuNum": 96
   },
   {
    "_defaultOrder": 56,
    "_isFastLaunch": false,
    "category": "Accelerated computing",
    "gpuNum": 8,
    "hideHardwareSpecs": false,
    "memoryGiB": 1152,
    "name": "ml.p4de.24xlarge",
    "vcpuNum": 96
   }
  ],
  "instance_type": "ml.t3.medium",
  "kernelspec": {
   "display_name": "base",
   "language": "python",
   "name": "python3"
  },
  "language_info": {
   "codemirror_mode": {
    "name": "ipython",
    "version": 3
   },
   "file_extension": ".py",
   "mimetype": "text/x-python",
   "name": "python",
   "nbconvert_exporter": "python",
   "pygments_lexer": "ipython3",
   "version": "3.11.5"
  }
 },
 "nbformat": 4,
 "nbformat_minor": 5
}
